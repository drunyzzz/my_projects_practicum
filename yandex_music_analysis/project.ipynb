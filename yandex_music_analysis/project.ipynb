{
 "cells": [
  {
   "cell_type": "markdown",
   "metadata": {
    "id": "E0vqbgi9ay0H"
   },
   "source": [
    "# Яндекс.Музыка"
   ]
  },
  {
   "cell_type": "markdown",
   "metadata": {
    "id": "VUC88oWjTJw2"
   },
   "source": [
    "Сравнение Москвы и Петербурга окружено мифами. Например:\n",
    " * Москва — мегаполис, подчинённый жёсткому ритму рабочей недели;\n",
    " * Петербург — культурная столица, со своими вкусами.\n",
    "\n",
    "На данных Яндекс.Музыки вы сравните поведение пользователей двух столиц.\n",
    "\n",
    "**Цель исследования** — проверьте три гипотезы:\n",
    "1. Активность пользователей зависит от дня недели. Причём в Москве и Петербурге это проявляется по-разному.\n",
    "2. В понедельник утром в Москве преобладают одни жанры, а в Петербурге — другие. Так же и вечером пятницы преобладают разные жанры — в зависимости от города. \n",
    "3. Москва и Петербург предпочитают разные жанры музыки. В Москве чаще слушают поп-музыку, в Петербурге — русский рэп.\n",
    "\n",
    "**Ход исследования**\n",
    "\n",
    "Данные о поведении пользователей вы получите из файла `yandex_music_project.csv`. О качестве данных ничего не известно. Поэтому перед проверкой гипотез понадобится обзор данных. \n",
    "\n",
    "Вы проверите данные на ошибки и оцените их влияние на исследование. Затем, на этапе предобработки вы поищете возможность исправить самые критичные ошибки данных.\n",
    " \n",
    "Таким образом, исследование пройдёт в три этапа:\n",
    " 1. Обзор данных.\n",
    " 2. Предобработка данных.\n",
    " 3. Проверка гипотез.\n",
    "\n"
   ]
  },
  {
   "cell_type": "markdown",
   "metadata": {
    "id": "Ml1hmfXC_Zcs"
   },
   "source": [
    "## Обзор данных"
   ]
  },
  {
   "cell_type": "markdown",
   "metadata": {},
   "source": [
    "#### Загрузка необходимых библиотек"
   ]
  },
  {
   "cell_type": "code",
   "execution_count": 2,
   "metadata": {
    "id": "AXN7PHPN_Zcs"
   },
   "outputs": [],
   "source": [
    "import pandas as pd"
   ]
  },
  {
   "cell_type": "markdown",
   "metadata": {
    "id": "SG23P8tt_Zcs"
   },
   "source": [
    "#### Загрузка данных"
   ]
  },
  {
   "cell_type": "code",
   "execution_count": 4,
   "metadata": {
    "id": "fFVu7vqh_Zct"
   },
   "outputs": [],
   "source": [
    "df = pd.read_csv('df.csv')"
   ]
  },
  {
   "cell_type": "markdown",
   "metadata": {
    "id": "rDoOMd3uTqnZ"
   },
   "source": [
    "#### Первичный анализ данных"
   ]
  },
  {
   "cell_type": "code",
   "execution_count": 5,
   "metadata": {
    "id": "oWTVX3gW_Zct"
   },
   "outputs": [
    {
     "data": {
      "text/html": [
       "<div>\n",
       "<style scoped>\n",
       "    .dataframe tbody tr th:only-of-type {\n",
       "        vertical-align: middle;\n",
       "    }\n",
       "\n",
       "    .dataframe tbody tr th {\n",
       "        vertical-align: top;\n",
       "    }\n",
       "\n",
       "    .dataframe thead th {\n",
       "        text-align: right;\n",
       "    }\n",
       "</style>\n",
       "<table border=\"1\" class=\"dataframe\">\n",
       "  <thead>\n",
       "    <tr style=\"text-align: right;\">\n",
       "      <th></th>\n",
       "      <th>userID</th>\n",
       "      <th>Track</th>\n",
       "      <th>artist</th>\n",
       "      <th>genre</th>\n",
       "      <th>City</th>\n",
       "      <th>time</th>\n",
       "      <th>Day</th>\n",
       "    </tr>\n",
       "  </thead>\n",
       "  <tbody>\n",
       "    <tr>\n",
       "      <th>0</th>\n",
       "      <td>FFB692EC</td>\n",
       "      <td>Kamigata To Boots</td>\n",
       "      <td>The Mass Missile</td>\n",
       "      <td>rock</td>\n",
       "      <td>Saint-Petersburg</td>\n",
       "      <td>20:28:33</td>\n",
       "      <td>Wednesday</td>\n",
       "    </tr>\n",
       "    <tr>\n",
       "      <th>1</th>\n",
       "      <td>55204538</td>\n",
       "      <td>Delayed Because of Accident</td>\n",
       "      <td>Andreas Rönnberg</td>\n",
       "      <td>rock</td>\n",
       "      <td>Moscow</td>\n",
       "      <td>14:07:09</td>\n",
       "      <td>Friday</td>\n",
       "    </tr>\n",
       "    <tr>\n",
       "      <th>2</th>\n",
       "      <td>20EC38</td>\n",
       "      <td>Funiculì funiculà</td>\n",
       "      <td>Mario Lanza</td>\n",
       "      <td>pop</td>\n",
       "      <td>Saint-Petersburg</td>\n",
       "      <td>20:58:07</td>\n",
       "      <td>Wednesday</td>\n",
       "    </tr>\n",
       "    <tr>\n",
       "      <th>3</th>\n",
       "      <td>A3DD03C9</td>\n",
       "      <td>Dragons in the Sunset</td>\n",
       "      <td>Fire + Ice</td>\n",
       "      <td>folk</td>\n",
       "      <td>Saint-Petersburg</td>\n",
       "      <td>08:37:09</td>\n",
       "      <td>Monday</td>\n",
       "    </tr>\n",
       "    <tr>\n",
       "      <th>4</th>\n",
       "      <td>E2DC1FAE</td>\n",
       "      <td>Soul People</td>\n",
       "      <td>Space Echo</td>\n",
       "      <td>dance</td>\n",
       "      <td>Moscow</td>\n",
       "      <td>08:34:34</td>\n",
       "      <td>Monday</td>\n",
       "    </tr>\n",
       "    <tr>\n",
       "      <th>5</th>\n",
       "      <td>842029A1</td>\n",
       "      <td>Преданная</td>\n",
       "      <td>IMPERVTOR</td>\n",
       "      <td>rusrap</td>\n",
       "      <td>Saint-Petersburg</td>\n",
       "      <td>13:09:41</td>\n",
       "      <td>Friday</td>\n",
       "    </tr>\n",
       "    <tr>\n",
       "      <th>6</th>\n",
       "      <td>4CB90AA5</td>\n",
       "      <td>True</td>\n",
       "      <td>Roman Messer</td>\n",
       "      <td>dance</td>\n",
       "      <td>Moscow</td>\n",
       "      <td>13:00:07</td>\n",
       "      <td>Wednesday</td>\n",
       "    </tr>\n",
       "    <tr>\n",
       "      <th>7</th>\n",
       "      <td>F03E1C1F</td>\n",
       "      <td>Feeling This Way</td>\n",
       "      <td>Polina Griffith</td>\n",
       "      <td>dance</td>\n",
       "      <td>Moscow</td>\n",
       "      <td>20:47:49</td>\n",
       "      <td>Wednesday</td>\n",
       "    </tr>\n",
       "    <tr>\n",
       "      <th>8</th>\n",
       "      <td>8FA1D3BE</td>\n",
       "      <td>И вновь продолжается бой</td>\n",
       "      <td>NaN</td>\n",
       "      <td>ruspop</td>\n",
       "      <td>Moscow</td>\n",
       "      <td>09:17:40</td>\n",
       "      <td>Friday</td>\n",
       "    </tr>\n",
       "    <tr>\n",
       "      <th>9</th>\n",
       "      <td>E772D5C0</td>\n",
       "      <td>Pessimist</td>\n",
       "      <td>NaN</td>\n",
       "      <td>dance</td>\n",
       "      <td>Saint-Petersburg</td>\n",
       "      <td>21:20:49</td>\n",
       "      <td>Wednesday</td>\n",
       "    </tr>\n",
       "  </tbody>\n",
       "</table>\n",
       "</div>"
      ],
      "text/plain": [
       "     userID                        Track            artist   genre  \\\n",
       "0  FFB692EC            Kamigata To Boots  The Mass Missile    rock   \n",
       "1  55204538  Delayed Because of Accident  Andreas Rönnberg    rock   \n",
       "2    20EC38            Funiculì funiculà       Mario Lanza     pop   \n",
       "3  A3DD03C9        Dragons in the Sunset        Fire + Ice    folk   \n",
       "4  E2DC1FAE                  Soul People        Space Echo   dance   \n",
       "5  842029A1                    Преданная         IMPERVTOR  rusrap   \n",
       "6  4CB90AA5                         True      Roman Messer   dance   \n",
       "7  F03E1C1F             Feeling This Way   Polina Griffith   dance   \n",
       "8  8FA1D3BE     И вновь продолжается бой               NaN  ruspop   \n",
       "9  E772D5C0                    Pessimist               NaN   dance   \n",
       "\n",
       "             City        time        Day  \n",
       "0  Saint-Petersburg  20:28:33  Wednesday  \n",
       "1            Moscow  14:07:09     Friday  \n",
       "2  Saint-Petersburg  20:58:07  Wednesday  \n",
       "3  Saint-Petersburg  08:37:09     Monday  \n",
       "4            Moscow  08:34:34     Monday  \n",
       "5  Saint-Petersburg  13:09:41     Friday  \n",
       "6            Moscow  13:00:07  Wednesday  \n",
       "7            Moscow  20:47:49  Wednesday  \n",
       "8            Moscow  09:17:40     Friday  \n",
       "9  Saint-Petersburg  21:20:49  Wednesday  "
      ]
     },
     "metadata": {},
     "output_type": "display_data"
    }
   ],
   "source": [
    "display(df.head(10))"
   ]
  },
  {
   "cell_type": "code",
   "execution_count": 7,
   "metadata": {
    "id": "DSf2kIb-_Zct"
   },
   "outputs": [
    {
     "name": "stdout",
     "output_type": "stream",
     "text": [
      "<class 'pandas.core.frame.DataFrame'>\n",
      "RangeIndex: 65079 entries, 0 to 65078\n",
      "Data columns (total 7 columns):\n",
      " #   Column    Non-Null Count  Dtype \n",
      "---  ------    --------------  ----- \n",
      " 0     userID  65079 non-null  object\n",
      " 1   Track     63848 non-null  object\n",
      " 2   artist    57876 non-null  object\n",
      " 3   genre     63881 non-null  object\n",
      " 4     City    65079 non-null  object\n",
      " 5   time      65079 non-null  object\n",
      " 6   Day       65079 non-null  object\n",
      "dtypes: object(7)\n",
      "memory usage: 3.5+ MB\n"
     ]
    }
   ],
   "source": [
    "df.info()"
   ]
  },
  {
   "cell_type": "markdown",
   "metadata": {
    "id": "MCB6-dXG_Zct"
   },
   "source": [
    "В каждой строке таблицы — данные о прослушанном треке. Часть колонок описывает саму композицию: название, исполнителя и жанр. Остальные данные рассказывают о пользователе: из какого он города, когда он слушал музыку. \n",
    "\n",
    "Предварительно можно утверждать, что, данных достаточно для проверки гипотез. Но встречаются пропуски в данных, а в названиях колонок — расхождения с хорошим стилем.\n",
    "\n",
    "Чтобы двигаться дальше, нужно устранить проблемы в данных."
   ]
  },
  {
   "cell_type": "markdown",
   "metadata": {
    "id": "SjYF6Ub9_Zct"
   },
   "source": [
    "## Предобработка данных"
   ]
  },
  {
   "cell_type": "markdown",
   "metadata": {
    "id": "dIaKXr29_Zct"
   },
   "source": [
    "### Корректировка стиля заголовков"
   ]
  },
  {
   "cell_type": "code",
   "execution_count": 7,
   "metadata": {
    "id": "oKOTdF_Q_Zct"
   },
   "outputs": [
    {
     "data": {
      "text/plain": [
       "Index(['  userID', 'Track', 'artist', 'genre', '  City  ', 'time', 'Day'], dtype='object')"
      ]
     },
     "metadata": {},
     "output_type": "display_data"
    }
   ],
   "source": [
    "display(df.columns)"
   ]
  },
  {
   "cell_type": "code",
   "execution_count": 8,
   "metadata": {
    "id": "ISlFqs5y_Zct"
   },
   "outputs": [],
   "source": [
    "df = df.rename(columns={'  userID':'user_id', 'Track':'track', '  City  ':'city', 'Day':'day'})"
   ]
  },
  {
   "cell_type": "code",
   "execution_count": 9,
   "metadata": {
    "id": "d4NOAmTW_Zct"
   },
   "outputs": [
    {
     "data": {
      "text/plain": [
       "Index(['user_id', 'track', 'artist', 'genre', 'city', 'time', 'day'], dtype='object')"
      ]
     },
     "metadata": {},
     "output_type": "display_data"
    }
   ],
   "source": [
    "display(df.columns)"
   ]
  },
  {
   "cell_type": "markdown",
   "metadata": {},
   "source": [
    "Заголовки приняли необходимый формат. Убраны пробелы, нижний регистр для всех символов."
   ]
  },
  {
   "cell_type": "markdown",
   "metadata": {
    "id": "5ISfbcfY_Zct"
   },
   "source": [
    "### Пропуски значений"
   ]
  },
  {
   "cell_type": "code",
   "execution_count": 10,
   "metadata": {
    "id": "RskX29qr_Zct"
   },
   "outputs": [
    {
     "name": "stdout",
     "output_type": "stream",
     "text": [
      "user_id       0\n",
      "track      1231\n",
      "artist     7203\n",
      "genre      1198\n",
      "city          0\n",
      "time          0\n",
      "day           0\n",
      "dtype: int64\n"
     ]
    }
   ],
   "source": [
    "print(df.isna().sum())"
   ]
  },
  {
   "cell_type": "code",
   "execution_count": 13,
   "metadata": {
    "id": "KplB5qWs_Zct"
   },
   "outputs": [],
   "source": [
    "columns_to_replace = ['track', 'artist', 'genre']\n",
    "for val in columns_to_replace:\n",
    "    df[val] = df[val].fillna('unknown')"
   ]
  },
  {
   "cell_type": "code",
   "execution_count": 14,
   "metadata": {
    "id": "Tq4nYRX4_Zct"
   },
   "outputs": [
    {
     "name": "stdout",
     "output_type": "stream",
     "text": [
      "user_id    0\n",
      "track      0\n",
      "artist     0\n",
      "genre      0\n",
      "city       0\n",
      "time       0\n",
      "day        0\n",
      "dtype: int64\n"
     ]
    }
   ],
   "source": [
    "print(df.isna().sum())"
   ]
  },
  {
   "cell_type": "markdown",
   "metadata": {
    "id": "fSv2laPA_Zct"
   },
   "source": [
    "Заменены пропущенные значения в столбцах `track`, `artist` и `genre` на строку 'unknown' в цикле."
   ]
  },
  {
   "cell_type": "markdown",
   "metadata": {
    "id": "BWKRtBJ3_Zct"
   },
   "source": [
    "### Дубликаты"
   ]
  },
  {
   "cell_type": "code",
   "execution_count": 10,
   "metadata": {
    "id": "36eES_S0_Zct"
   },
   "outputs": [
    {
     "name": "stdout",
     "output_type": "stream",
     "text": [
      "Количество дубликатов: 3826\n"
     ]
    }
   ],
   "source": [
    "print('Количество дубликатов:', df.duplicated().sum())"
   ]
  },
  {
   "cell_type": "markdown",
   "metadata": {
    "id": "Ot25h6XR_Zct"
   },
   "source": [
    "Удаление явных дубликатов:"
   ]
  },
  {
   "cell_type": "code",
   "execution_count": 11,
   "metadata": {
    "id": "exFHq6tt_Zct"
   },
   "outputs": [],
   "source": [
    "df = df.drop_duplicates().reset_index(drop=True)"
   ]
  },
  {
   "cell_type": "code",
   "execution_count": 12,
   "metadata": {
    "id": "-8PuNWQ0_Zct"
   },
   "outputs": [
    {
     "name": "stdout",
     "output_type": "stream",
     "text": [
      "Количество дубликатов: 0\n"
     ]
    }
   ],
   "source": [
    "print('Количество дубликатов:',df.duplicated().sum())"
   ]
  },
  {
   "cell_type": "markdown",
   "metadata": {
    "id": "eSjWwsOh_Zct"
   },
   "source": [
    "Вывод на экран список уникальных названий жанров, отсортированный в алфавитном порядке."
   ]
  },
  {
   "cell_type": "code",
   "execution_count": 18,
   "metadata": {
    "id": "JIUcqzZN_Zct"
   },
   "outputs": [
    {
     "name": "stdout",
     "output_type": "stream",
     "text": [
      "['acid' 'acoustic' 'action' 'adult' 'africa' 'afrikaans' 'alternative'\n",
      " 'alternativepunk' 'ambient' 'americana' 'animated' 'anime' 'arabesk'\n",
      " 'arabic' 'arena' 'argentinetango' 'art' 'audiobook' 'author' 'avantgarde'\n",
      " 'axé' 'baile' 'balkan' 'beats' 'bigroom' 'black' 'bluegrass' 'blues'\n",
      " 'bollywood' 'bossa' 'brazilian' 'breakbeat' 'breaks' 'broadway'\n",
      " 'cantautori' 'cantopop' 'canzone' 'caribbean' 'caucasian' 'celtic'\n",
      " 'chamber' 'chanson' 'children' 'chill' 'chinese' 'choral' 'christian'\n",
      " 'christmas' 'classical' 'classicmetal' 'club' 'colombian' 'comedy'\n",
      " 'conjazz' 'contemporary' 'country' 'cuban' 'dance' 'dancehall' 'dancepop'\n",
      " 'dark' 'death' 'deep' 'deutschrock' 'deutschspr' 'dirty' 'disco' 'dnb'\n",
      " 'documentary' 'downbeat' 'downtempo' 'drum' 'dub' 'dubstep' 'eastern'\n",
      " 'easy' 'electronic' 'electropop' 'emo' 'entehno' 'epicmetal' 'estrada'\n",
      " 'ethnic' 'eurofolk' 'european' 'experimental' 'extrememetal' 'fado'\n",
      " 'fairytail' 'film' 'fitness' 'flamenco' 'folk' 'folklore' 'folkmetal'\n",
      " 'folkrock' 'folktronica' 'forró' 'frankreich' 'französisch' 'french'\n",
      " 'funk' 'future' 'gangsta' 'garage' 'german' 'ghazal' 'gitarre' 'glitch'\n",
      " 'gospel' 'gothic' 'grime' 'grunge' 'gypsy' 'handsup' \"hard'n'heavy\"\n",
      " 'hardcore' 'hardstyle' 'hardtechno' 'hip' 'hip-hop' 'hiphop' 'historisch'\n",
      " 'holiday' 'hop' 'horror' 'house' 'hymn' 'idm' 'independent' 'indian'\n",
      " 'indie' 'indipop' 'industrial' 'inspirational' 'instrumental'\n",
      " 'international' 'irish' 'jam' 'japanese' 'jazz' 'jewish' 'jpop' 'jungle'\n",
      " 'k-pop' 'karadeniz' 'karaoke' 'kayokyoku' 'korean' 'laiko' 'latin'\n",
      " 'latino' 'leftfield' 'local' 'lounge' 'loungeelectronic' 'lovers'\n",
      " 'malaysian' 'mandopop' 'marschmusik' 'meditative' 'mediterranean'\n",
      " 'melodic' 'metal' 'metalcore' 'mexican' 'middle' 'minimal'\n",
      " 'miscellaneous' 'modern' 'mood' 'mpb' 'muslim' 'native' 'neoklassik'\n",
      " 'neue' 'new' 'newage' 'newwave' 'nu' 'nujazz' 'numetal' 'oceania' 'old'\n",
      " 'opera' 'orchestral' 'other' 'piano' 'podcasts' 'pop' 'popdance'\n",
      " 'popelectronic' 'popeurodance' 'poprussian' 'post' 'posthardcore'\n",
      " 'postrock' 'power' 'progmetal' 'progressive' 'psychedelic' 'punjabi'\n",
      " 'punk' 'quebecois' 'ragga' 'ram' 'rancheras' 'rap' 'rave' 'reggae'\n",
      " 'reggaeton' 'regional' 'relax' 'religious' 'retro' 'rhythm' 'rnb' 'rnr'\n",
      " 'rock' 'rockabilly' 'rockalternative' 'rockindie' 'rockother' 'romance'\n",
      " 'roots' 'ruspop' 'rusrap' 'rusrock' 'russian' 'salsa' 'samba' 'scenic'\n",
      " 'schlager' 'self' 'sertanejo' 'shanson' 'shoegazing' 'showtunes' 'singer'\n",
      " 'ska' 'skarock' 'slow' 'smooth' 'soft' 'soul' 'soulful' 'sound'\n",
      " 'soundtrack' 'southern' 'specialty' 'speech' 'spiritual' 'sport'\n",
      " 'stonerrock' 'surf' 'swing' 'synthpop' 'synthrock' 'sängerportrait'\n",
      " 'tango' 'tanzorchester' 'taraftar' 'tatar' 'tech' 'techno' 'teen'\n",
      " 'thrash' 'top' 'traditional' 'tradjazz' 'trance' 'tribal' 'trip'\n",
      " 'triphop' 'tropical' 'türk' 'türkçe' 'ukrrock' 'unknown' 'urban' 'uzbek'\n",
      " 'variété' 'vi' 'videogame' 'vocal' 'western' 'world' 'worldbeat' 'ïîï'\n",
      " 'электроника']\n"
     ]
    }
   ],
   "source": [
    "unique_genre = df['genre'].sort_values(ascending=True).unique()\n",
    "print(unique_genre)"
   ]
  },
  {
   "cell_type": "markdown",
   "metadata": {
    "id": "qej-Qmuo_Zct"
   },
   "source": [
    "Найдены неявные дубликаты названия `hiphop`. Это могут быть названия с ошибками или альтернативные названия того же жанра.\n",
    "\n",
    "Необходимо сохдать функцию, которая внесет корректировки в данные"
   ]
  },
  {
   "cell_type": "code",
   "execution_count": 19,
   "metadata": {
    "id": "ErNDkmns_Zct"
   },
   "outputs": [],
   "source": [
    "def replace_wrong_genres(wrong_genres, correct_genre):\n",
    "    for val in wrong_genres:\n",
    "        df['genre'] = df['genre'].replace(val, correct_genre) "
   ]
  },
  {
   "cell_type": "code",
   "execution_count": 20,
   "metadata": {
    "id": "YN5i2hpmSo09"
   },
   "outputs": [],
   "source": [
    "replace_wrong_genres(['hip', 'hop', 'hip-hop'], 'hiphop')"
   ]
  },
  {
   "cell_type": "code",
   "execution_count": 21,
   "metadata": {
    "id": "wvixALnFG15m"
   },
   "outputs": [
    {
     "name": "stdout",
     "output_type": "stream",
     "text": [
      "['acid' 'acoustic' 'action' 'adult' 'africa' 'afrikaans' 'alternative'\n",
      " 'alternativepunk' 'ambient' 'americana' 'animated' 'anime' 'arabesk'\n",
      " 'arabic' 'arena' 'argentinetango' 'art' 'audiobook' 'author' 'avantgarde'\n",
      " 'axé' 'baile' 'balkan' 'beats' 'bigroom' 'black' 'bluegrass' 'blues'\n",
      " 'bollywood' 'bossa' 'brazilian' 'breakbeat' 'breaks' 'broadway'\n",
      " 'cantautori' 'cantopop' 'canzone' 'caribbean' 'caucasian' 'celtic'\n",
      " 'chamber' 'chanson' 'children' 'chill' 'chinese' 'choral' 'christian'\n",
      " 'christmas' 'classical' 'classicmetal' 'club' 'colombian' 'comedy'\n",
      " 'conjazz' 'contemporary' 'country' 'cuban' 'dance' 'dancehall' 'dancepop'\n",
      " 'dark' 'death' 'deep' 'deutschrock' 'deutschspr' 'dirty' 'disco' 'dnb'\n",
      " 'documentary' 'downbeat' 'downtempo' 'drum' 'dub' 'dubstep' 'eastern'\n",
      " 'easy' 'electronic' 'electropop' 'emo' 'entehno' 'epicmetal' 'estrada'\n",
      " 'ethnic' 'eurofolk' 'european' 'experimental' 'extrememetal' 'fado'\n",
      " 'fairytail' 'film' 'fitness' 'flamenco' 'folk' 'folklore' 'folkmetal'\n",
      " 'folkrock' 'folktronica' 'forró' 'frankreich' 'französisch' 'french'\n",
      " 'funk' 'future' 'gangsta' 'garage' 'german' 'ghazal' 'gitarre' 'glitch'\n",
      " 'gospel' 'gothic' 'grime' 'grunge' 'gypsy' 'handsup' \"hard'n'heavy\"\n",
      " 'hardcore' 'hardstyle' 'hardtechno' 'hiphop' 'historisch' 'holiday'\n",
      " 'horror' 'house' 'hymn' 'idm' 'independent' 'indian' 'indie' 'indipop'\n",
      " 'industrial' 'inspirational' 'instrumental' 'international' 'irish' 'jam'\n",
      " 'japanese' 'jazz' 'jewish' 'jpop' 'jungle' 'k-pop' 'karadeniz' 'karaoke'\n",
      " 'kayokyoku' 'korean' 'laiko' 'latin' 'latino' 'leftfield' 'local'\n",
      " 'lounge' 'loungeelectronic' 'lovers' 'malaysian' 'mandopop' 'marschmusik'\n",
      " 'meditative' 'mediterranean' 'melodic' 'metal' 'metalcore' 'mexican'\n",
      " 'middle' 'minimal' 'miscellaneous' 'modern' 'mood' 'mpb' 'muslim'\n",
      " 'native' 'neoklassik' 'neue' 'new' 'newage' 'newwave' 'nu' 'nujazz'\n",
      " 'numetal' 'oceania' 'old' 'opera' 'orchestral' 'other' 'piano' 'podcasts'\n",
      " 'pop' 'popdance' 'popelectronic' 'popeurodance' 'poprussian' 'post'\n",
      " 'posthardcore' 'postrock' 'power' 'progmetal' 'progressive' 'psychedelic'\n",
      " 'punjabi' 'punk' 'quebecois' 'ragga' 'ram' 'rancheras' 'rap' 'rave'\n",
      " 'reggae' 'reggaeton' 'regional' 'relax' 'religious' 'retro' 'rhythm'\n",
      " 'rnb' 'rnr' 'rock' 'rockabilly' 'rockalternative' 'rockindie' 'rockother'\n",
      " 'romance' 'roots' 'ruspop' 'rusrap' 'rusrock' 'russian' 'salsa' 'samba'\n",
      " 'scenic' 'schlager' 'self' 'sertanejo' 'shanson' 'shoegazing' 'showtunes'\n",
      " 'singer' 'ska' 'skarock' 'slow' 'smooth' 'soft' 'soul' 'soulful' 'sound'\n",
      " 'soundtrack' 'southern' 'specialty' 'speech' 'spiritual' 'sport'\n",
      " 'stonerrock' 'surf' 'swing' 'synthpop' 'synthrock' 'sängerportrait'\n",
      " 'tango' 'tanzorchester' 'taraftar' 'tatar' 'tech' 'techno' 'teen'\n",
      " 'thrash' 'top' 'traditional' 'tradjazz' 'trance' 'tribal' 'trip'\n",
      " 'triphop' 'tropical' 'türk' 'türkçe' 'ukrrock' 'unknown' 'urban' 'uzbek'\n",
      " 'variété' 'vi' 'videogame' 'vocal' 'western' 'world' 'worldbeat' 'ïîï'\n",
      " 'электроника']\n"
     ]
    }
   ],
   "source": [
    "unique_genre = df['genre'].sort_values(ascending=True).unique()\n",
    "print(unique_genre)"
   ]
  },
  {
   "cell_type": "markdown",
   "metadata": {
    "id": "jz6a9-7HQUDd"
   },
   "source": [
    "Исправлены заголовки,пропущенные значения заменены на 'unknown'. "
   ]
  },
  {
   "cell_type": "markdown",
   "metadata": {
    "id": "WttZHXH0SqKk"
   },
   "source": [
    "## Проверка гипотез"
   ]
  },
  {
   "cell_type": "markdown",
   "metadata": {
    "id": "Im936VVi_Zcu"
   },
   "source": [
    "### Сравнение поведения пользователей двух столиц"
   ]
  },
  {
   "cell_type": "markdown",
   "metadata": {
    "id": "nwt_MuaL_Zcu"
   },
   "source": [
    "Первая гипотеза утверждает, что пользователи по-разному слушают музыку в Москве и Санкт-Петербурге. Проверьте это предположение по данным о трёх днях недели — понедельнике, среде и пятнице. Для этого:\n",
    "\n",
    "* Разделите пользователей Москвы и Санкт-Петербурга\n",
    "* Сравните, сколько треков послушала каждая группа пользователей в понедельник, среду и пятницу.\n"
   ]
  },
  {
   "cell_type": "markdown",
   "metadata": {
    "id": "8Dw_YMmT_Zcu"
   },
   "source": [
    "Для тренировки сначала выполните каждый из расчётов по отдельности. \n",
    "\n",
    "Оцените активность пользователей в каждом городе. Сгруппируйте данные по городу и посчитайте прослушивания в каждой группе.\n",
    "\n"
   ]
  },
  {
   "cell_type": "code",
   "execution_count": 23,
   "metadata": {
    "id": "0_Qs96oh_Zcu",
    "scrolled": true
   },
   "outputs": [
    {
     "name": "stdout",
     "output_type": "stream",
     "text": [
      "city\n",
      "Moscow              42741\n",
      "Saint-Petersburg    18512\n",
      "Name: city, dtype: int64\n"
     ]
    }
   ],
   "source": [
    "city_active = df.groupby('city')['city'].count()\n",
    "print(city_active)"
   ]
  },
  {
   "cell_type": "code",
   "execution_count": 24,
   "metadata": {},
   "outputs": [
    {
     "data": {
      "text/plain": [
       "42741"
      ]
     },
     "execution_count": 24,
     "metadata": {},
     "output_type": "execute_result"
    }
   ],
   "source": [
    "city_group = df.groupby('city')['genre'].count()\n",
    "city_group[0]"
   ]
  },
  {
   "cell_type": "markdown",
   "metadata": {
    "id": "dzli3w8o_Zcu"
   },
   "source": [
    "В Москве прослушиваний больше, чем в Петербурге. Из этого не следует, что московские пользователи чаще слушают музыку. Просто самих пользователей в Москве больше.\n",
    "\n",
    "Теперь сгруппируйте данные по дню недели и подсчитайте прослушивания в понедельник, среду и пятницу. Учтите, что в данных есть информация только о прослушиваниях только за эти дни.\n"
   ]
  },
  {
   "cell_type": "code",
   "execution_count": 25,
   "metadata": {
    "id": "uZMKjiJz_Zcu"
   },
   "outputs": [
    {
     "data": {
      "text/plain": [
       "day\n",
       "Friday       21840\n",
       "Monday       21354\n",
       "Wednesday    18059\n",
       "Name: day, dtype: int64"
      ]
     },
     "metadata": {},
     "output_type": "display_data"
    }
   ],
   "source": [
    "display(df.groupby('day')['day'].count())"
   ]
  },
  {
   "cell_type": "markdown",
   "metadata": {
    "id": "cC2tNrlL_Zcu"
   },
   "source": [
    "В среднем пользователи из двух городов менее активны по средам. Но картина может измениться, если рассмотреть каждый город в отдельности."
   ]
  },
  {
   "cell_type": "markdown",
   "metadata": {
    "id": "POzs8bGa_Zcu"
   },
   "source": [
    "Вы видели, как работает группировка по городу и по дням недели. Теперь напишите функцию, которая объединит два эти расчёта.\n",
    "\n",
    "Создайте функцию `number_tracks()`, которая посчитает прослушивания для заданного дня и города. Ей понадобятся два параметра:\n",
    "* день недели,\n",
    "* название города.\n",
    "\n",
    "В функции сохраните в переменную строки исходной таблицы, у которых значение:\n",
    "  * в колонке `day` равно параметру `day`,\n",
    "  * в колонке `city` равно параметру `city`.\n",
    "\n",
    "Для этого примените последовательную фильтрацию с логической индексацией.\n",
    "\n",
    "Затем посчитайте значения в столбце `user_id` получившейся таблицы. Результат сохраните в новую переменную. Верните эту переменную из функции."
   ]
  },
  {
   "cell_type": "code",
   "execution_count": 26,
   "metadata": {
    "id": "Nz3GdQB1_Zcu"
   },
   "outputs": [],
   "source": [
    "def number_tracks(day,city):\n",
    "    track_list = df.loc[df.loc[:,'day'] == day] \n",
    "    track_list = track_list.loc[track_list.loc[:,'city'] == city]['user_id']\n",
    "    track_list_count = track_list.count()\n",
    "    return track_list_count"
   ]
  },
  {
   "cell_type": "markdown",
   "metadata": {
    "id": "ytf7xFrFJQ2r"
   },
   "source": [
    "Вызовите `number_tracks()` шесть раз, меняя значение параметров — так, чтобы получить данные для каждого города в каждый из трёх дней."
   ]
  },
  {
   "cell_type": "code",
   "execution_count": 27,
   "metadata": {
    "id": "rJcRATNQ_Zcu"
   },
   "outputs": [
    {
     "data": {
      "text/plain": [
       "15740"
      ]
     },
     "execution_count": 27,
     "metadata": {},
     "output_type": "execute_result"
    }
   ],
   "source": [
    "number_tracks('Monday','Moscow')"
   ]
  },
  {
   "cell_type": "code",
   "execution_count": 28,
   "metadata": {
    "id": "hq_ncZ5T_Zcu"
   },
   "outputs": [
    {
     "data": {
      "text/plain": [
       "5614"
      ]
     },
     "execution_count": 28,
     "metadata": {},
     "output_type": "execute_result"
    }
   ],
   "source": [
    "number_tracks('Monday','Saint-Petersburg')"
   ]
  },
  {
   "cell_type": "code",
   "execution_count": 29,
   "metadata": {
    "id": "_NTy2VPU_Zcu"
   },
   "outputs": [
    {
     "data": {
      "text/plain": [
       "11056"
      ]
     },
     "execution_count": 29,
     "metadata": {},
     "output_type": "execute_result"
    }
   ],
   "source": [
    "number_tracks('Wednesday','Moscow')"
   ]
  },
  {
   "cell_type": "code",
   "execution_count": 30,
   "metadata": {
    "id": "j2y3TAwo_Zcu"
   },
   "outputs": [
    {
     "data": {
      "text/plain": [
       "7003"
      ]
     },
     "execution_count": 30,
     "metadata": {},
     "output_type": "execute_result"
    }
   ],
   "source": [
    "number_tracks('Wednesday','Saint-Petersburg')"
   ]
  },
  {
   "cell_type": "code",
   "execution_count": 31,
   "metadata": {
    "id": "vYDw5u_K_Zcu"
   },
   "outputs": [
    {
     "data": {
      "text/plain": [
       "15945"
      ]
     },
     "execution_count": 31,
     "metadata": {},
     "output_type": "execute_result"
    }
   ],
   "source": [
    "number_tracks('Friday','Moscow')"
   ]
  },
  {
   "cell_type": "code",
   "execution_count": 32,
   "metadata": {
    "id": "8_yzFtW3_Zcu"
   },
   "outputs": [
    {
     "data": {
      "text/plain": [
       "5895"
      ]
     },
     "execution_count": 32,
     "metadata": {},
     "output_type": "execute_result"
    }
   ],
   "source": [
    "number_tracks('Friday','Saint-Petersburg')"
   ]
  },
  {
   "cell_type": "markdown",
   "metadata": {
    "id": "7QXffbO-_Zcu"
   },
   "source": [
    "Создайте c помощью конструктора `pd.DataFrame` таблицу, где\n",
    "* названия колонок — `['city', 'monday', 'wednesday', 'friday']`;\n",
    "* данные — результаты, которые вы получили с помощью `number_tracks`."
   ]
  },
  {
   "cell_type": "code",
   "execution_count": 33,
   "metadata": {
    "id": "APAcLpOr_Zcu"
   },
   "outputs": [
    {
     "name": "stdout",
     "output_type": "stream",
     "text": [
      "               city  monday  wednesday  friday\n",
      "0            Moscow   15740      11056   15945\n",
      "1  Saint-Petersburg    5614       7003    5895\n"
     ]
    }
   ],
   "source": [
    "data = [\n",
    "    ['Moscow', number_tracks('Monday','Moscow'), number_tracks('Wednesday','Moscow'), number_tracks('Friday','Moscow')],\n",
    "    ['Saint-Petersburg', number_tracks('Monday','Saint-Petersburg'), number_tracks('Wednesday','Saint-Petersburg'), number_tracks('Friday','Saint-Petersburg')]\n",
    "]\n",
    "columns_name = ['city', 'monday', 'wednesday', 'friday']\n",
    "track_city = pd.DataFrame(data=data, columns=columns_name)\n",
    "\n",
    "print(track_city)"
   ]
  },
  {
   "cell_type": "markdown",
   "metadata": {
    "id": "-EgPIHYu_Zcu"
   },
   "source": [
    "Данные показывают разницу поведения пользователей:\n",
    "- В Москве пик прослушиваний приходится на понедельник и пятницу, а в среду заметен спад.\n",
    "- В Петербурге, наоборот, больше слушают музыку по средам. Активность в понедельник и пятницу здесь почти в равной мере уступает среде.\n",
    "\n",
    "Значит, данные говорят в пользу первой гипотезы."
   ]
  },
  {
   "cell_type": "markdown",
   "metadata": {
    "id": "atZAxtq4_Zcu"
   },
   "source": [
    "### Музыка в начале и в конце недели"
   ]
  },
  {
   "cell_type": "markdown",
   "metadata": {
    "id": "eXrQqXFH_Zcu"
   },
   "source": [
    "Согласно второй гипотезе, утром в понедельник в Москве преобладают одни жанры, а в Петербурге — другие. Так же и вечером пятницы преобладают разные жанры — в зависимости от города."
   ]
  },
  {
   "cell_type": "markdown",
   "metadata": {
    "id": "S8UcW6Hw_Zcu"
   },
   "source": [
    "Сохраните таблицы с данными в две переменные:\n",
    "* по Москве — в `moscow_general`;\n",
    "* по Санкт-Петербургу — в `spb_general`."
   ]
  },
  {
   "cell_type": "code",
   "execution_count": 34,
   "metadata": {
    "id": "qeaFfM_P_Zcu"
   },
   "outputs": [],
   "source": [
    "moscow_general = df.loc[df.loc[:,'city'] == 'Moscow']"
   ]
  },
  {
   "cell_type": "code",
   "execution_count": 35,
   "metadata": {
    "id": "ORaVRKto_Zcu"
   },
   "outputs": [],
   "source": [
    "spb_general = df.loc[df.loc[:,'city'] == 'Saint-Petersburg']"
   ]
  },
  {
   "cell_type": "markdown",
   "metadata": {
    "id": "MEJV-CX2_Zcu"
   },
   "source": [
    "Создайте функцию `genre_weekday()` с четырьмя параметрами:\n",
    "* таблица (датафрейм) с данными,\n",
    "* день недели,\n",
    "* начальная временная метка в формате 'hh:mm', \n",
    "* последняя временная метка в формате 'hh:mm'.\n",
    "\n",
    "Функция должна вернуть информацию о топ-10 жанров тех треков, которые прослушивали в указанный день, в промежутке между двумя отметками времени."
   ]
  },
  {
   "cell_type": "code",
   "execution_count": 36,
   "metadata": {
    "id": "laJT9BYl_Zcu"
   },
   "outputs": [],
   "source": [
    "def genre_weekday(table, day, time1, time2):\n",
    "    genre_df = table.loc[table.loc[:,'day'] == day]\n",
    "    genre_df = genre_df.loc[genre_df.loc[:,'time'] >= time1]\n",
    "    genre_df = genre_df.loc[genre_df.loc[:,'time'] <= time2]\n",
    "    genre_df_count = genre_df.groupby(['genre'])['genre'].count()\n",
    "    return genre_df_count.sort_values(ascending=False).head(10)"
   ]
  },
  {
   "cell_type": "markdown",
   "metadata": {
    "id": "la2s2_PF_Zcu"
   },
   "source": [
    "Cравните результаты функции `genre_weekday()` для Москвы и Санкт-Петербурга в понедельник утром (с 7:00 до 11:00) и в пятницу вечером (с 17:00 до 23:00):"
   ]
  },
  {
   "cell_type": "code",
   "execution_count": 37,
   "metadata": {
    "id": "yz7itPUQ_Zcu"
   },
   "outputs": [
    {
     "data": {
      "text/plain": [
       "genre\n",
       "pop            781\n",
       "dance          549\n",
       "electronic     480\n",
       "rock           474\n",
       "hiphop         286\n",
       "ruspop         186\n",
       "world          181\n",
       "rusrap         175\n",
       "alternative    164\n",
       "unknown        161\n",
       "Name: genre, dtype: int64"
      ]
     },
     "metadata": {},
     "output_type": "display_data"
    }
   ],
   "source": [
    "display(genre_weekday(moscow_general, 'Monday', '07:00', '11:00'))"
   ]
  },
  {
   "cell_type": "code",
   "execution_count": 38,
   "metadata": {
    "id": "kwUcHPdy_Zcu"
   },
   "outputs": [
    {
     "data": {
      "text/plain": [
       "genre\n",
       "pop            218\n",
       "dance          182\n",
       "rock           162\n",
       "electronic     147\n",
       "hiphop          80\n",
       "ruspop          64\n",
       "alternative     58\n",
       "rusrap          55\n",
       "jazz            44\n",
       "classical       40\n",
       "Name: genre, dtype: int64"
      ]
     },
     "metadata": {},
     "output_type": "display_data"
    }
   ],
   "source": [
    "display(genre_weekday(spb_general, 'Monday', '07:00', '11:00'))"
   ]
  },
  {
   "cell_type": "code",
   "execution_count": 39,
   "metadata": {
    "id": "EzXVRE1o_Zcu"
   },
   "outputs": [
    {
     "data": {
      "text/plain": [
       "genre\n",
       "pop            713\n",
       "rock           517\n",
       "dance          495\n",
       "electronic     482\n",
       "hiphop         273\n",
       "world          208\n",
       "ruspop         170\n",
       "alternative    163\n",
       "classical      163\n",
       "rusrap         142\n",
       "Name: genre, dtype: int64"
      ]
     },
     "metadata": {},
     "output_type": "display_data"
    }
   ],
   "source": [
    "display(genre_weekday(moscow_general, 'Friday', '17:00', '23:00'))"
   ]
  },
  {
   "cell_type": "code",
   "execution_count": 40,
   "metadata": {
    "id": "JZaEKu5v_Zcu"
   },
   "outputs": [
    {
     "data": {
      "text/plain": [
       "genre\n",
       "pop            256\n",
       "rock           216\n",
       "electronic     216\n",
       "dance          210\n",
       "hiphop          97\n",
       "alternative     63\n",
       "jazz            61\n",
       "classical       60\n",
       "rusrap          59\n",
       "world           54\n",
       "Name: genre, dtype: int64"
      ]
     },
     "metadata": {},
     "output_type": "display_data"
    }
   ],
   "source": [
    "display(genre_weekday(spb_general, 'Friday', '17:00', '23:00'))"
   ]
  },
  {
   "cell_type": "markdown",
   "metadata": {
    "id": "wrCe4MNX_Zcu"
   },
   "source": [
    "Если сравнить топ-10 жанров в понедельник утром, можно сделать такие выводы:\n",
    "\n",
    "1. В Москве и Петербурге слушают похожую музыку. Единственное отличие — в московский рейтинг вошёл жанр “world”, а в петербургский — джаз и классика.\n",
    "\n",
    "2. В Москве пропущенных значений оказалось так много, что значение `'unknown'` заняло десятое место среди самых популярных жанров. Значит, пропущенные значения занимают существенную долю в данных и угрожают достоверности исследования.\n",
    "\n",
    "Вечер пятницы не меняет эту картину. Некоторые жанры поднимаются немного выше, другие спускаются, но в целом топ-10 остаётся тем же самым.\n",
    "\n",
    "Таким образом, вторая гипотеза подтвердилась лишь частично:\n",
    "* Пользователи слушают похожую музыку в начале недели и в конце.\n",
    "* Разница между Москвой и Петербургом не слишком выражена. В Москве чаще слушают русскую популярную музыку, в Петербурге — джаз.\n",
    "\n",
    "Однако пропуски в данных ставят под сомнение этот результат. В Москве их так много, что рейтинг топ-10 мог бы выглядеть иначе, если бы не утерянные  данные о жанрах."
   ]
  },
  {
   "cell_type": "markdown",
   "metadata": {
    "id": "JolODAqr_Zcu"
   },
   "source": [
    "### Жанровые предпочтения в Москве и Петербурге\n",
    "\n",
    "Гипотеза: Петербург — столица рэпа, музыку этого жанра там слушают чаще, чем в Москве.  А Москва — город контрастов, в котором, тем не менее, преобладает поп-музыка."
   ]
  },
  {
   "cell_type": "markdown",
   "metadata": {
    "id": "DlegSvaT_Zcu"
   },
   "source": [
    "Сгруппируйте таблицу `moscow_general` по жанру и посчитайте прослушивания треков каждого жанра методом `count()`. Затем отсортируйте результат в порядке убывания и сохраните его в таблице `moscow_genres`."
   ]
  },
  {
   "cell_type": "code",
   "execution_count": 41,
   "metadata": {
    "id": "r19lIPke_Zcu"
   },
   "outputs": [],
   "source": [
    "moscow_genres = moscow_general.groupby(['genre'])['genre'].count().sort_values(ascending=False)"
   ]
  },
  {
   "cell_type": "markdown",
   "metadata": {
    "id": "6kMuomxTiIr8"
   },
   "source": [
    "Выведите на экран первые десять строк `moscow_genres`:"
   ]
  },
  {
   "cell_type": "code",
   "execution_count": 42,
   "metadata": {
    "id": "WhCSooF8_Zcv"
   },
   "outputs": [
    {
     "data": {
      "text/plain": [
       "genre\n",
       "pop            5892\n",
       "dance          4435\n",
       "rock           3965\n",
       "electronic     3786\n",
       "hiphop         2096\n",
       "classical      1616\n",
       "world          1432\n",
       "alternative    1379\n",
       "ruspop         1372\n",
       "rusrap         1161\n",
       "Name: genre, dtype: int64"
      ]
     },
     "execution_count": 42,
     "metadata": {},
     "output_type": "execute_result"
    }
   ],
   "source": [
    "moscow_genres.head(10)"
   ]
  },
  {
   "cell_type": "markdown",
   "metadata": {
    "id": "cnPG2vnN_Zcv"
   },
   "source": [
    "Теперь повторите то же и для Петербурга.\n",
    "\n",
    "Сгруппируйте таблицу `spb_general` по жанру. Посчитайте прослушивания треков каждого жанра. Результат отсортируйте в порядке убывания и сохраните в таблице `spb_genres`:\n"
   ]
  },
  {
   "cell_type": "code",
   "execution_count": 43,
   "metadata": {
    "id": "gluLIpE7_Zcv"
   },
   "outputs": [],
   "source": [
    "spb_genres = spb_general.groupby(['genre'])['genre'].count().sort_values(ascending=False)"
   ]
  },
  {
   "cell_type": "markdown",
   "metadata": {
    "id": "5Doha_ODgyQ8"
   },
   "source": [
    "Выведите на экран первые десять строк `spb_genres`:"
   ]
  },
  {
   "cell_type": "code",
   "execution_count": 44,
   "metadata": {
    "id": "uaGJHjVU_Zcv",
    "scrolled": true
   },
   "outputs": [
    {
     "data": {
      "text/plain": [
       "genre\n",
       "pop            2431\n",
       "dance          1932\n",
       "rock           1879\n",
       "electronic     1736\n",
       "hiphop          960\n",
       "alternative     649\n",
       "classical       646\n",
       "rusrap          564\n",
       "ruspop          538\n",
       "world           515\n",
       "Name: genre, dtype: int64"
      ]
     },
     "execution_count": 44,
     "metadata": {},
     "output_type": "execute_result"
    }
   ],
   "source": [
    "spb_genres.head(10)"
   ]
  },
  {
   "cell_type": "markdown",
   "metadata": {
    "id": "nVhnJEm__Zcv"
   },
   "source": [
    "Гипотеза частично подтвердилась:\n",
    "* Поп-музыка — самый популярный жанр в Москве, как и предполагала гипотеза. Более того, в топ-10 жанров встречается близкий жанр — русская популярная музыка.\n",
    "* Вопреки ожиданиям, рэп одинаково популярен в Москве и Петербурге. \n"
   ]
  },
  {
   "cell_type": "markdown",
   "metadata": {
    "id": "ykKQ0N65_Zcv"
   },
   "source": [
    "## Итоги исследования"
   ]
  },
  {
   "cell_type": "markdown",
   "metadata": {
    "id": "tjUwbHb3_Zcv"
   },
   "source": [
    "1. День недели по-разному влияет на активность пользователей в Москве и Петербурге. \n",
    "\n",
    "Первая гипотеза полностью подтвердилась.\n",
    "\n",
    "2. Музыкальные предпочтения не сильно меняются в течение недели — будь то Москва или Петербург. Небольшие различия заметны в начале недели, по понедельникам:\n",
    "* в Москве слушают музыку жанра “world”,\n",
    "* в Петербурге — джаз и классику.\n",
    "\n",
    "Таким образом, вторая гипотеза подтвердилась лишь отчасти. Этот результат мог оказаться иным, если бы не пропуски в данных.\n",
    "\n",
    "3. Во вкусах пользователей Москвы и Петербурга больше общего чем различий. Вопреки ожиданиям, предпочтения жанров в Петербурге напоминают московские.\n",
    "\n",
    "Третья гипотеза не подтвердилась. Если различия в предпочтениях и существуют, на основной массе пользователей они незаметны."
   ]
  }
 ],
 "metadata": {
  "ExecuteTimeLog": [
   {
    "duration": 580,
    "start_time": "2021-10-05T10:56:40.183Z"
   },
   {
    "duration": 131,
    "start_time": "2021-10-05T10:57:09.529Z"
   },
   {
    "duration": 16,
    "start_time": "2021-10-05T10:57:22.425Z"
   },
   {
    "duration": 23,
    "start_time": "2021-10-05T10:57:34.913Z"
   },
   {
    "duration": 4,
    "start_time": "2021-10-05T11:14:30.873Z"
   },
   {
    "duration": 21,
    "start_time": "2021-10-05T11:16:55.643Z"
   },
   {
    "duration": 4,
    "start_time": "2021-10-05T11:17:10.016Z"
   },
   {
    "duration": 21,
    "start_time": "2021-10-05T11:18:10.053Z"
   },
   {
    "duration": 143,
    "start_time": "2021-10-05T11:19:14.803Z"
   },
   {
    "duration": 9,
    "start_time": "2021-10-05T11:19:17.040Z"
   },
   {
    "duration": 24,
    "start_time": "2021-10-05T11:19:20.366Z"
   },
   {
    "duration": 4,
    "start_time": "2021-10-05T11:19:23.821Z"
   },
   {
    "duration": 21,
    "start_time": "2021-10-05T11:19:27.311Z"
   },
   {
    "duration": 3,
    "start_time": "2021-10-05T11:19:29.545Z"
   },
   {
    "duration": 33,
    "start_time": "2021-10-05T11:19:36.614Z"
   },
   {
    "duration": 4520,
    "start_time": "2021-10-05T11:26:13.915Z"
   },
   {
    "duration": 4213,
    "start_time": "2021-10-05T11:26:57.724Z"
   },
   {
    "duration": 17,
    "start_time": "2021-10-05T11:27:38.721Z"
   },
   {
    "duration": 22,
    "start_time": "2021-10-05T11:27:46.820Z"
   },
   {
    "duration": 51,
    "start_time": "2021-10-05T11:28:45.105Z"
   },
   {
    "duration": 57,
    "start_time": "2021-10-05T11:29:02.606Z"
   },
   {
    "duration": 53,
    "start_time": "2021-10-05T11:29:07.753Z"
   },
   {
    "duration": 131,
    "start_time": "2021-10-05T11:29:40.097Z"
   },
   {
    "duration": 6,
    "start_time": "2021-10-05T11:29:46.223Z"
   },
   {
    "duration": 7,
    "start_time": "2021-10-05T11:30:17.502Z"
   },
   {
    "duration": 7,
    "start_time": "2021-10-05T11:30:24.794Z"
   },
   {
    "duration": 247,
    "start_time": "2021-10-05T11:31:14.862Z"
   },
   {
    "duration": 139,
    "start_time": "2021-10-05T11:31:31.951Z"
   },
   {
    "duration": 6,
    "start_time": "2021-10-05T11:32:48.031Z"
   },
   {
    "duration": 5,
    "start_time": "2021-10-05T11:33:18.970Z"
   },
   {
    "duration": 11,
    "start_time": "2021-10-05T11:33:35.120Z"
   },
   {
    "duration": 6,
    "start_time": "2021-10-05T11:33:46.578Z"
   },
   {
    "duration": 46,
    "start_time": "2021-10-05T11:33:53.169Z"
   },
   {
    "duration": 6,
    "start_time": "2021-10-05T11:33:56.885Z"
   },
   {
    "duration": 149,
    "start_time": "2021-10-05T11:34:22.916Z"
   },
   {
    "duration": 173,
    "start_time": "2021-10-05T11:34:37.148Z"
   },
   {
    "duration": 3,
    "start_time": "2021-10-05T11:34:48.050Z"
   },
   {
    "duration": 540,
    "start_time": "2021-10-05T11:34:57.646Z"
   },
   {
    "duration": 291,
    "start_time": "2021-10-05T11:35:23.642Z"
   },
   {
    "duration": 18,
    "start_time": "2021-10-05T11:35:58.339Z"
   },
   {
    "duration": 162,
    "start_time": "2021-10-05T11:37:04.384Z"
   },
   {
    "duration": 159,
    "start_time": "2021-10-05T11:37:13.034Z"
   },
   {
    "duration": 31,
    "start_time": "2021-10-05T11:37:30.240Z"
   },
   {
    "duration": 155,
    "start_time": "2021-10-05T11:37:52.010Z"
   },
   {
    "duration": 42,
    "start_time": "2021-10-05T11:38:11.705Z"
   },
   {
    "duration": 990,
    "start_time": "2021-10-05T11:38:14.879Z"
   },
   {
    "duration": 147,
    "start_time": "2021-10-05T11:38:49.906Z"
   },
   {
    "duration": 161,
    "start_time": "2021-10-05T11:39:09.530Z"
   },
   {
    "duration": 154,
    "start_time": "2021-10-05T11:40:46.763Z"
   },
   {
    "duration": 17,
    "start_time": "2021-10-05T11:40:54.063Z"
   },
   {
    "duration": 148,
    "start_time": "2021-10-05T11:41:01.674Z"
   },
   {
    "duration": 50,
    "start_time": "2021-10-05T11:41:15.266Z"
   },
   {
    "duration": 43,
    "start_time": "2021-10-05T11:41:22.573Z"
   },
   {
    "duration": 160,
    "start_time": "2021-10-05T11:41:31.490Z"
   },
   {
    "duration": 17,
    "start_time": "2021-10-05T11:41:37.594Z"
   },
   {
    "duration": 155,
    "start_time": "2021-10-05T11:41:48.299Z"
   },
   {
    "duration": 20,
    "start_time": "2021-10-05T11:41:56.580Z"
   },
   {
    "duration": 18,
    "start_time": "2021-10-05T11:42:07.741Z"
   },
   {
    "duration": 28,
    "start_time": "2021-10-05T11:42:18.471Z"
   },
   {
    "duration": 169,
    "start_time": "2021-10-05T11:44:16.278Z"
   },
   {
    "duration": 165,
    "start_time": "2021-10-05T11:44:23.266Z"
   },
   {
    "duration": 155,
    "start_time": "2021-10-05T11:46:37.828Z"
   },
   {
    "duration": 61,
    "start_time": "2021-10-05T11:47:02.237Z"
   },
   {
    "duration": 138,
    "start_time": "2021-10-05T11:47:11.179Z"
   },
   {
    "duration": 6,
    "start_time": "2021-10-05T11:48:50.374Z"
   },
   {
    "duration": 5,
    "start_time": "2021-10-05T11:49:05.581Z"
   },
   {
    "duration": 6,
    "start_time": "2021-10-05T11:49:11.484Z"
   },
   {
    "duration": 6,
    "start_time": "2021-10-05T11:49:21.956Z"
   },
   {
    "duration": 133,
    "start_time": "2021-10-05T11:52:15.502Z"
   },
   {
    "duration": 2931,
    "start_time": "2021-10-05T11:55:06.990Z"
   },
   {
    "duration": 3448,
    "start_time": "2021-10-05T11:55:26.090Z"
   },
   {
    "duration": 3,
    "start_time": "2021-10-05T11:58:05.686Z"
   },
   {
    "duration": 18,
    "start_time": "2021-10-05T11:58:28.257Z"
   },
   {
    "duration": 18,
    "start_time": "2021-10-05T11:58:41.288Z"
   },
   {
    "duration": 19,
    "start_time": "2021-10-05T11:58:47.618Z"
   },
   {
    "duration": 159,
    "start_time": "2021-10-05T11:58:54.405Z"
   },
   {
    "duration": 143,
    "start_time": "2021-10-05T11:59:12.586Z"
   },
   {
    "duration": 2014,
    "start_time": "2021-10-05T12:00:44.183Z"
   },
   {
    "duration": 50,
    "start_time": "2021-10-05T12:00:59.393Z"
   },
   {
    "duration": 1916,
    "start_time": "2021-10-05T12:01:02.494Z"
   },
   {
    "duration": 142,
    "start_time": "2021-10-05T12:02:31.441Z"
   },
   {
    "duration": 6,
    "start_time": "2021-10-05T12:02:41.958Z"
   },
   {
    "duration": 1660,
    "start_time": "2021-10-05T12:02:50.086Z"
   },
   {
    "duration": 171,
    "start_time": "2021-10-05T12:02:55.166Z"
   },
   {
    "duration": 4,
    "start_time": "2021-10-05T12:02:58.082Z"
   },
   {
    "duration": 35,
    "start_time": "2021-10-05T12:03:58.175Z"
   },
   {
    "duration": 38,
    "start_time": "2021-10-05T12:04:09.942Z"
   },
   {
    "duration": 37,
    "start_time": "2021-10-05T12:05:53.985Z"
   },
   {
    "duration": 3,
    "start_time": "2021-10-05T12:11:15.021Z"
   },
   {
    "duration": 9,
    "start_time": "2021-10-05T12:11:51.506Z"
   },
   {
    "duration": 37,
    "start_time": "2021-10-05T12:12:03.647Z"
   },
   {
    "duration": 9,
    "start_time": "2021-10-05T12:12:16.095Z"
   },
   {
    "duration": 37,
    "start_time": "2021-10-05T12:12:17.850Z"
   },
   {
    "duration": 236,
    "start_time": "2021-10-05T15:15:35.472Z"
   },
   {
    "duration": 559,
    "start_time": "2021-10-05T15:15:52.989Z"
   },
   {
    "duration": 144,
    "start_time": "2021-10-05T15:15:56.414Z"
   },
   {
    "duration": 17,
    "start_time": "2021-10-05T15:15:59.694Z"
   },
   {
    "duration": 24,
    "start_time": "2021-10-05T15:16:02.162Z"
   },
   {
    "duration": 4,
    "start_time": "2021-10-05T15:16:06.403Z"
   },
   {
    "duration": 29,
    "start_time": "2021-10-05T15:16:18.214Z"
   },
   {
    "duration": 5,
    "start_time": "2021-10-05T15:16:20.460Z"
   },
   {
    "duration": 38,
    "start_time": "2021-10-05T15:16:23.622Z"
   },
   {
    "duration": 24,
    "start_time": "2021-10-05T15:16:26.778Z"
   },
   {
    "duration": 38,
    "start_time": "2021-10-05T15:16:29.410Z"
   },
   {
    "duration": 60,
    "start_time": "2021-10-05T15:16:32.118Z"
   },
   {
    "duration": 70,
    "start_time": "2021-10-05T15:16:34.173Z"
   },
   {
    "duration": 49,
    "start_time": "2021-10-05T15:16:36.365Z"
   },
   {
    "duration": 40,
    "start_time": "2021-10-05T15:16:39.329Z"
   },
   {
    "duration": 3,
    "start_time": "2021-10-05T15:16:44.461Z"
   },
   {
    "duration": 10,
    "start_time": "2021-10-05T15:16:46.398Z"
   },
   {
    "duration": 40,
    "start_time": "2021-10-05T15:16:48.665Z"
   },
   {
    "duration": 13,
    "start_time": "2021-10-05T15:16:53.123Z"
   },
   {
    "duration": 292,
    "start_time": "2021-10-05T15:19:34.999Z"
   },
   {
    "duration": 4,
    "start_time": "2021-10-05T15:25:49.030Z"
   },
   {
    "duration": 71,
    "start_time": "2021-10-05T15:26:49.200Z"
   },
   {
    "duration": 85,
    "start_time": "2021-10-05T15:29:15.217Z"
   },
   {
    "duration": 187,
    "start_time": "2021-10-05T15:29:29.186Z"
   },
   {
    "duration": 211,
    "start_time": "2021-10-05T15:29:40.864Z"
   },
   {
    "duration": 195,
    "start_time": "2021-10-05T15:30:06.572Z"
   },
   {
    "duration": 198,
    "start_time": "2021-10-05T15:30:35.664Z"
   },
   {
    "duration": 201,
    "start_time": "2021-10-05T15:31:42.295Z"
   },
   {
    "duration": 4,
    "start_time": "2021-10-05T15:32:40.497Z"
   },
   {
    "duration": 4961,
    "start_time": "2021-10-05T15:33:16.867Z"
   },
   {
    "duration": 5404,
    "start_time": "2021-10-05T15:35:49.581Z"
   },
   {
    "duration": 5759,
    "start_time": "2021-10-05T15:36:41.480Z"
   },
   {
    "duration": 4857,
    "start_time": "2021-10-05T15:37:06.353Z"
   },
   {
    "duration": 3642,
    "start_time": "2021-10-05T15:37:31.369Z"
   },
   {
    "duration": 205,
    "start_time": "2021-10-05T15:41:33.296Z"
   },
   {
    "duration": 4,
    "start_time": "2021-10-05T15:45:55.791Z"
   },
   {
    "duration": 6,
    "start_time": "2021-10-05T15:46:26.603Z"
   },
   {
    "duration": 198,
    "start_time": "2021-10-05T15:49:02.092Z"
   },
   {
    "duration": 16,
    "start_time": "2021-10-05T15:49:47.781Z"
   },
   {
    "duration": 3849,
    "start_time": "2021-10-05T15:51:06.804Z"
   },
   {
    "duration": 20,
    "start_time": "2021-10-05T15:51:36.813Z"
   },
   {
    "duration": 33,
    "start_time": "2021-10-05T15:52:34.786Z"
   },
   {
    "duration": 523,
    "start_time": "2021-10-05T15:56:17.399Z"
   },
   {
    "duration": 33,
    "start_time": "2021-10-05T15:59:27.531Z"
   },
   {
    "duration": 226,
    "start_time": "2021-10-05T16:00:00.542Z"
   },
   {
    "duration": 70,
    "start_time": "2021-10-05T16:00:19.550Z"
   },
   {
    "duration": 221,
    "start_time": "2021-10-05T16:00:24.644Z"
   },
   {
    "duration": 37,
    "start_time": "2021-10-05T16:01:06.758Z"
   },
   {
    "duration": 41,
    "start_time": "2021-10-05T16:05:28.507Z"
   },
   {
    "duration": 208,
    "start_time": "2021-10-05T16:05:42.878Z"
   },
   {
    "duration": 232,
    "start_time": "2021-10-05T16:05:54.644Z"
   },
   {
    "duration": 202,
    "start_time": "2021-10-05T16:06:14.069Z"
   },
   {
    "duration": 213,
    "start_time": "2021-10-05T16:06:30.694Z"
   },
   {
    "duration": 199,
    "start_time": "2021-10-05T16:11:28.778Z"
   },
   {
    "duration": 191,
    "start_time": "2021-10-05T16:11:41.337Z"
   },
   {
    "duration": 202,
    "start_time": "2021-10-05T16:13:18.609Z"
   },
   {
    "duration": 9,
    "start_time": "2021-10-05T16:13:25.405Z"
   },
   {
    "duration": 220,
    "start_time": "2021-10-05T16:17:31.817Z"
   },
   {
    "duration": 13,
    "start_time": "2021-10-05T16:17:48.849Z"
   },
   {
    "duration": 1477,
    "start_time": "2021-10-05T16:19:07.183Z"
   },
   {
    "duration": 4,
    "start_time": "2021-10-05T16:19:17.944Z"
   },
   {
    "duration": 1300,
    "start_time": "2021-10-05T16:21:23.338Z"
   },
   {
    "duration": 6,
    "start_time": "2021-10-05T16:21:36.415Z"
   },
   {
    "duration": 10,
    "start_time": "2021-10-05T16:21:47.623Z"
   },
   {
    "duration": 226,
    "start_time": "2021-10-05T16:24:07.528Z"
   },
   {
    "duration": 10,
    "start_time": "2021-10-05T16:24:18.976Z"
   },
   {
    "duration": 5030,
    "start_time": "2021-10-05T16:27:28.245Z"
   },
   {
    "duration": 5854,
    "start_time": "2021-10-05T16:29:16.806Z"
   },
   {
    "duration": 4927,
    "start_time": "2021-10-05T16:29:32.572Z"
   },
   {
    "duration": 67,
    "start_time": "2021-10-05T16:30:26.648Z"
   },
   {
    "duration": 12,
    "start_time": "2021-10-05T16:30:31.076Z"
   },
   {
    "duration": 30,
    "start_time": "2021-10-05T16:31:00.866Z"
   },
   {
    "duration": 20,
    "start_time": "2021-10-05T16:31:39.281Z"
   },
   {
    "duration": 43,
    "start_time": "2021-10-05T16:31:52.092Z"
   },
   {
    "duration": 45,
    "start_time": "2021-10-05T16:33:05.566Z"
   },
   {
    "duration": 78,
    "start_time": "2021-10-05T16:34:02.625Z"
   },
   {
    "duration": 75,
    "start_time": "2021-10-05T16:34:06.288Z"
   },
   {
    "duration": 733,
    "start_time": "2021-10-06T12:08:00.929Z"
   },
   {
    "duration": 185,
    "start_time": "2021-10-06T12:08:03.018Z"
   },
   {
    "duration": 24,
    "start_time": "2021-10-06T12:08:04.913Z"
   },
   {
    "duration": 33,
    "start_time": "2021-10-06T12:08:08.779Z"
   },
   {
    "duration": 6,
    "start_time": "2021-10-06T12:08:13.042Z"
   },
   {
    "duration": 28,
    "start_time": "2021-10-06T12:08:20.056Z"
   },
   {
    "duration": 5,
    "start_time": "2021-10-06T12:08:22.009Z"
   },
   {
    "duration": 29,
    "start_time": "2021-10-06T12:08:29.590Z"
   },
   {
    "duration": 25,
    "start_time": "2021-10-06T12:08:32.601Z"
   },
   {
    "duration": 29,
    "start_time": "2021-10-06T12:08:35.530Z"
   },
   {
    "duration": 87,
    "start_time": "2021-10-06T12:08:38.090Z"
   },
   {
    "duration": 99,
    "start_time": "2021-10-06T12:08:40.019Z"
   },
   {
    "duration": 79,
    "start_time": "2021-10-06T12:08:42.787Z"
   },
   {
    "duration": 71,
    "start_time": "2021-10-06T12:08:45.248Z"
   },
   {
    "duration": 4,
    "start_time": "2021-10-06T12:08:49.474Z"
   },
   {
    "duration": 14,
    "start_time": "2021-10-06T12:08:51.707Z"
   },
   {
    "duration": 60,
    "start_time": "2021-10-06T12:08:55.793Z"
   },
   {
    "duration": 78,
    "start_time": "2021-10-06T12:08:59.896Z"
   },
   {
    "duration": 57,
    "start_time": "2021-10-06T12:09:06.555Z"
   },
   {
    "duration": 31,
    "start_time": "2021-10-06T12:10:19.054Z"
   },
   {
    "duration": 46,
    "start_time": "2021-10-06T12:19:46.088Z"
   },
   {
    "duration": 346,
    "start_time": "2021-10-06T12:19:53.557Z"
   },
   {
    "duration": 461,
    "start_time": "2021-10-06T12:20:04.262Z"
   },
   {
    "duration": 43,
    "start_time": "2021-10-06T12:20:49.646Z"
   },
   {
    "duration": 265,
    "start_time": "2021-10-06T12:21:32.585Z"
   },
   {
    "duration": 258,
    "start_time": "2021-10-06T12:27:18.921Z"
   },
   {
    "duration": 266,
    "start_time": "2021-10-06T12:27:23.238Z"
   },
   {
    "duration": 259,
    "start_time": "2021-10-06T12:27:37.568Z"
   },
   {
    "duration": 6511,
    "start_time": "2021-10-06T12:28:13.744Z"
   },
   {
    "duration": 39,
    "start_time": "2021-10-06T12:29:50.517Z"
   },
   {
    "duration": 87,
    "start_time": "2021-10-06T12:30:18.234Z"
   },
   {
    "duration": 73,
    "start_time": "2021-10-06T12:30:29.806Z"
   },
   {
    "duration": 88,
    "start_time": "2021-10-06T12:31:38.539Z"
   },
   {
    "duration": 93,
    "start_time": "2021-10-06T12:31:54.991Z"
   },
   {
    "duration": 89,
    "start_time": "2021-10-06T12:33:24.805Z"
   },
   {
    "duration": 79,
    "start_time": "2021-10-06T12:33:53.912Z"
   },
   {
    "duration": 491,
    "start_time": "2021-10-06T12:35:07.275Z"
   },
   {
    "duration": 119,
    "start_time": "2021-10-06T12:35:15.917Z"
   },
   {
    "duration": 109,
    "start_time": "2021-10-06T12:35:22.155Z"
   },
   {
    "duration": 257,
    "start_time": "2021-10-06T12:37:54.481Z"
   },
   {
    "duration": 83,
    "start_time": "2021-10-06T12:38:38.614Z"
   },
   {
    "duration": 271,
    "start_time": "2021-10-06T12:38:48.441Z"
   },
   {
    "duration": 251,
    "start_time": "2021-10-06T12:38:56.447Z"
   },
   {
    "duration": 271,
    "start_time": "2021-10-06T12:39:07.861Z"
   },
   {
    "duration": 269,
    "start_time": "2021-10-06T12:39:23.728Z"
   },
   {
    "duration": 80,
    "start_time": "2021-10-06T12:39:39.869Z"
   },
   {
    "duration": 249,
    "start_time": "2021-10-06T12:39:58.332Z"
   },
   {
    "duration": 307,
    "start_time": "2021-10-06T12:40:53.133Z"
   },
   {
    "duration": 75,
    "start_time": "2021-10-06T12:41:00.939Z"
   },
   {
    "duration": 23,
    "start_time": "2021-10-06T12:44:01.683Z"
   },
   {
    "duration": 46,
    "start_time": "2021-10-06T12:45:57.550Z"
   },
   {
    "duration": 83,
    "start_time": "2021-10-06T12:46:24.347Z"
   },
   {
    "duration": 52,
    "start_time": "2021-10-06T12:46:28.199Z"
   },
   {
    "duration": 50,
    "start_time": "2021-10-06T12:47:10.785Z"
   },
   {
    "duration": 34,
    "start_time": "2021-10-06T12:49:17.523Z"
   },
   {
    "duration": 41,
    "start_time": "2021-10-06T12:50:19.371Z"
   },
   {
    "duration": 40,
    "start_time": "2021-10-06T12:51:06.804Z"
   },
   {
    "duration": 63,
    "start_time": "2021-10-06T12:52:19.123Z"
   },
   {
    "duration": 240,
    "start_time": "2021-10-06T12:52:38.852Z"
   },
   {
    "duration": 1635,
    "start_time": "2021-10-06T12:52:44.519Z"
   },
   {
    "duration": 280,
    "start_time": "2021-10-06T12:53:06.434Z"
   },
   {
    "duration": 295,
    "start_time": "2021-10-06T12:53:29.906Z"
   },
   {
    "duration": 5,
    "start_time": "2021-10-06T12:54:06.324Z"
   },
   {
    "duration": 1690,
    "start_time": "2021-10-06T12:54:14.601Z"
   },
   {
    "duration": 6,
    "start_time": "2021-10-06T12:54:28.665Z"
   },
   {
    "duration": 245,
    "start_time": "2021-10-06T12:54:46.688Z"
   },
   {
    "duration": 238,
    "start_time": "2021-10-06T12:54:52.821Z"
   },
   {
    "duration": 15,
    "start_time": "2021-10-06T12:56:31.632Z"
   },
   {
    "duration": 95,
    "start_time": "2021-10-06T14:12:56.893Z"
   },
   {
    "duration": 5,
    "start_time": "2021-10-06T14:13:01.245Z"
   },
   {
    "duration": 2019,
    "start_time": "2021-10-06T14:15:01.081Z"
   },
   {
    "duration": 1849,
    "start_time": "2021-10-06T14:15:25.964Z"
   },
   {
    "duration": 21,
    "start_time": "2021-10-06T14:16:22.874Z"
   },
   {
    "duration": 80,
    "start_time": "2021-10-06T14:16:26.809Z"
   },
   {
    "duration": 21,
    "start_time": "2021-10-06T14:16:46.824Z"
   },
   {
    "duration": 18,
    "start_time": "2021-10-06T14:18:04.625Z"
   },
   {
    "duration": 21,
    "start_time": "2021-10-06T14:18:06.669Z"
   },
   {
    "duration": 28,
    "start_time": "2021-10-06T14:18:08.559Z"
   },
   {
    "duration": 19,
    "start_time": "2021-10-06T14:18:10.373Z"
   },
   {
    "duration": 19,
    "start_time": "2021-10-06T14:18:11.961Z"
   },
   {
    "duration": 27,
    "start_time": "2021-10-06T14:18:13.634Z"
   },
   {
    "duration": 38,
    "start_time": "2021-10-06T14:19:08.708Z"
   },
   {
    "duration": 37,
    "start_time": "2021-10-06T14:19:26.995Z"
   },
   {
    "duration": 5,
    "start_time": "2021-10-06T14:20:36.318Z"
   },
   {
    "duration": 19,
    "start_time": "2021-10-06T14:20:39.180Z"
   },
   {
    "duration": 18,
    "start_time": "2021-10-06T14:20:42.700Z"
   },
   {
    "duration": 5,
    "start_time": "2021-10-06T14:21:14.268Z"
   },
   {
    "duration": 18,
    "start_time": "2021-10-06T14:21:17.100Z"
   },
   {
    "duration": 4,
    "start_time": "2021-10-06T14:21:23.071Z"
   },
   {
    "duration": 19,
    "start_time": "2021-10-06T14:21:25.244Z"
   },
   {
    "duration": 19,
    "start_time": "2021-10-06T14:21:29.522Z"
   },
   {
    "duration": 6,
    "start_time": "2021-10-06T14:22:25.435Z"
   },
   {
    "duration": 18,
    "start_time": "2021-10-06T14:22:28.284Z"
   },
   {
    "duration": 5,
    "start_time": "2021-10-06T14:22:38.503Z"
   },
   {
    "duration": 544,
    "start_time": "2021-10-06T14:22:40.346Z"
   },
   {
    "duration": 5,
    "start_time": "2021-10-06T14:23:11.065Z"
   },
   {
    "duration": 19,
    "start_time": "2021-10-06T14:23:13.833Z"
   },
   {
    "duration": 34,
    "start_time": "2021-10-06T14:24:54.799Z"
   },
   {
    "duration": 23,
    "start_time": "2021-10-06T14:25:39.484Z"
   },
   {
    "duration": 22,
    "start_time": "2021-10-06T14:25:42.581Z"
   },
   {
    "duration": 18,
    "start_time": "2021-10-06T14:25:45.769Z"
   },
   {
    "duration": 20,
    "start_time": "2021-10-06T14:25:47.532Z"
   },
   {
    "duration": 23,
    "start_time": "2021-10-06T14:25:50.002Z"
   },
   {
    "duration": 23,
    "start_time": "2021-10-06T14:25:51.653Z"
   },
   {
    "duration": 20,
    "start_time": "2021-10-06T14:25:53.481Z"
   },
   {
    "duration": 5,
    "start_time": "2021-10-06T14:25:59.706Z"
   },
   {
    "duration": 22,
    "start_time": "2021-10-06T14:26:01.777Z"
   },
   {
    "duration": 20,
    "start_time": "2021-10-06T14:26:12.297Z"
   },
   {
    "duration": 22,
    "start_time": "2021-10-06T14:26:14.278Z"
   },
   {
    "duration": 21,
    "start_time": "2021-10-06T14:26:16.616Z"
   },
   {
    "duration": 23,
    "start_time": "2021-10-06T14:26:18.017Z"
   },
   {
    "duration": 21,
    "start_time": "2021-10-06T14:26:19.764Z"
   },
   {
    "duration": 287,
    "start_time": "2021-10-06T14:34:38.865Z"
   },
   {
    "duration": 96,
    "start_time": "2021-10-06T14:56:46.551Z"
   },
   {
    "duration": 31,
    "start_time": "2021-10-06T14:59:49.583Z"
   },
   {
    "duration": 15,
    "start_time": "2021-10-06T15:00:08.837Z"
   },
   {
    "duration": 28,
    "start_time": "2021-10-06T15:00:18.761Z"
   },
   {
    "duration": 18,
    "start_time": "2021-10-06T15:00:28.591Z"
   },
   {
    "duration": 15,
    "start_time": "2021-10-06T15:00:30.625Z"
   },
   {
    "duration": 5,
    "start_time": "2021-10-06T15:01:45.706Z"
   },
   {
    "duration": 22,
    "start_time": "2021-10-06T15:01:48.096Z"
   },
   {
    "duration": 21,
    "start_time": "2021-10-06T15:01:50.358Z"
   },
   {
    "duration": 21,
    "start_time": "2021-10-06T15:01:51.985Z"
   },
   {
    "duration": 20,
    "start_time": "2021-10-06T15:01:54.277Z"
   },
   {
    "duration": 22,
    "start_time": "2021-10-06T15:01:56.561Z"
   },
   {
    "duration": 20,
    "start_time": "2021-10-06T15:01:57.650Z"
   },
   {
    "duration": 263,
    "start_time": "2021-10-06T15:09:03.966Z"
   },
   {
    "duration": 36,
    "start_time": "2021-10-06T15:09:10.181Z"
   },
   {
    "duration": 40,
    "start_time": "2021-10-06T15:11:07.889Z"
   },
   {
    "duration": 35,
    "start_time": "2021-10-06T15:11:25.240Z"
   },
   {
    "duration": 771,
    "start_time": "2021-10-06T15:12:21.180Z"
   },
   {
    "duration": 440,
    "start_time": "2021-10-06T15:13:02.737Z"
   },
   {
    "duration": 36,
    "start_time": "2021-10-06T15:13:19.191Z"
   },
   {
    "duration": 28,
    "start_time": "2021-10-06T15:13:39.380Z"
   },
   {
    "duration": 7002,
    "start_time": "2021-10-06T15:14:14.910Z"
   },
   {
    "duration": 8147,
    "start_time": "2021-10-06T15:14:42.712Z"
   },
   {
    "duration": 460,
    "start_time": "2021-10-06T15:15:04.902Z"
   },
   {
    "duration": 442,
    "start_time": "2021-10-06T15:15:07.154Z"
   },
   {
    "duration": 28,
    "start_time": "2021-10-06T15:15:22.246Z"
   },
   {
    "duration": 6,
    "start_time": "2021-10-06T15:16:01.921Z"
   },
   {
    "duration": 26,
    "start_time": "2021-10-06T15:16:03.796Z"
   },
   {
    "duration": 19,
    "start_time": "2021-10-06T15:16:45.673Z"
   },
   {
    "duration": 23,
    "start_time": "2021-10-06T15:17:39.664Z"
   },
   {
    "duration": 16,
    "start_time": "2021-10-06T15:17:51.660Z"
   },
   {
    "duration": 260,
    "start_time": "2021-10-06T15:21:55.416Z"
   },
   {
    "duration": 321,
    "start_time": "2021-10-06T15:22:11.363Z"
   },
   {
    "duration": 345,
    "start_time": "2021-10-06T15:23:07.620Z"
   },
   {
    "duration": 12,
    "start_time": "2021-10-06T15:23:37.835Z"
   },
   {
    "duration": 11,
    "start_time": "2021-10-06T15:23:47.413Z"
   },
   {
    "duration": 6,
    "start_time": "2021-10-06T15:24:10.275Z"
   },
   {
    "duration": 9,
    "start_time": "2021-10-06T15:24:49.633Z"
   },
   {
    "duration": 7,
    "start_time": "2021-10-06T15:24:57.017Z"
   },
   {
    "duration": 643,
    "start_time": "2021-10-07T06:37:32.361Z"
   },
   {
    "duration": 136,
    "start_time": "2021-10-07T06:37:33.006Z"
   },
   {
    "duration": 17,
    "start_time": "2021-10-07T06:37:33.144Z"
   },
   {
    "duration": 28,
    "start_time": "2021-10-07T06:37:33.163Z"
   },
   {
    "duration": 4,
    "start_time": "2021-10-07T06:37:33.192Z"
   },
   {
    "duration": 21,
    "start_time": "2021-10-07T06:37:33.198Z"
   },
   {
    "duration": 4,
    "start_time": "2021-10-07T06:37:33.221Z"
   },
   {
    "duration": 48,
    "start_time": "2021-10-07T06:37:33.228Z"
   },
   {
    "duration": 18,
    "start_time": "2021-10-07T06:37:33.279Z"
   },
   {
    "duration": 23,
    "start_time": "2021-10-07T06:37:33.299Z"
   },
   {
    "duration": 78,
    "start_time": "2021-10-07T06:37:33.323Z"
   },
   {
    "duration": 74,
    "start_time": "2021-10-07T06:37:33.403Z"
   },
   {
    "duration": 49,
    "start_time": "2021-10-07T06:37:33.479Z"
   },
   {
    "duration": 52,
    "start_time": "2021-10-07T06:37:33.529Z"
   },
   {
    "duration": 3,
    "start_time": "2021-10-07T06:37:33.582Z"
   },
   {
    "duration": 11,
    "start_time": "2021-10-07T06:37:33.587Z"
   },
   {
    "duration": 40,
    "start_time": "2021-10-07T06:37:33.600Z"
   },
   {
    "duration": 48,
    "start_time": "2021-10-07T06:37:33.641Z"
   },
   {
    "duration": 10,
    "start_time": "2021-10-07T06:37:33.690Z"
   },
   {
    "duration": 3,
    "start_time": "2021-10-07T06:37:33.702Z"
   },
   {
    "duration": 19,
    "start_time": "2021-10-07T06:37:33.706Z"
   },
   {
    "duration": 15,
    "start_time": "2021-10-07T06:37:33.726Z"
   },
   {
    "duration": 43,
    "start_time": "2021-10-07T06:37:33.744Z"
   },
   {
    "duration": 15,
    "start_time": "2021-10-07T06:37:33.789Z"
   },
   {
    "duration": 18,
    "start_time": "2021-10-07T06:37:33.806Z"
   },
   {
    "duration": 16,
    "start_time": "2021-10-07T06:37:33.825Z"
   },
   {
    "duration": 94,
    "start_time": "2021-10-07T06:37:33.843Z"
   },
   {
    "duration": 10,
    "start_time": "2021-10-07T06:37:33.939Z"
   },
   {
    "duration": 29,
    "start_time": "2021-10-07T06:37:33.951Z"
   },
   {
    "duration": 4,
    "start_time": "2021-10-07T06:37:33.982Z"
   },
   {
    "duration": 21,
    "start_time": "2021-10-07T06:37:33.987Z"
   },
   {
    "duration": 13,
    "start_time": "2021-10-07T06:37:34.009Z"
   },
   {
    "duration": 17,
    "start_time": "2021-10-07T06:37:34.024Z"
   },
   {
    "duration": 43,
    "start_time": "2021-10-07T06:37:34.043Z"
   },
   {
    "duration": 8,
    "start_time": "2021-10-07T06:37:34.088Z"
   },
   {
    "duration": 5,
    "start_time": "2021-10-07T06:37:34.098Z"
   },
   {
    "duration": 6,
    "start_time": "2021-10-07T06:37:34.104Z"
   },
   {
    "duration": 4,
    "start_time": "2021-10-07T06:37:34.112Z"
   },
   {
    "duration": 10,
    "start_time": "2021-10-07T06:37:50.825Z"
   },
   {
    "duration": 11,
    "start_time": "2021-10-07T06:47:21.854Z"
   },
   {
    "duration": 369,
    "start_time": "2021-10-07T12:09:56.491Z"
   },
   {
    "duration": 773,
    "start_time": "2021-10-07T12:10:17.746Z"
   },
   {
    "duration": 178,
    "start_time": "2021-10-07T12:10:21.998Z"
   },
   {
    "duration": 10,
    "start_time": "2021-10-07T12:10:24.311Z"
   },
   {
    "duration": 32,
    "start_time": "2021-10-07T12:10:29.413Z"
   },
   {
    "duration": 32,
    "start_time": "2021-10-07T12:13:32.762Z"
   },
   {
    "duration": 13,
    "start_time": "2021-10-07T12:13:36.154Z"
   },
   {
    "duration": 29,
    "start_time": "2021-10-07T12:13:38.902Z"
   },
   {
    "duration": 5,
    "start_time": "2021-10-07T12:13:40.704Z"
   },
   {
    "duration": 28,
    "start_time": "2021-10-07T12:13:43.506Z"
   },
   {
    "duration": 24,
    "start_time": "2021-10-07T12:15:47.260Z"
   },
   {
    "duration": 30,
    "start_time": "2021-10-07T12:15:50.866Z"
   },
   {
    "duration": 22,
    "start_time": "2021-10-07T12:16:31.812Z"
   },
   {
    "duration": 28,
    "start_time": "2021-10-07T12:16:33.631Z"
   },
   {
    "duration": 81,
    "start_time": "2021-10-07T12:16:36.893Z"
   },
   {
    "duration": 102,
    "start_time": "2021-10-07T12:16:38.635Z"
   },
   {
    "duration": 74,
    "start_time": "2021-10-07T12:16:40.203Z"
   },
   {
    "duration": 56,
    "start_time": "2021-10-07T12:16:43.612Z"
   },
   {
    "duration": 4,
    "start_time": "2021-10-07T12:16:47.354Z"
   },
   {
    "duration": 14,
    "start_time": "2021-10-07T12:16:49.420Z"
   },
   {
    "duration": 57,
    "start_time": "2021-10-07T12:16:51.939Z"
   },
   {
    "duration": 12,
    "start_time": "2021-10-07T12:18:43.954Z"
   },
   {
    "duration": 13,
    "start_time": "2021-10-07T12:19:03.138Z"
   },
   {
    "duration": 15,
    "start_time": "2021-10-07T12:19:51.914Z"
   },
   {
    "duration": 14,
    "start_time": "2021-10-07T12:19:53.822Z"
   },
   {
    "duration": 4,
    "start_time": "2021-10-07T12:20:00.974Z"
   },
   {
    "duration": 25,
    "start_time": "2021-10-07T12:20:04.335Z"
   },
   {
    "duration": 19,
    "start_time": "2021-10-07T12:20:05.778Z"
   },
   {
    "duration": 20,
    "start_time": "2021-10-07T12:20:07.434Z"
   },
   {
    "duration": 17,
    "start_time": "2021-10-07T12:20:09.042Z"
   },
   {
    "duration": 22,
    "start_time": "2021-10-07T12:20:10.426Z"
   },
   {
    "duration": 20,
    "start_time": "2021-10-07T12:20:11.959Z"
   },
   {
    "duration": 91,
    "start_time": "2021-10-07T12:20:15.186Z"
   },
   {
    "duration": 16,
    "start_time": "2021-10-07T12:20:36.858Z"
   },
   {
    "duration": 13,
    "start_time": "2021-10-07T12:20:38.692Z"
   },
   {
    "duration": 5,
    "start_time": "2021-10-07T12:20:42.462Z"
   },
   {
    "duration": 25,
    "start_time": "2021-10-07T12:20:44.836Z"
   },
   {
    "duration": 19,
    "start_time": "2021-10-07T12:20:46.711Z"
   },
   {
    "duration": 23,
    "start_time": "2021-10-07T12:20:49.180Z"
   },
   {
    "duration": 17,
    "start_time": "2021-10-07T12:20:50.842Z"
   },
   {
    "duration": 13,
    "start_time": "2021-10-07T12:20:56.162Z"
   },
   {
    "duration": 6,
    "start_time": "2021-10-07T12:20:58.194Z"
   },
   {
    "duration": 8,
    "start_time": "2021-10-07T12:21:02.447Z"
   },
   {
    "duration": 6,
    "start_time": "2021-10-07T12:21:03.739Z"
   }
  ],
  "colab": {
   "collapsed_sections": [
    "E0vqbgi9ay0H",
    "VUC88oWjTJw2"
   ],
   "name": "yandex_music_project_2021.2.ipynb",
   "provenance": []
  },
  "kernelspec": {
   "display_name": "Python 3",
   "language": "python",
   "name": "python3"
  },
  "language_info": {
   "codemirror_mode": {
    "name": "ipython",
    "version": 3
   },
   "file_extension": ".py",
   "mimetype": "text/x-python",
   "name": "python",
   "nbconvert_exporter": "python",
   "pygments_lexer": "ipython3",
   "version": "3.8.8"
  },
  "toc": {
   "base_numbering": 1,
   "nav_menu": {},
   "number_sections": true,
   "sideBar": true,
   "skip_h1_title": true,
   "title_cell": "Table of Contents",
   "title_sidebar": "Contents",
   "toc_cell": false,
   "toc_position": {},
   "toc_section_display": true,
   "toc_window_display": true
  }
 },
 "nbformat": 4,
 "nbformat_minor": 1
}
