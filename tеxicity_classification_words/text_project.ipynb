{
 "cells": [
  {
   "cell_type": "markdown",
   "metadata": {
    "toc": true
   },
   "source": [
    "<h1>Содержание<span class=\"tocSkip\"></span></h1>\n",
    "<div class=\"toc\"><ul class=\"toc-item\"><li><span><a href=\"#Импорт-библиотек\" data-toc-modified-id=\"Импорт-библиотек-1\"><span class=\"toc-item-num\">1&nbsp;&nbsp;</span>Импорт библиотек</a></span></li><li><span><a href=\"#Загрузка-данных\" data-toc-modified-id=\"Загрузка-данных-2\"><span class=\"toc-item-num\">2&nbsp;&nbsp;</span>Загрузка данных</a></span><ul class=\"toc-item\"><li><span><a href=\"#Проверка-качества-данных\" data-toc-modified-id=\"Проверка-качества-данных-2.1\"><span class=\"toc-item-num\">2.1&nbsp;&nbsp;</span>Проверка качества данных</a></span></li><li><span><a href=\"#Лемматация-и-очистка-данных\" data-toc-modified-id=\"Лемматация-и-очистка-данных-2.2\"><span class=\"toc-item-num\">2.2&nbsp;&nbsp;</span>Лемматация и очистка данных</a></span></li></ul></li><li><span><a href=\"#Деление-выборки-на-обучение-и-тестирование\" data-toc-modified-id=\"Деление-выборки-на-обучение-и-тестирование-3\"><span class=\"toc-item-num\">3&nbsp;&nbsp;</span>Деление выборки на обучение и тестирование</a></span></li><li><span><a href=\"#Векторизация-данных\" data-toc-modified-id=\"Векторизация-данных-4\"><span class=\"toc-item-num\">4&nbsp;&nbsp;</span>Векторизация данных</a></span></li><li><span><a href=\"#Обучение-после-оценки-важности-слова-определяется-величиной-TF-IDF\" data-toc-modified-id=\"Обучение-после-оценки-важности-слова-определяется-величиной-TF-IDF-5\"><span class=\"toc-item-num\">5&nbsp;&nbsp;</span>Обучение после оценки важности слова определяется величиной TF-IDF</a></span><ul class=\"toc-item\"><li><span><a href=\"#Функция-проверки-качества-моделей.\" data-toc-modified-id=\"Функция-проверки-качества-моделей.-5.1\"><span class=\"toc-item-num\">5.1&nbsp;&nbsp;</span>Функция проверки качества моделей.</a></span></li><li><span><a href=\"#Обучение-модели\" data-toc-modified-id=\"Обучение-модели-5.2\"><span class=\"toc-item-num\">5.2&nbsp;&nbsp;</span>Обучение модели</a></span></li><li><span><a href=\"#Тестирование-модели\" data-toc-modified-id=\"Тестирование-модели-5.3\"><span class=\"toc-item-num\">5.3&nbsp;&nbsp;</span>Тестирование модели</a></span></li></ul></li></ul></div>"
   ]
  },
  {
   "cell_type": "markdown",
   "metadata": {},
   "source": [
    "# Подготовка данных"
   ]
  },
  {
   "cell_type": "markdown",
   "metadata": {},
   "source": [
    "## Импорт библиотек"
   ]
  },
  {
   "cell_type": "code",
   "execution_count": 49,
   "metadata": {},
   "outputs": [],
   "source": [
    "import numpy as np\n",
    "import pandas as pd\n",
    "from random import randint\n",
    "import transformers\n",
    "import re \n",
    "import nltk\n",
    "from nltk.stem import WordNetLemmatizer\n",
    "from sklearn.feature_extraction.text import TfidfVectorizer \n",
    "from sklearn.model_selection import train_test_split\n",
    "from sklearn.linear_model import LogisticRegression\n",
    "from sklearn.metrics import f1_score, roc_auc_score, roc_curve\n",
    "from sklearn.model_selection import cross_val_score"
   ]
  },
  {
   "cell_type": "markdown",
   "metadata": {},
   "source": [
    "## Загрузка данных"
   ]
  },
  {
   "cell_type": "code",
   "execution_count": 21,
   "metadata": {},
   "outputs": [],
   "source": [
    "df_comments = pd.read_csv(\"df_comments.csv\")"
   ]
  },
  {
   "cell_type": "markdown",
   "metadata": {},
   "source": [
    "### Проверка качества данных"
   ]
  },
  {
   "cell_type": "code",
   "execution_count": 22,
   "metadata": {},
   "outputs": [],
   "source": [
    "def find_isna(df):\n",
    "    cnt_na = df.isna().sum(axis=1).clip(upper=1).sum()\n",
    "    cnt_rows = df[df.columns[0]].count()\n",
    "    print(f'Количество записей в выборке пустых: {cnt_na}')\n",
    "    print('TOP 20')\n",
    "    column_isna = pd.DataFrame(df.isna().sum())\n",
    "    column_isna.columns = ['count']\n",
    "    display(column_isna.loc[column_isna['count'] != 0].sort_values(by = 'count', ascending=False).head(20))"
   ]
  },
  {
   "cell_type": "code",
   "execution_count": 23,
   "metadata": {},
   "outputs": [],
   "source": [
    "def primary_view(df):\n",
    "    print(f'Выборка содержит {len(df.columns)} столбцов и {df.shape[0]} строки')\n",
    "    print('----------------------------------------------------------------------------------------------------------------')\n",
    "    print(f'В плане пропусков следующая картина')\n",
    "    find_isna(df)\n",
    "    print('----------------------------------------------------------------------------------------------------------------')\n",
    "    print('Распределение данных (суммарное) выглядит таким образом')\n",
    "    display(df.describe().T)\n",
    "    print('----------------------------------------------------------------------------------------------------------------')\n",
    "    #Если необходимо, можно выводить, но иногда оченб много занимает места.\n",
    "    #! Необходимо написать функцию для автоанализа типов данных на случай замены на более оптимальный тип для экономии ресурсов\n",
    "    #print(df.info())\n",
    "    print('----------------------------------------------------------------------------------------------------------------')\n",
    "    print('Срез данных для примера:')\n",
    "    display(df.head())"
   ]
  },
  {
   "cell_type": "code",
   "execution_count": 24,
   "metadata": {},
   "outputs": [
    {
     "name": "stdout",
     "output_type": "stream",
     "text": [
      "Выборка содержит 2 столбцов и 159571 строки\n",
      "----------------------------------------------------------------------------------------------------------------\n",
      "В плане пропусков следующая картина\n",
      "Количество записей в выборке пустых: 0\n",
      "TOP 20\n"
     ]
    },
    {
     "data": {
      "text/html": [
       "<div>\n",
       "<style scoped>\n",
       "    .dataframe tbody tr th:only-of-type {\n",
       "        vertical-align: middle;\n",
       "    }\n",
       "\n",
       "    .dataframe tbody tr th {\n",
       "        vertical-align: top;\n",
       "    }\n",
       "\n",
       "    .dataframe thead th {\n",
       "        text-align: right;\n",
       "    }\n",
       "</style>\n",
       "<table border=\"1\" class=\"dataframe\">\n",
       "  <thead>\n",
       "    <tr style=\"text-align: right;\">\n",
       "      <th></th>\n",
       "      <th>count</th>\n",
       "    </tr>\n",
       "  </thead>\n",
       "  <tbody>\n",
       "  </tbody>\n",
       "</table>\n",
       "</div>"
      ],
      "text/plain": [
       "Empty DataFrame\n",
       "Columns: [count]\n",
       "Index: []"
      ]
     },
     "metadata": {},
     "output_type": "display_data"
    },
    {
     "name": "stdout",
     "output_type": "stream",
     "text": [
      "----------------------------------------------------------------------------------------------------------------\n",
      "Распределение данных (суммарное) выглядит таким образом\n"
     ]
    },
    {
     "data": {
      "text/html": [
       "<div>\n",
       "<style scoped>\n",
       "    .dataframe tbody tr th:only-of-type {\n",
       "        vertical-align: middle;\n",
       "    }\n",
       "\n",
       "    .dataframe tbody tr th {\n",
       "        vertical-align: top;\n",
       "    }\n",
       "\n",
       "    .dataframe thead th {\n",
       "        text-align: right;\n",
       "    }\n",
       "</style>\n",
       "<table border=\"1\" class=\"dataframe\">\n",
       "  <thead>\n",
       "    <tr style=\"text-align: right;\">\n",
       "      <th></th>\n",
       "      <th>count</th>\n",
       "      <th>mean</th>\n",
       "      <th>std</th>\n",
       "      <th>min</th>\n",
       "      <th>25%</th>\n",
       "      <th>50%</th>\n",
       "      <th>75%</th>\n",
       "      <th>max</th>\n",
       "    </tr>\n",
       "  </thead>\n",
       "  <tbody>\n",
       "    <tr>\n",
       "      <th>toxic</th>\n",
       "      <td>159571.0</td>\n",
       "      <td>0.101679</td>\n",
       "      <td>0.302226</td>\n",
       "      <td>0.0</td>\n",
       "      <td>0.0</td>\n",
       "      <td>0.0</td>\n",
       "      <td>0.0</td>\n",
       "      <td>1.0</td>\n",
       "    </tr>\n",
       "  </tbody>\n",
       "</table>\n",
       "</div>"
      ],
      "text/plain": [
       "          count      mean       std  min  25%  50%  75%  max\n",
       "toxic  159571.0  0.101679  0.302226  0.0  0.0  0.0  0.0  1.0"
      ]
     },
     "metadata": {},
     "output_type": "display_data"
    },
    {
     "name": "stdout",
     "output_type": "stream",
     "text": [
      "----------------------------------------------------------------------------------------------------------------\n",
      "----------------------------------------------------------------------------------------------------------------\n",
      "Срез данных для примера:\n"
     ]
    },
    {
     "data": {
      "text/html": [
       "<div>\n",
       "<style scoped>\n",
       "    .dataframe tbody tr th:only-of-type {\n",
       "        vertical-align: middle;\n",
       "    }\n",
       "\n",
       "    .dataframe tbody tr th {\n",
       "        vertical-align: top;\n",
       "    }\n",
       "\n",
       "    .dataframe thead th {\n",
       "        text-align: right;\n",
       "    }\n",
       "</style>\n",
       "<table border=\"1\" class=\"dataframe\">\n",
       "  <thead>\n",
       "    <tr style=\"text-align: right;\">\n",
       "      <th></th>\n",
       "      <th>text</th>\n",
       "      <th>toxic</th>\n",
       "    </tr>\n",
       "  </thead>\n",
       "  <tbody>\n",
       "    <tr>\n",
       "      <th>0</th>\n",
       "      <td>Explanation\\nWhy the edits made under my usern...</td>\n",
       "      <td>0</td>\n",
       "    </tr>\n",
       "    <tr>\n",
       "      <th>1</th>\n",
       "      <td>D'aww! He matches this background colour I'm s...</td>\n",
       "      <td>0</td>\n",
       "    </tr>\n",
       "    <tr>\n",
       "      <th>2</th>\n",
       "      <td>Hey man, I'm really not trying to edit war. It...</td>\n",
       "      <td>0</td>\n",
       "    </tr>\n",
       "    <tr>\n",
       "      <th>3</th>\n",
       "      <td>\"\\nMore\\nI can't make any real suggestions on ...</td>\n",
       "      <td>0</td>\n",
       "    </tr>\n",
       "    <tr>\n",
       "      <th>4</th>\n",
       "      <td>You, sir, are my hero. Any chance you remember...</td>\n",
       "      <td>0</td>\n",
       "    </tr>\n",
       "  </tbody>\n",
       "</table>\n",
       "</div>"
      ],
      "text/plain": [
       "                                                text  toxic\n",
       "0  Explanation\\nWhy the edits made under my usern...      0\n",
       "1  D'aww! He matches this background colour I'm s...      0\n",
       "2  Hey man, I'm really not trying to edit war. It...      0\n",
       "3  \"\\nMore\\nI can't make any real suggestions on ...      0\n",
       "4  You, sir, are my hero. Any chance you remember...      0"
      ]
     },
     "metadata": {},
     "output_type": "display_data"
    }
   ],
   "source": [
    "primary_view(df_comments)"
   ]
  },
  {
   "cell_type": "markdown",
   "metadata": {},
   "source": [
    "### Лемматация и очистка данных"
   ]
  },
  {
   "cell_type": "code",
   "execution_count": 25,
   "metadata": {},
   "outputs": [],
   "source": [
    "df = df_comments\n",
    "df['text'] = df['text'].str.lower()\n",
    "m = WordNetLemmatizer()\n",
    "\n",
    "def clear_text(text):\n",
    "    return \" \".join(re.sub(r'[^a-zA-Z ]', ' ', text).split())\n",
    "\n",
    "def lemmatize_(row):\n",
    "    lemm_text = clear_text(row['text'])\n",
    "    word_list = nltk.word_tokenize(lemm_text)\n",
    "    lemmatized_output = ' '.join([m.lemmatize(w) for w in word_list])\n",
    "    return lemmatized_output\n",
    "\n",
    "df['lemma_text'] = df.apply(lemmatize_, axis=1)"
   ]
  },
  {
   "cell_type": "code",
   "execution_count": 26,
   "metadata": {},
   "outputs": [
    {
     "name": "stdout",
     "output_type": "stream",
     "text": [
      "Данные прошли обработку. (159571, 3)\n"
     ]
    },
    {
     "data": {
      "text/html": [
       "<div>\n",
       "<style scoped>\n",
       "    .dataframe tbody tr th:only-of-type {\n",
       "        vertical-align: middle;\n",
       "    }\n",
       "\n",
       "    .dataframe tbody tr th {\n",
       "        vertical-align: top;\n",
       "    }\n",
       "\n",
       "    .dataframe thead th {\n",
       "        text-align: right;\n",
       "    }\n",
       "</style>\n",
       "<table border=\"1\" class=\"dataframe\">\n",
       "  <thead>\n",
       "    <tr style=\"text-align: right;\">\n",
       "      <th></th>\n",
       "      <th>text</th>\n",
       "      <th>toxic</th>\n",
       "      <th>lemma_text</th>\n",
       "    </tr>\n",
       "  </thead>\n",
       "  <tbody>\n",
       "    <tr>\n",
       "      <th>0</th>\n",
       "      <td>explanation\\nwhy the edits made under my usern...</td>\n",
       "      <td>0</td>\n",
       "      <td>explanation why the edits made under my userna...</td>\n",
       "    </tr>\n",
       "    <tr>\n",
       "      <th>1</th>\n",
       "      <td>d'aww! he matches this background colour i'm s...</td>\n",
       "      <td>0</td>\n",
       "      <td>d aww he match this background colour i m seem...</td>\n",
       "    </tr>\n",
       "    <tr>\n",
       "      <th>2</th>\n",
       "      <td>hey man, i'm really not trying to edit war. it...</td>\n",
       "      <td>0</td>\n",
       "      <td>hey man i m really not trying to edit war it s...</td>\n",
       "    </tr>\n",
       "    <tr>\n",
       "      <th>3</th>\n",
       "      <td>\"\\nmore\\ni can't make any real suggestions on ...</td>\n",
       "      <td>0</td>\n",
       "      <td>more i can t make any real suggestion on impro...</td>\n",
       "    </tr>\n",
       "    <tr>\n",
       "      <th>4</th>\n",
       "      <td>you, sir, are my hero. any chance you remember...</td>\n",
       "      <td>0</td>\n",
       "      <td>you sir are my hero any chance you remember wh...</td>\n",
       "    </tr>\n",
       "  </tbody>\n",
       "</table>\n",
       "</div>"
      ],
      "text/plain": [
       "                                                text  toxic  \\\n",
       "0  explanation\\nwhy the edits made under my usern...      0   \n",
       "1  d'aww! he matches this background colour i'm s...      0   \n",
       "2  hey man, i'm really not trying to edit war. it...      0   \n",
       "3  \"\\nmore\\ni can't make any real suggestions on ...      0   \n",
       "4  you, sir, are my hero. any chance you remember...      0   \n",
       "\n",
       "                                          lemma_text  \n",
       "0  explanation why the edits made under my userna...  \n",
       "1  d aww he match this background colour i m seem...  \n",
       "2  hey man i m really not trying to edit war it s...  \n",
       "3  more i can t make any real suggestion on impro...  \n",
       "4  you sir are my hero any chance you remember wh...  "
      ]
     },
     "metadata": {},
     "output_type": "display_data"
    }
   ],
   "source": [
    "print('Данные прошли обработку.',df.shape)\n",
    "display(df.head())"
   ]
  },
  {
   "cell_type": "markdown",
   "metadata": {},
   "source": [
    "# Обучение модели"
   ]
  },
  {
   "cell_type": "markdown",
   "metadata": {},
   "source": [
    "## Деление выборки на обучение и тестирование"
   ]
  },
  {
   "cell_type": "code",
   "execution_count": 27,
   "metadata": {},
   "outputs": [],
   "source": [
    "df_train, df_test = train_test_split(df, test_size=0.25, random_state=12345)"
   ]
  },
  {
   "cell_type": "markdown",
   "metadata": {},
   "source": [
    "## Векторизация данных"
   ]
  },
  {
   "cell_type": "code",
   "execution_count": 28,
   "metadata": {},
   "outputs": [],
   "source": [
    "corpus_train = df_train['lemma_text'].values.astype('U')\n",
    "corpus_test = df_test['lemma_text'].values.astype('U')\n",
    "tf_idf = TfidfVectorizer()"
   ]
  },
  {
   "cell_type": "markdown",
   "metadata": {},
   "source": [
    "## Обучение после оценки важности слова определяется величиной TF-IDF"
   ]
  },
  {
   "cell_type": "code",
   "execution_count": 29,
   "metadata": {},
   "outputs": [],
   "source": [
    "X_train = tf_idf.fit_transform(corpus_train) \n",
    "target = df_train['toxic']\n",
    "features = X_train"
   ]
  },
  {
   "cell_type": "markdown",
   "metadata": {},
   "source": [
    "### Функция проверки качества моделей."
   ]
  },
  {
   "cell_type": "code",
   "execution_count": 30,
   "metadata": {},
   "outputs": [],
   "source": [
    "def run_model(X, y):\n",
    "    random_state = 12345\n",
    "    best_f1 = 0\n",
    "    best_model = None\n",
    "    rezult = []\n",
    "    \n",
    "    for i in np.linspace(0.05,1,9):\n",
    "        model = LogisticRegression(random_state = random_state, solver='liblinear', C=i)\n",
    "        f1 = cross_val_score(estimator=model, X=X, y=y,cv=5, scoring='f1').mean()\n",
    "        \n",
    "        if f1 > best_f1:\n",
    "            best_f1 = f1\n",
    "            best_model = model\n",
    "\n",
    "    return  best_f1, best_model"
   ]
  },
  {
   "cell_type": "markdown",
   "metadata": {},
   "source": [
    "### Обучение модели"
   ]
  },
  {
   "cell_type": "code",
   "execution_count": 31,
   "metadata": {},
   "outputs": [
    {
     "name": "stdout",
     "output_type": "stream",
     "text": [
      "Максмальный результат f1 до обучения 0.7238409808404225\n",
      "LogisticRegression(random_state=12345, solver='liblinear')\n"
     ]
    }
   ],
   "source": [
    "train_f1, best_model = run_model(features, target)\n",
    "print('Максмальный результат f1 до обучения', train_f1)\n",
    "print(best_model)"
   ]
  },
  {
   "cell_type": "code",
   "execution_count": 32,
   "metadata": {},
   "outputs": [
    {
     "name": "stdout",
     "output_type": "stream",
     "text": [
      "f1 лучшей модели после обучени 0.7725\n"
     ]
    }
   ],
   "source": [
    "best_model.fit(features, target)\n",
    "predicted_valid = best_model.predict(features)\n",
    "f1 = round(f1_score(target, predicted_valid), 5)\n",
    "print('f1 лучшей модели после обучени', f1)"
   ]
  },
  {
   "cell_type": "code",
   "execution_count": 56,
   "metadata": {},
   "outputs": [],
   "source": [
    "def roc_result(df_ft, df_tg, model):\n",
    "    probabilities_valid = model.predict_proba(df_ft)\n",
    "    probabilities_one = probabilities_valid[:, 1]\n",
    "\n",
    "    auc_roc = roc_auc_score(df_tg, probabilities_one)\n",
    "    print('ROC-кривая = ', auc_roc)\n",
    "\n",
    "    fpr, tpr, thresholds = roc_curve(df_tg, probabilities_one) \n",
    "    plt.figure()\n",
    "    plt.plot([0, 1], [0, 1], linestyle='--')\n",
    "\n",
    "    plt.plot(fpr, tpr)\n",
    "    plt.xlim([0.0, 1.0])\n",
    "    plt.ylim([0.0, 1.0])\n",
    "    plt.xlabel('False Positive Rate')\n",
    "    plt.ylabel('True Positive Rate')\n",
    "    plt.title('ROC-кривая')\n",
    "    plt.show() "
   ]
  },
  {
   "cell_type": "code",
   "execution_count": 57,
   "metadata": {},
   "outputs": [
    {
     "name": "stdout",
     "output_type": "stream",
     "text": [
      "ROC-кривая =  0.9850071678180621\n"
     ]
    },
    {
     "data": {
      "image/png": "[encoded data removed]",
      "text/plain": [
       "<Figure size 432x288 with 1 Axes>"
      ]
     },
     "metadata": {
      "needs_background": "light"
     },
     "output_type": "display_data"
    }
   ],
   "source": [
    "roc_result(features, target, best_model)"
   ]
  },
  {
   "cell_type": "markdown",
   "metadata": {},
   "source": [
    "### Тестирование модели"
   ]
  },
  {
   "cell_type": "code",
   "execution_count": 33,
   "metadata": {},
   "outputs": [
    {
     "name": "stdout",
     "output_type": "stream",
     "text": [
      "f1 тестовой выборки 0.75248\n"
     ]
    }
   ],
   "source": [
    "X_test = tf_idf.transform(corpus_test)\n",
    "\n",
    "target_test = df_test['toxic']\n",
    "features_test = X_test\n",
    "\n",
    "predicted_test = best_model.predict(features_test)\n",
    "f1 = round(f1_score(target_test, predicted_test), 5)\n",
    "print('f1 тестовой выборки', f1)"
   ]
  },
  {
   "cell_type": "code",
   "execution_count": 58,
   "metadata": {},
   "outputs": [
    {
     "name": "stdout",
     "output_type": "stream",
     "text": [
      "ROC-кривая =  0.9736451541645849\n"
     ]
    },
    {
     "data": {
      "image/png": "[encoded data removed]",
      "text/plain": [
       "<Figure size 432x288 with 1 Axes>"
      ]
     },
     "metadata": {
      "needs_background": "light"
     },
     "output_type": "display_data"
    }
   ],
   "source": [
    "roc_result(features_test, target_test, best_model)"
   ]
  }
 ],
 "metadata": {
  "ExecuteTimeLog": [
   {
    "duration": 1024,
    "start_time": "2022-03-17T07:53:37.196Z"
   },
   {
    "duration": 281,
    "start_time": "2022-03-17T07:53:41.086Z"
   },
   {
    "duration": 4196,
    "start_time": "2022-03-17T07:54:27.225Z"
   },
   {
    "duration": 3,
    "start_time": "2022-03-17T07:54:45.710Z"
   },
   {
    "duration": 3,
    "start_time": "2022-03-17T07:54:47.735Z"
   },
   {
    "duration": 4,
    "start_time": "2022-03-17T07:54:48.469Z"
   },
   {
    "duration": 2678,
    "start_time": "2022-03-17T07:55:05.519Z"
   },
   {
    "duration": 1884,
    "start_time": "2022-03-17T07:55:09.728Z"
   },
   {
    "duration": 10663,
    "start_time": "2022-03-17T07:55:24.005Z"
   },
   {
    "duration": 5,
    "start_time": "2022-03-17T07:55:44.726Z"
   },
   {
    "duration": 6,
    "start_time": "2022-03-17T07:55:46.614Z"
   },
   {
    "duration": 132,
    "start_time": "2022-03-17T07:55:57.614Z"
   },
   {
    "duration": 212,
    "start_time": "2022-03-17T07:56:09.366Z"
   },
   {
    "duration": 233,
    "start_time": "2022-03-17T08:08:48.121Z"
   },
   {
    "duration": 15408,
    "start_time": "2022-03-17T08:11:33.007Z"
   },
   {
    "duration": 416,
    "start_time": "2022-03-17T08:12:01.462Z"
   },
   {
    "duration": 9371,
    "start_time": "2022-03-17T08:12:13.997Z"
   },
   {
    "duration": 302,
    "start_time": "2022-03-17T08:12:44.198Z"
   },
   {
    "duration": 4761,
    "start_time": "2022-03-17T08:13:09.016Z"
   },
   {
    "duration": 379,
    "start_time": "2022-03-17T08:28:52.931Z"
   },
   {
    "duration": 5489,
    "start_time": "2022-03-17T08:28:59.149Z"
   },
   {
    "duration": 10180,
    "start_time": "2022-03-17T08:29:04.643Z"
   },
   {
    "duration": 215,
    "start_time": "2022-03-17T08:29:14.827Z"
   },
   {
    "duration": 7,
    "start_time": "2022-03-17T08:29:15.046Z"
   },
   {
    "duration": 7,
    "start_time": "2022-03-17T08:29:15.056Z"
   },
   {
    "duration": 155,
    "start_time": "2022-03-17T08:29:15.066Z"
   },
   {
    "duration": 277,
    "start_time": "2022-03-17T08:29:15.225Z"
   },
   {
    "duration": 249,
    "start_time": "2022-03-17T08:29:28.376Z"
   },
   {
    "duration": 4,
    "start_time": "2022-03-17T11:58:24.122Z"
   },
   {
    "duration": 12818,
    "start_time": "2022-03-17T11:58:25.813Z"
   },
   {
    "duration": 558,
    "start_time": "2022-03-17T11:58:38.634Z"
   },
   {
    "duration": 6,
    "start_time": "2022-03-17T11:58:39.196Z"
   },
   {
    "duration": 7,
    "start_time": "2022-03-17T11:58:39.205Z"
   },
   {
    "duration": 174,
    "start_time": "2022-03-17T11:58:39.215Z"
   },
   {
    "duration": 287,
    "start_time": "2022-03-17T12:00:58.528Z"
   },
   {
    "duration": 86686,
    "start_time": "2022-03-17T12:01:09.287Z"
   },
   {
    "duration": 5,
    "start_time": "2022-03-17T12:02:46.990Z"
   },
   {
    "duration": 8,
    "start_time": "2022-03-17T12:02:53.263Z"
   },
   {
    "duration": 4,
    "start_time": "2022-03-17T12:03:11.734Z"
   },
   {
    "duration": 7,
    "start_time": "2022-03-17T12:04:02.847Z"
   },
   {
    "duration": 9,
    "start_time": "2022-03-17T12:04:14.056Z"
   },
   {
    "duration": 5,
    "start_time": "2022-03-17T12:04:48.552Z"
   },
   {
    "duration": 6,
    "start_time": "2022-03-17T12:04:58.801Z"
   },
   {
    "duration": 25,
    "start_time": "2022-03-17T12:05:38.208Z"
   },
   {
    "duration": 4,
    "start_time": "2022-03-17T12:05:42.760Z"
   },
   {
    "duration": 6,
    "start_time": "2022-03-17T12:05:44.326Z"
   },
   {
    "duration": 258,
    "start_time": "2022-03-17T12:05:50.049Z"
   },
   {
    "duration": 5,
    "start_time": "2022-03-17T12:05:52.698Z"
   },
   {
    "duration": 5,
    "start_time": "2022-03-17T12:05:54.200Z"
   },
   {
    "duration": 1481,
    "start_time": "2022-03-17T12:06:00.839Z"
   },
   {
    "duration": 6,
    "start_time": "2022-03-17T12:06:29.263Z"
   },
   {
    "duration": 13,
    "start_time": "2022-03-17T12:06:45.604Z"
   },
   {
    "duration": 1623,
    "start_time": "2022-03-17T12:08:04.768Z"
   },
   {
    "duration": 14,
    "start_time": "2022-03-18T04:07:12.737Z"
   },
   {
    "duration": 125,
    "start_time": "2022-03-18T04:07:17.010Z"
   },
   {
    "duration": 65,
    "start_time": "2022-03-18T04:07:41.353Z"
   },
   {
    "duration": 10685,
    "start_time": "2022-03-18T04:07:44.010Z"
   },
   {
    "duration": 100,
    "start_time": "2022-03-18T04:07:56.969Z"
   },
   {
    "duration": 206,
    "start_time": "2022-03-18T04:08:56.218Z"
   },
   {
    "duration": 26,
    "start_time": "2022-03-18T04:09:32.051Z"
   },
   {
    "duration": 186548,
    "start_time": "2022-03-18T04:10:33.043Z"
   },
   {
    "duration": 3048,
    "start_time": "2022-03-18T04:13:45.219Z"
   },
   {
    "duration": 35,
    "start_time": "2022-03-18T04:29:46.754Z"
   },
   {
    "duration": 666,
    "start_time": "2022-03-18T04:40:41.214Z"
   },
   {
    "duration": 3921,
    "start_time": "2022-03-18T04:40:51.396Z"
   },
   {
    "duration": 1702,
    "start_time": "2022-03-18T05:11:01.219Z"
   },
   {
    "duration": 370,
    "start_time": "2022-03-18T05:11:03.366Z"
   },
   {
    "duration": 7,
    "start_time": "2022-03-18T05:11:04.823Z"
   },
   {
    "duration": 6,
    "start_time": "2022-03-18T05:11:05.551Z"
   },
   {
    "duration": 178,
    "start_time": "2022-03-18T05:11:06.350Z"
   },
   {
    "duration": 75,
    "start_time": "2022-03-18T05:21:48.783Z"
   },
   {
    "duration": 11176,
    "start_time": "2022-03-18T05:21:57.770Z"
   },
   {
    "duration": 1796,
    "start_time": "2022-03-18T05:22:08.949Z"
   },
   {
    "duration": 182345,
    "start_time": "2022-03-18T05:22:10.747Z"
   },
   {
    "duration": 6,
    "start_time": "2022-03-18T05:25:13.095Z"
   },
   {
    "duration": 12,
    "start_time": "2022-03-18T05:25:13.103Z"
   },
   {
    "duration": 166,
    "start_time": "2022-03-18T05:25:13.118Z"
   },
   {
    "duration": 1298,
    "start_time": "2022-03-18T05:25:13.286Z"
   },
   {
    "duration": 1301,
    "start_time": "2022-03-18T05:28:55.988Z"
   },
   {
    "duration": 1616,
    "start_time": "2022-03-18T05:29:18.436Z"
   },
   {
    "duration": 1308,
    "start_time": "2022-03-18T05:29:28.020Z"
   },
   {
    "duration": 1301,
    "start_time": "2022-03-18T05:29:46.100Z"
   },
   {
    "duration": 1285,
    "start_time": "2022-03-18T05:30:36.694Z"
   },
   {
    "duration": 348,
    "start_time": "2022-03-18T05:31:06.989Z"
   },
   {
    "duration": 32,
    "start_time": "2022-03-18T05:31:16.440Z"
   },
   {
    "duration": 487,
    "start_time": "2022-03-18T05:32:54.200Z"
   },
   {
    "duration": 16,
    "start_time": "2022-03-18T05:32:57.183Z"
   },
   {
    "duration": 52,
    "start_time": "2022-03-18T05:33:08.521Z"
   },
   {
    "duration": 33,
    "start_time": "2022-03-18T05:33:21.724Z"
   },
   {
    "duration": 755,
    "start_time": "2022-03-18T05:33:24.539Z"
   },
   {
    "duration": 5,
    "start_time": "2022-03-18T05:34:59.430Z"
   },
   {
    "duration": 1007,
    "start_time": "2022-03-18T05:34:59.438Z"
   },
   {
    "duration": 219,
    "start_time": "2022-03-18T05:35:00.449Z"
   },
   {
    "duration": 6,
    "start_time": "2022-03-18T05:35:00.671Z"
   },
   {
    "duration": 21,
    "start_time": "2022-03-18T05:35:00.684Z"
   },
   {
    "duration": 126,
    "start_time": "2022-03-18T05:35:00.707Z"
   },
   {
    "duration": 15143,
    "start_time": "2022-03-18T05:35:00.835Z"
   },
   {
    "duration": 197,
    "start_time": "2022-03-18T05:35:15.984Z"
   },
   {
    "duration": 17728,
    "start_time": "2022-03-18T05:35:16.185Z"
   },
   {
    "duration": 13,
    "start_time": "2022-03-18T05:54:59.669Z"
   },
   {
    "duration": 94,
    "start_time": "2022-03-18T05:55:28.595Z"
   },
   {
    "duration": 0,
    "start_time": "2022-03-18T06:23:00.109Z"
   },
   {
    "duration": 6,
    "start_time": "2022-03-18T06:23:02.853Z"
   },
   {
    "duration": 935,
    "start_time": "2022-03-18T06:23:04.653Z"
   },
   {
    "duration": 202,
    "start_time": "2022-03-18T06:23:05.591Z"
   },
   {
    "duration": 7,
    "start_time": "2022-03-18T06:23:05.868Z"
   },
   {
    "duration": 6,
    "start_time": "2022-03-18T06:23:06.430Z"
   },
   {
    "duration": 125,
    "start_time": "2022-03-18T06:23:07.559Z"
   },
   {
    "duration": 14017,
    "start_time": "2022-03-18T06:23:11.061Z"
   },
   {
    "duration": 186,
    "start_time": "2022-03-18T06:23:27.982Z"
   },
   {
    "duration": 167,
    "start_time": "2022-03-18T06:23:28.992Z"
   },
   {
    "duration": 9,
    "start_time": "2022-03-18T06:24:11.695Z"
   },
   {
    "duration": 55093,
    "start_time": "2022-03-18T06:24:13.782Z"
   },
   {
    "duration": 8,
    "start_time": "2022-03-18T06:26:22.100Z"
   },
   {
    "duration": 224154,
    "start_time": "2022-03-18T06:26:23.934Z"
   },
   {
    "duration": 12,
    "start_time": "2022-03-18T06:36:59.284Z"
   },
   {
    "duration": 424202,
    "start_time": "2022-03-18T06:37:08.287Z"
   },
   {
    "duration": 23,
    "start_time": "2022-03-18T06:58:17.216Z"
   },
   {
    "duration": 469030,
    "start_time": "2022-03-18T06:58:20.380Z"
   },
   {
    "duration": 74,
    "start_time": "2022-03-18T07:10:35.817Z"
   },
   {
    "duration": 117,
    "start_time": "2022-03-18T07:10:55.390Z"
   },
   {
    "duration": 318,
    "start_time": "2022-03-18T07:12:08.722Z"
   },
   {
    "duration": 96,
    "start_time": "2022-03-18T07:12:25.061Z"
   },
   {
    "duration": 29,
    "start_time": "2022-03-18T07:12:32.632Z"
   },
   {
    "duration": 14,
    "start_time": "2022-03-18T07:12:54.098Z"
   },
   {
    "duration": 7,
    "start_time": "2022-03-18T07:13:09.196Z"
   },
   {
    "duration": 6,
    "start_time": "2022-03-18T07:13:58.138Z"
   },
   {
    "duration": 1091,
    "start_time": "2022-03-18T07:13:58.148Z"
   },
   {
    "duration": 206,
    "start_time": "2022-03-18T07:13:59.243Z"
   },
   {
    "duration": 8,
    "start_time": "2022-03-18T07:13:59.453Z"
   },
   {
    "duration": 21,
    "start_time": "2022-03-18T07:13:59.463Z"
   },
   {
    "duration": 139,
    "start_time": "2022-03-18T07:13:59.487Z"
   },
   {
    "duration": 14742,
    "start_time": "2022-03-18T07:13:59.629Z"
   },
   {
    "duration": 158,
    "start_time": "2022-03-18T07:14:14.373Z"
   },
   {
    "duration": 113,
    "start_time": "2022-03-18T07:14:14.534Z"
   },
   {
    "duration": 12,
    "start_time": "2022-03-18T07:14:14.652Z"
   },
   {
    "duration": 14550,
    "start_time": "2022-03-18T07:14:14.684Z"
   },
   {
    "duration": 0,
    "start_time": "2022-03-18T07:14:29.237Z"
   },
   {
    "duration": 0,
    "start_time": "2022-03-18T07:14:29.239Z"
   },
   {
    "duration": 9,
    "start_time": "2022-03-18T07:15:14.294Z"
   },
   {
    "duration": 14016,
    "start_time": "2022-03-18T07:15:16.839Z"
   },
   {
    "duration": 8,
    "start_time": "2022-03-18T07:16:13.912Z"
   },
   {
    "duration": 13063,
    "start_time": "2022-03-18T07:16:15.828Z"
   },
   {
    "duration": 43,
    "start_time": "2022-03-18T07:16:31.850Z"
   },
   {
    "duration": 9,
    "start_time": "2022-03-18T07:16:35.124Z"
   },
   {
    "duration": 6,
    "start_time": "2022-03-18T07:16:41.805Z"
   },
   {
    "duration": 6,
    "start_time": "2022-03-18T07:16:54.807Z"
   },
   {
    "duration": 1022,
    "start_time": "2022-03-18T07:16:54.816Z"
   },
   {
    "duration": 200,
    "start_time": "2022-03-18T07:16:55.840Z"
   },
   {
    "duration": 6,
    "start_time": "2022-03-18T07:16:56.043Z"
   },
   {
    "duration": 21,
    "start_time": "2022-03-18T07:16:56.052Z"
   },
   {
    "duration": 132,
    "start_time": "2022-03-18T07:16:56.076Z"
   },
   {
    "duration": 14010,
    "start_time": "2022-03-18T07:16:56.211Z"
   },
   {
    "duration": 153,
    "start_time": "2022-03-18T07:17:10.224Z"
   },
   {
    "duration": 111,
    "start_time": "2022-03-18T07:17:10.380Z"
   },
   {
    "duration": 7,
    "start_time": "2022-03-18T07:17:10.494Z"
   },
   {
    "duration": 12090,
    "start_time": "2022-03-18T07:17:10.503Z"
   },
   {
    "duration": 123,
    "start_time": "2022-03-18T07:17:22.686Z"
   },
   {
    "duration": 6,
    "start_time": "2022-03-18T07:18:05.732Z"
   },
   {
    "duration": 1288,
    "start_time": "2022-03-18T07:18:05.741Z"
   },
   {
    "duration": 196,
    "start_time": "2022-03-18T07:18:07.032Z"
   },
   {
    "duration": 5,
    "start_time": "2022-03-18T07:18:07.231Z"
   },
   {
    "duration": 27,
    "start_time": "2022-03-18T07:18:07.241Z"
   },
   {
    "duration": 162,
    "start_time": "2022-03-18T07:18:07.271Z"
   },
   {
    "duration": 3240,
    "start_time": "2022-03-18T10:39:09.136Z"
   },
   {
    "duration": 1897,
    "start_time": "2022-03-18T10:39:12.387Z"
   },
   {
    "duration": 230,
    "start_time": "2022-03-18T10:39:14.287Z"
   },
   {
    "duration": 0,
    "start_time": "2022-03-18T10:39:14.521Z"
   },
   {
    "duration": 0,
    "start_time": "2022-03-18T10:39:14.523Z"
   },
   {
    "duration": 0,
    "start_time": "2022-03-18T10:39:14.525Z"
   },
   {
    "duration": 0,
    "start_time": "2022-03-18T10:39:14.527Z"
   },
   {
    "duration": 0,
    "start_time": "2022-03-18T10:39:14.529Z"
   },
   {
    "duration": 0,
    "start_time": "2022-03-18T10:39:14.531Z"
   },
   {
    "duration": 0,
    "start_time": "2022-03-18T10:39:14.533Z"
   },
   {
    "duration": 0,
    "start_time": "2022-03-18T10:39:14.534Z"
   },
   {
    "duration": 0,
    "start_time": "2022-03-18T10:39:14.536Z"
   },
   {
    "duration": 5,
    "start_time": "2022-03-18T10:40:08.311Z"
   },
   {
    "duration": 1282,
    "start_time": "2022-03-18T10:40:08.318Z"
   },
   {
    "duration": 5,
    "start_time": "2022-03-18T10:44:19.307Z"
   },
   {
    "duration": 1348,
    "start_time": "2022-03-18T10:44:19.491Z"
   },
   {
    "duration": 234,
    "start_time": "2022-03-18T10:44:20.844Z"
   },
   {
    "duration": 7,
    "start_time": "2022-03-18T10:44:21.080Z"
   },
   {
    "duration": 17,
    "start_time": "2022-03-18T10:44:21.090Z"
   },
   {
    "duration": 144,
    "start_time": "2022-03-18T10:44:21.110Z"
   },
   {
    "duration": 2793,
    "start_time": "2022-03-18T10:44:21.256Z"
   },
   {
    "duration": 33,
    "start_time": "2022-03-18T10:44:24.051Z"
   },
   {
    "duration": 20,
    "start_time": "2022-03-18T10:44:24.086Z"
   },
   {
    "duration": 11,
    "start_time": "2022-03-18T10:44:24.108Z"
   },
   {
    "duration": 23177,
    "start_time": "2022-03-18T10:44:24.121Z"
   },
   {
    "duration": 188,
    "start_time": "2022-03-18T10:44:47.300Z"
   },
   {
    "duration": 5,
    "start_time": "2022-03-18T11:27:52.730Z"
   },
   {
    "duration": 5,
    "start_time": "2022-03-18T11:29:45.918Z"
   },
   {
    "duration": 1743,
    "start_time": "2022-03-18T11:29:45.926Z"
   },
   {
    "duration": 200,
    "start_time": "2022-03-18T11:29:47.672Z"
   },
   {
    "duration": 11,
    "start_time": "2022-03-18T11:29:47.876Z"
   },
   {
    "duration": 10,
    "start_time": "2022-03-18T11:29:47.889Z"
   },
   {
    "duration": 140,
    "start_time": "2022-03-18T11:29:47.902Z"
   },
   {
    "duration": 3025,
    "start_time": "2022-03-18T11:29:48.045Z"
   },
   {
    "duration": 29,
    "start_time": "2022-03-18T11:29:51.073Z"
   },
   {
    "duration": 27,
    "start_time": "2022-03-18T11:29:51.105Z"
   },
   {
    "duration": 11,
    "start_time": "2022-03-18T11:29:51.138Z"
   },
   {
    "duration": 741,
    "start_time": "2022-03-18T11:29:51.154Z"
   },
   {
    "duration": 0,
    "start_time": "2022-03-18T11:29:51.898Z"
   },
   {
    "duration": 7,
    "start_time": "2022-03-18T11:30:24.806Z"
   },
   {
    "duration": 1140,
    "start_time": "2022-03-18T11:30:24.816Z"
   },
   {
    "duration": 249,
    "start_time": "2022-03-18T11:30:25.959Z"
   },
   {
    "duration": 12,
    "start_time": "2022-03-18T11:30:26.212Z"
   },
   {
    "duration": 8,
    "start_time": "2022-03-18T11:30:26.229Z"
   },
   {
    "duration": 157,
    "start_time": "2022-03-18T11:30:26.240Z"
   },
   {
    "duration": 4528,
    "start_time": "2022-03-18T11:30:26.400Z"
   },
   {
    "duration": 24,
    "start_time": "2022-03-18T11:30:30.931Z"
   },
   {
    "duration": 46,
    "start_time": "2022-03-18T11:30:30.958Z"
   },
   {
    "duration": 11,
    "start_time": "2022-03-18T11:30:31.006Z"
   },
   {
    "duration": 196,
    "start_time": "2022-03-18T11:30:31.020Z"
   },
   {
    "duration": 0,
    "start_time": "2022-03-18T11:30:31.218Z"
   },
   {
    "duration": 5,
    "start_time": "2022-03-18T11:30:52.918Z"
   },
   {
    "duration": 1428,
    "start_time": "2022-03-18T11:30:52.926Z"
   },
   {
    "duration": 283,
    "start_time": "2022-03-18T11:30:54.357Z"
   },
   {
    "duration": 7,
    "start_time": "2022-03-18T11:30:54.644Z"
   },
   {
    "duration": 10,
    "start_time": "2022-03-18T11:30:54.653Z"
   },
   {
    "duration": 141,
    "start_time": "2022-03-18T11:30:54.665Z"
   },
   {
    "duration": 2805,
    "start_time": "2022-03-18T11:30:54.809Z"
   },
   {
    "duration": 22,
    "start_time": "2022-03-18T11:30:57.617Z"
   },
   {
    "duration": 43,
    "start_time": "2022-03-18T11:30:57.642Z"
   },
   {
    "duration": 17,
    "start_time": "2022-03-18T11:30:57.689Z"
   },
   {
    "duration": 181,
    "start_time": "2022-03-18T11:30:57.709Z"
   },
   {
    "duration": 0,
    "start_time": "2022-03-18T11:30:57.893Z"
   },
   {
    "duration": 7,
    "start_time": "2022-03-18T11:31:10.648Z"
   },
   {
    "duration": 996,
    "start_time": "2022-03-18T11:31:10.658Z"
   },
   {
    "duration": 196,
    "start_time": "2022-03-18T11:31:11.657Z"
   },
   {
    "duration": 6,
    "start_time": "2022-03-18T11:31:11.855Z"
   },
   {
    "duration": 21,
    "start_time": "2022-03-18T11:31:11.864Z"
   },
   {
    "duration": 127,
    "start_time": "2022-03-18T11:31:11.888Z"
   },
   {
    "duration": 4116,
    "start_time": "2022-03-18T11:31:12.017Z"
   },
   {
    "duration": 27,
    "start_time": "2022-03-18T11:31:16.139Z"
   },
   {
    "duration": 33,
    "start_time": "2022-03-18T11:31:16.169Z"
   },
   {
    "duration": 12,
    "start_time": "2022-03-18T11:31:16.206Z"
   },
   {
    "duration": 2103,
    "start_time": "2022-03-18T11:31:16.221Z"
   },
   {
    "duration": 0,
    "start_time": "2022-03-18T11:31:18.328Z"
   },
   {
    "duration": 6,
    "start_time": "2022-03-18T11:32:15.407Z"
   },
   {
    "duration": 1476,
    "start_time": "2022-03-18T11:32:15.416Z"
   },
   {
    "duration": 218,
    "start_time": "2022-03-18T11:32:16.895Z"
   },
   {
    "duration": 7,
    "start_time": "2022-03-18T11:32:17.118Z"
   },
   {
    "duration": 9,
    "start_time": "2022-03-18T11:32:17.128Z"
   },
   {
    "duration": 163,
    "start_time": "2022-03-18T11:32:17.140Z"
   },
   {
    "duration": 2838,
    "start_time": "2022-03-18T11:32:17.306Z"
   },
   {
    "duration": 22,
    "start_time": "2022-03-18T11:32:20.146Z"
   },
   {
    "duration": 20,
    "start_time": "2022-03-18T11:32:20.185Z"
   },
   {
    "duration": 9,
    "start_time": "2022-03-18T11:32:20.209Z"
   },
   {
    "duration": 1716,
    "start_time": "2022-03-18T11:32:20.220Z"
   },
   {
    "duration": 0,
    "start_time": "2022-03-18T11:32:21.939Z"
   },
   {
    "duration": 9,
    "start_time": "2022-03-18T11:32:44.011Z"
   },
   {
    "duration": 1665,
    "start_time": "2022-03-18T11:32:45.739Z"
   },
   {
    "duration": 11,
    "start_time": "2022-03-18T11:42:42.190Z"
   },
   {
    "duration": 7,
    "start_time": "2022-03-18T11:42:53.718Z"
   },
   {
    "duration": 1242,
    "start_time": "2022-03-18T11:42:54.757Z"
   },
   {
    "duration": 7,
    "start_time": "2022-03-18T11:43:03.561Z"
   },
   {
    "duration": 1318,
    "start_time": "2022-03-18T11:43:05.269Z"
   },
   {
    "duration": 6,
    "start_time": "2022-03-18T11:43:12.398Z"
   },
   {
    "duration": 1577,
    "start_time": "2022-03-18T11:43:14.014Z"
   },
   {
    "duration": 13,
    "start_time": "2022-03-18T11:43:45.022Z"
   },
   {
    "duration": 1517,
    "start_time": "2022-03-18T11:43:58.029Z"
   },
   {
    "duration": 14,
    "start_time": "2022-03-18T11:45:42.343Z"
   },
   {
    "duration": 141,
    "start_time": "2022-03-18T11:45:44.423Z"
   },
   {
    "duration": 14,
    "start_time": "2022-03-18T11:46:07.148Z"
   },
   {
    "duration": 1552,
    "start_time": "2022-03-18T11:46:07.302Z"
   },
   {
    "duration": 7,
    "start_time": "2022-03-18T11:56:16.145Z"
   },
   {
    "duration": 1478,
    "start_time": "2022-03-18T11:56:17.411Z"
   },
   {
    "duration": 8,
    "start_time": "2022-03-18T11:56:28.355Z"
   },
   {
    "duration": 1515,
    "start_time": "2022-03-18T11:56:29.172Z"
   },
   {
    "duration": 29609,
    "start_time": "2022-03-18T11:56:37.019Z"
   },
   {
    "duration": 5490,
    "start_time": "2022-03-20T03:04:05.977Z"
   },
   {
    "duration": 212,
    "start_time": "2022-03-20T03:05:22.480Z"
   },
   {
    "duration": 15,
    "start_time": "2022-03-20T03:05:30.461Z"
   },
   {
    "duration": 964,
    "start_time": "2022-03-20T03:05:41.872Z"
   },
   {
    "duration": 178631,
    "start_time": "2022-03-20T03:05:44.417Z"
   },
   {
    "duration": 6,
    "start_time": "2022-03-20T03:08:43.051Z"
   },
   {
    "duration": 28,
    "start_time": "2022-03-20T03:08:43.059Z"
   },
   {
    "duration": 147,
    "start_time": "2022-03-20T03:08:44.680Z"
   },
   {
    "duration": 3120,
    "start_time": "2022-03-20T03:08:54.565Z"
   },
   {
    "duration": 74,
    "start_time": "2022-03-20T03:12:21.477Z"
   },
   {
    "duration": 4939,
    "start_time": "2022-03-20T03:12:33.324Z"
   },
   {
    "duration": 1112,
    "start_time": "2022-03-20T03:12:41.234Z"
   },
   {
    "duration": 17273,
    "start_time": "2022-03-20T03:12:43.982Z"
   },
   {
    "duration": 5,
    "start_time": "2022-03-20T03:13:41.318Z"
   },
   {
    "duration": 999,
    "start_time": "2022-03-20T03:13:43.615Z"
   },
   {
    "duration": 6,
    "start_time": "2022-03-20T03:13:45.922Z"
   },
   {
    "duration": 6,
    "start_time": "2022-03-20T03:13:47.024Z"
   },
   {
    "duration": 132,
    "start_time": "2022-03-20T03:13:49.209Z"
   },
   {
    "duration": 38,
    "start_time": "2022-03-20T03:13:53.436Z"
   },
   {
    "duration": 6,
    "start_time": "2022-03-20T03:14:16.887Z"
   },
   {
    "duration": 11,
    "start_time": "2022-03-20T03:14:19.895Z"
   },
   {
    "duration": 1056,
    "start_time": "2022-03-20T03:14:42.929Z"
   },
   {
    "duration": 38,
    "start_time": "2022-03-20T03:19:49.525Z"
   },
   {
    "duration": 24,
    "start_time": "2022-03-20T03:20:04.012Z"
   },
   {
    "duration": 20,
    "start_time": "2022-03-20T03:20:19.448Z"
   },
   {
    "duration": 25,
    "start_time": "2022-03-20T03:22:08.392Z"
   },
   {
    "duration": 22,
    "start_time": "2022-03-20T03:22:40.004Z"
   },
   {
    "duration": 7,
    "start_time": "2022-03-20T03:23:06.077Z"
   },
   {
    "duration": 15,
    "start_time": "2022-03-20T03:23:31.150Z"
   },
   {
    "duration": 33,
    "start_time": "2022-03-20T03:24:07.213Z"
   },
   {
    "duration": 130,
    "start_time": "2022-03-20T03:26:41.767Z"
   },
   {
    "duration": 2633,
    "start_time": "2022-03-20T03:27:23.464Z"
   },
   {
    "duration": 24,
    "start_time": "2022-03-20T03:27:55.607Z"
   },
   {
    "duration": 46,
    "start_time": "2022-03-20T03:28:09.230Z"
   },
   {
    "duration": 40,
    "start_time": "2022-03-20T03:28:47.823Z"
   },
   {
    "duration": 41,
    "start_time": "2022-03-20T03:29:00.760Z"
   },
   {
    "duration": 45,
    "start_time": "2022-03-20T03:29:19.830Z"
   },
   {
    "duration": 43,
    "start_time": "2022-03-20T03:29:28.931Z"
   },
   {
    "duration": 38,
    "start_time": "2022-03-20T03:29:59.087Z"
   },
   {
    "duration": 41,
    "start_time": "2022-03-20T03:31:00.476Z"
   },
   {
    "duration": 39,
    "start_time": "2022-03-20T03:31:53.843Z"
   },
   {
    "duration": 43,
    "start_time": "2022-03-20T03:32:39.171Z"
   },
   {
    "duration": 1011,
    "start_time": "2022-03-20T03:33:37.813Z"
   },
   {
    "duration": 1023,
    "start_time": "2022-03-20T03:33:57.431Z"
   },
   {
    "duration": 56,
    "start_time": "2022-03-20T03:34:27.759Z"
   },
   {
    "duration": 1186,
    "start_time": "2022-03-20T03:37:00.332Z"
   },
   {
    "duration": 43,
    "start_time": "2022-03-20T03:37:43.905Z"
   },
   {
    "duration": 40,
    "start_time": "2022-03-20T03:37:53.354Z"
   },
   {
    "duration": 42,
    "start_time": "2022-03-20T03:40:09.161Z"
   },
   {
    "duration": 39,
    "start_time": "2022-03-20T03:40:46.435Z"
   },
   {
    "duration": 46,
    "start_time": "2022-03-20T03:41:48.526Z"
   },
   {
    "duration": 43,
    "start_time": "2022-03-20T03:44:41.708Z"
   },
   {
    "duration": 50,
    "start_time": "2022-03-20T03:47:11.453Z"
   },
   {
    "duration": 10125,
    "start_time": "2022-03-20T03:49:12.748Z"
   },
   {
    "duration": 59,
    "start_time": "2022-03-20T03:50:27.723Z"
   },
   {
    "duration": 49,
    "start_time": "2022-03-20T03:51:29.268Z"
   },
   {
    "duration": 26,
    "start_time": "2022-03-20T03:52:21.898Z"
   },
   {
    "duration": 17,
    "start_time": "2022-03-20T03:52:31.094Z"
   },
   {
    "duration": 10052,
    "start_time": "2022-03-20T04:11:21.859Z"
   },
   {
    "duration": 61,
    "start_time": "2022-03-20T04:12:43.016Z"
   },
   {
    "duration": 10313,
    "start_time": "2022-03-20T04:12:58.608Z"
   },
   {
    "duration": 17,
    "start_time": "2022-03-20T04:13:38.929Z"
   },
   {
    "duration": 2416,
    "start_time": "2022-03-20T04:14:29.577Z"
   },
   {
    "duration": 10234,
    "start_time": "2022-03-20T04:15:16.996Z"
   },
   {
    "duration": 75,
    "start_time": "2022-03-20T04:16:38.283Z"
   },
   {
    "duration": 10616,
    "start_time": "2022-03-20T04:17:02.387Z"
   },
   {
    "duration": 158,
    "start_time": "2022-03-20T04:21:06.453Z"
   },
   {
    "duration": 121,
    "start_time": "2022-03-20T04:21:26.924Z"
   },
   {
    "duration": 994,
    "start_time": "2022-03-20T04:21:55.750Z"
   },
   {
    "duration": 130,
    "start_time": "2022-03-20T04:24:15.455Z"
   },
   {
    "duration": 10511,
    "start_time": "2022-03-20T04:24:40.511Z"
   },
   {
    "duration": 33,
    "start_time": "2022-03-20T04:30:11.587Z"
   },
   {
    "duration": 10096,
    "start_time": "2022-03-20T04:30:44.151Z"
   },
   {
    "duration": 68,
    "start_time": "2022-03-20T04:31:16.975Z"
   },
   {
    "duration": 41,
    "start_time": "2022-03-20T04:31:25.835Z"
   },
   {
    "duration": 48,
    "start_time": "2022-03-20T04:31:49.294Z"
   },
   {
    "duration": 10073,
    "start_time": "2022-03-20T04:32:02.142Z"
   },
   {
    "duration": 268,
    "start_time": "2022-03-20T04:35:26.289Z"
   },
   {
    "duration": 51,
    "start_time": "2022-03-20T04:35:40.983Z"
   },
   {
    "duration": 30,
    "start_time": "2022-03-20T04:36:02.335Z"
   },
   {
    "duration": 10,
    "start_time": "2022-03-20T04:36:38.613Z"
   },
   {
    "duration": 7,
    "start_time": "2022-03-20T04:37:23.263Z"
   },
   {
    "duration": 41,
    "start_time": "2022-03-20T04:37:26.535Z"
   },
   {
    "duration": 46,
    "start_time": "2022-03-20T04:40:16.817Z"
   },
   {
    "duration": 34,
    "start_time": "2022-03-20T04:40:57.202Z"
   },
   {
    "duration": 37,
    "start_time": "2022-03-20T04:41:01.733Z"
   },
   {
    "duration": 46,
    "start_time": "2022-03-20T04:41:05.201Z"
   },
   {
    "duration": 10,
    "start_time": "2022-03-20T04:41:18.411Z"
   },
   {
    "duration": 6,
    "start_time": "2022-03-20T04:42:33.445Z"
   },
   {
    "duration": 1041,
    "start_time": "2022-03-20T04:42:33.460Z"
   },
   {
    "duration": 6,
    "start_time": "2022-03-20T04:42:34.503Z"
   },
   {
    "duration": 16,
    "start_time": "2022-03-20T04:42:34.511Z"
   },
   {
    "duration": 136,
    "start_time": "2022-03-20T04:42:34.530Z"
   },
   {
    "duration": 0,
    "start_time": "2022-03-20T05:10:34.336Z"
   },
   {
    "duration": 0,
    "start_time": "2022-03-20T05:10:34.339Z"
   },
   {
    "duration": 1,
    "start_time": "2022-03-20T05:10:34.341Z"
   },
   {
    "duration": 0,
    "start_time": "2022-03-20T05:10:34.344Z"
   },
   {
    "duration": 0,
    "start_time": "2022-03-20T05:10:34.346Z"
   },
   {
    "duration": 0,
    "start_time": "2022-03-20T05:10:34.349Z"
   },
   {
    "duration": 0,
    "start_time": "2022-03-20T05:10:34.384Z"
   },
   {
    "duration": 0,
    "start_time": "2022-03-20T05:10:34.387Z"
   },
   {
    "duration": 9059,
    "start_time": "2022-03-20T05:10:35.652Z"
   },
   {
    "duration": 6,
    "start_time": "2022-03-20T05:10:56.215Z"
   },
   {
    "duration": 985,
    "start_time": "2022-03-20T05:10:59.566Z"
   },
   {
    "duration": 6,
    "start_time": "2022-03-20T05:11:02.280Z"
   },
   {
    "duration": 8,
    "start_time": "2022-03-20T05:11:03.511Z"
   },
   {
    "duration": 125,
    "start_time": "2022-03-20T05:11:06.163Z"
   },
   {
    "duration": 10148,
    "start_time": "2022-03-20T05:11:09.727Z"
   },
   {
    "duration": 38,
    "start_time": "2022-03-20T05:21:27.416Z"
   },
   {
    "duration": 3229,
    "start_time": "2022-03-20T14:55:15.558Z"
   },
   {
    "duration": 1235,
    "start_time": "2022-03-20T14:55:18.790Z"
   },
   {
    "duration": 5,
    "start_time": "2022-03-20T14:55:20.027Z"
   },
   {
    "duration": 6,
    "start_time": "2022-03-20T14:55:20.034Z"
   },
   {
    "duration": 99,
    "start_time": "2022-03-20T14:55:20.041Z"
   },
   {
    "duration": 34566,
    "start_time": "2022-03-20T14:55:20.142Z"
   },
   {
    "duration": 128920,
    "start_time": "2022-03-20T14:55:54.711Z"
   },
   {
    "duration": 2022,
    "start_time": "2022-03-20T14:58:03.633Z"
   },
   {
    "duration": 0,
    "start_time": "2022-03-20T14:58:05.657Z"
   },
   {
    "duration": 0,
    "start_time": "2022-03-20T14:58:05.658Z"
   },
   {
    "duration": 0,
    "start_time": "2022-03-20T14:58:05.660Z"
   },
   {
    "duration": 0,
    "start_time": "2022-03-20T14:58:05.661Z"
   },
   {
    "duration": 0,
    "start_time": "2022-03-20T14:58:05.663Z"
   },
   {
    "duration": 127,
    "start_time": "2022-03-20T14:58:28.937Z"
   },
   {
    "duration": 7,
    "start_time": "2022-03-20T14:58:41.673Z"
   },
   {
    "duration": 4,
    "start_time": "2022-03-20T14:58:44.212Z"
   },
   {
    "duration": 43,
    "start_time": "2022-03-20T14:58:46.324Z"
   },
   {
    "duration": 4,
    "start_time": "2022-03-20T14:58:51.690Z"
   },
   {
    "duration": 83,
    "start_time": "2022-03-20T14:58:53.327Z"
   },
   {
    "duration": 4,
    "start_time": "2022-03-20T14:59:23.148Z"
   },
   {
    "duration": 839,
    "start_time": "2022-03-20T14:59:23.155Z"
   },
   {
    "duration": 4,
    "start_time": "2022-03-20T14:59:23.996Z"
   },
   {
    "duration": 7,
    "start_time": "2022-03-20T14:59:24.001Z"
   },
   {
    "duration": 105,
    "start_time": "2022-03-20T14:59:24.010Z"
   },
   {
    "duration": 2994461,
    "start_time": "2022-03-20T14:59:24.116Z"
   },
   {
    "duration": 171,
    "start_time": "2022-03-20T15:49:18.579Z"
   },
   {
    "duration": 1592,
    "start_time": "2022-03-20T15:49:18.752Z"
   },
   {
    "duration": 0,
    "start_time": "2022-03-20T15:49:20.345Z"
   },
   {
    "duration": 0,
    "start_time": "2022-03-20T15:49:20.346Z"
   },
   {
    "duration": 0,
    "start_time": "2022-03-20T15:49:20.348Z"
   },
   {
    "duration": 0,
    "start_time": "2022-03-20T15:49:20.349Z"
   },
   {
    "duration": 0,
    "start_time": "2022-03-20T15:49:20.350Z"
   },
   {
    "duration": 5,
    "start_time": "2022-03-20T15:49:26.843Z"
   },
   {
    "duration": 863,
    "start_time": "2022-03-20T15:49:26.851Z"
   },
   {
    "duration": 4,
    "start_time": "2022-03-20T15:49:27.715Z"
   },
   {
    "duration": 7,
    "start_time": "2022-03-20T15:49:27.723Z"
   },
   {
    "duration": 104,
    "start_time": "2022-03-20T15:49:27.732Z"
   },
   {
    "duration": 361568,
    "start_time": "2022-03-20T15:49:27.837Z"
   },
   {
    "duration": 171,
    "start_time": "2022-03-20T15:55:29.408Z"
   },
   {
    "duration": 753,
    "start_time": "2022-03-20T15:55:29.580Z"
   },
   {
    "duration": 21,
    "start_time": "2022-03-20T15:55:30.335Z"
   },
   {
    "duration": 4,
    "start_time": "2022-03-20T15:55:30.359Z"
   },
   {
    "duration": 147,
    "start_time": "2022-03-20T15:55:30.365Z"
   },
   {
    "duration": 127,
    "start_time": "2022-03-20T15:55:30.515Z"
   },
   {
    "duration": 0,
    "start_time": "2022-03-20T15:55:30.644Z"
   },
   {
    "duration": 5,
    "start_time": "2022-03-20T15:58:18.506Z"
   },
   {
    "duration": 100,
    "start_time": "2022-03-20T15:58:21.417Z"
   },
   {
    "duration": 4,
    "start_time": "2022-03-20T16:31:54.270Z"
   },
   {
    "duration": 802,
    "start_time": "2022-03-20T16:31:54.276Z"
   },
   {
    "duration": 4,
    "start_time": "2022-03-20T16:31:55.080Z"
   },
   {
    "duration": 6,
    "start_time": "2022-03-20T16:31:55.085Z"
   },
   {
    "duration": 94,
    "start_time": "2022-03-20T16:31:55.093Z"
   },
   {
    "duration": 1434,
    "start_time": "2022-03-20T16:31:55.189Z"
   },
   {
    "duration": 151,
    "start_time": "2022-03-20T16:31:56.625Z"
   },
   {
    "duration": 1496,
    "start_time": "2022-03-20T16:31:56.778Z"
   },
   {
    "duration": 34,
    "start_time": "2022-03-20T16:31:58.275Z"
   },
   {
    "duration": 5,
    "start_time": "2022-03-20T16:31:58.311Z"
   },
   {
    "duration": 95,
    "start_time": "2022-03-20T16:31:58.317Z"
   },
   {
    "duration": 113,
    "start_time": "2022-03-20T16:31:58.414Z"
   },
   {
    "duration": 0,
    "start_time": "2022-03-20T16:31:58.529Z"
   },
   {
    "duration": 4,
    "start_time": "2022-03-20T16:32:28.040Z"
   },
   {
    "duration": 819,
    "start_time": "2022-03-20T16:32:28.046Z"
   },
   {
    "duration": 4,
    "start_time": "2022-03-20T16:32:28.867Z"
   },
   {
    "duration": 6,
    "start_time": "2022-03-20T16:32:28.873Z"
   },
   {
    "duration": 97,
    "start_time": "2022-03-20T16:32:28.880Z"
   },
   {
    "duration": 5660,
    "start_time": "2022-03-20T16:32:28.978Z"
   },
   {
    "duration": 150,
    "start_time": "2022-03-20T16:32:34.640Z"
   },
   {
    "duration": 14935,
    "start_time": "2022-03-20T16:32:34.792Z"
   },
   {
    "duration": 561,
    "start_time": "2022-03-20T16:32:49.728Z"
   },
   {
    "duration": 5,
    "start_time": "2022-03-20T16:32:50.291Z"
   },
   {
    "duration": 1214,
    "start_time": "2022-03-20T16:32:50.298Z"
   },
   {
    "duration": 118,
    "start_time": "2022-03-20T16:32:51.514Z"
   },
   {
    "duration": 0,
    "start_time": "2022-03-20T16:32:51.633Z"
   },
   {
    "duration": 3,
    "start_time": "2022-03-20T16:33:15.919Z"
   },
   {
    "duration": 1300,
    "start_time": "2022-03-20T16:33:15.924Z"
   },
   {
    "duration": 4,
    "start_time": "2022-03-20T16:33:17.226Z"
   },
   {
    "duration": 5,
    "start_time": "2022-03-20T16:33:17.232Z"
   },
   {
    "duration": 103,
    "start_time": "2022-03-20T16:33:17.239Z"
   },
   {
    "duration": 49652,
    "start_time": "2022-03-20T16:33:17.344Z"
   },
   {
    "duration": 144,
    "start_time": "2022-03-20T16:34:06.998Z"
   },
   {
    "duration": 3796,
    "start_time": "2022-03-20T16:37:28.993Z"
   },
   {
    "duration": 1441,
    "start_time": "2022-03-20T16:37:32.791Z"
   },
   {
    "duration": 4,
    "start_time": "2022-03-20T16:37:34.234Z"
   },
   {
    "duration": 6,
    "start_time": "2022-03-20T16:37:34.240Z"
   },
   {
    "duration": 113,
    "start_time": "2022-03-20T16:37:34.248Z"
   },
   {
    "duration": 86603,
    "start_time": "2022-03-20T16:37:34.363Z"
   },
   {
    "duration": 129205,
    "start_time": "2022-03-20T16:39:00.968Z"
   },
   {
    "duration": 0,
    "start_time": "2022-03-20T16:43:18.746Z"
   },
   {
    "duration": 0,
    "start_time": "2022-03-20T16:43:18.748Z"
   },
   {
    "duration": 4,
    "start_time": "2022-03-20T16:43:20.537Z"
   },
   {
    "duration": 802,
    "start_time": "2022-03-20T16:43:23.783Z"
   },
   {
    "duration": 5991,
    "start_time": "2022-03-20T16:43:29.077Z"
   },
   {
    "duration": 146,
    "start_time": "2022-03-20T16:43:40.494Z"
   },
   {
    "duration": 14951,
    "start_time": "2022-03-20T16:43:43.981Z"
   },
   {
    "duration": 257,
    "start_time": "2022-03-20T16:44:16.206Z"
   },
   {
    "duration": 5,
    "start_time": "2022-03-20T16:48:04.854Z"
   },
   {
    "duration": 7,
    "start_time": "2022-03-20T16:48:48.298Z"
   },
   {
    "duration": 25,
    "start_time": "2022-03-20T16:48:59.139Z"
   },
   {
    "duration": 46,
    "start_time": "2022-03-20T16:49:05.273Z"
   },
   {
    "duration": 8,
    "start_time": "2022-03-20T16:50:18.774Z"
   },
   {
    "duration": 29,
    "start_time": "2022-03-20T16:50:20.771Z"
   },
   {
    "duration": 7,
    "start_time": "2022-03-20T16:51:18.042Z"
   },
   {
    "duration": 977,
    "start_time": "2022-03-20T16:51:23.647Z"
   },
   {
    "duration": 840,
    "start_time": "2022-03-20T17:15:03.278Z"
   },
   {
    "duration": 23,
    "start_time": "2022-03-20T17:17:53.723Z"
   },
   {
    "duration": 20,
    "start_time": "2022-03-20T17:18:01.183Z"
   },
   {
    "duration": 19,
    "start_time": "2022-03-20T17:18:07.676Z"
   },
   {
    "duration": 5,
    "start_time": "2022-03-20T17:18:19.413Z"
   },
   {
    "duration": 32,
    "start_time": "2022-03-20T17:19:32.212Z"
   },
   {
    "duration": 24,
    "start_time": "2022-03-20T17:20:47.011Z"
   },
   {
    "duration": 137,
    "start_time": "2022-03-20T17:21:05.055Z"
   },
   {
    "duration": 1793,
    "start_time": "2022-03-20T17:21:12.087Z"
   },
   {
    "duration": 1793,
    "start_time": "2022-03-20T17:22:17.534Z"
   },
   {
    "duration": 6,
    "start_time": "2022-03-20T17:25:55.027Z"
   },
   {
    "duration": 1044,
    "start_time": "2022-03-20T17:25:56.791Z"
   },
   {
    "duration": 5,
    "start_time": "2022-03-20T17:26:31.606Z"
   },
   {
    "duration": 9431,
    "start_time": "2022-03-20T17:26:33.536Z"
   },
   {
    "duration": 6,
    "start_time": "2022-03-20T17:27:08.904Z"
   },
   {
    "duration": 32608,
    "start_time": "2022-03-20T17:27:09.999Z"
   },
   {
    "duration": 7,
    "start_time": "2022-03-20T17:31:50.143Z"
   },
   {
    "duration": 32313,
    "start_time": "2022-03-20T17:31:52.546Z"
   },
   {
    "duration": 7,
    "start_time": "2022-03-20T17:32:40.814Z"
   },
   {
    "duration": 7,
    "start_time": "2022-03-20T17:32:47.890Z"
   },
   {
    "duration": 37975,
    "start_time": "2022-03-20T17:32:49.518Z"
   },
   {
    "duration": 6,
    "start_time": "2022-03-20T17:37:18.434Z"
   },
   {
    "duration": 65129,
    "start_time": "2022-03-20T17:37:20.965Z"
   },
   {
    "duration": 7,
    "start_time": "2022-03-20T17:39:30.934Z"
   },
   {
    "duration": 36,
    "start_time": "2022-03-20T17:39:32.965Z"
   },
   {
    "duration": 7,
    "start_time": "2022-03-20T17:40:57.721Z"
   },
   {
    "duration": 24,
    "start_time": "2022-03-20T17:40:59.646Z"
   },
   {
    "duration": 6,
    "start_time": "2022-03-20T17:41:16.087Z"
   },
   {
    "duration": 25,
    "start_time": "2022-03-20T17:41:18.754Z"
   },
   {
    "duration": 7,
    "start_time": "2022-03-20T17:41:33.393Z"
   },
   {
    "duration": 76271,
    "start_time": "2022-03-20T17:41:36.836Z"
   },
   {
    "duration": 6,
    "start_time": "2022-03-20T17:43:56.730Z"
   },
   {
    "duration": 7,
    "start_time": "2022-03-20T17:44:03.145Z"
   },
   {
    "duration": 50523,
    "start_time": "2022-03-20T17:44:04.856Z"
   },
   {
    "duration": 7,
    "start_time": "2022-03-20T17:45:42.230Z"
   },
   {
    "duration": 390964,
    "start_time": "2022-03-20T17:45:43.866Z"
   },
   {
    "duration": 4834,
    "start_time": "2022-03-21T03:41:05.512Z"
   },
   {
    "duration": 4280,
    "start_time": "2022-03-21T03:41:12.570Z"
   },
   {
    "duration": 5064,
    "start_time": "2022-03-21T03:41:20.218Z"
   },
   {
    "duration": 1827,
    "start_time": "2022-03-21T04:56:01.444Z"
   },
   {
    "duration": 4,
    "start_time": "2022-03-21T04:56:13.583Z"
   },
   {
    "duration": 758,
    "start_time": "2022-03-21T04:56:15.892Z"
   },
   {
    "duration": 5097,
    "start_time": "2022-03-21T04:56:19.708Z"
   },
   {
    "duration": 1434,
    "start_time": "2022-03-21T04:56:27.259Z"
   },
   {
    "duration": 1835,
    "start_time": "2022-03-21T04:56:37.525Z"
   },
   {
    "duration": 47,
    "start_time": "2022-03-21T04:56:59.803Z"
   },
   {
    "duration": 4433,
    "start_time": "2022-03-21T04:58:34.729Z"
   },
   {
    "duration": 5855,
    "start_time": "2022-03-21T04:58:41.014Z"
   },
   {
    "duration": 5277,
    "start_time": "2022-03-21T04:58:49.798Z"
   },
   {
    "duration": 4234,
    "start_time": "2022-03-21T04:59:34.142Z"
   },
   {
    "duration": 5915,
    "start_time": "2022-03-21T04:59:40.286Z"
   },
   {
    "duration": 5314,
    "start_time": "2022-03-21T04:59:52.549Z"
   },
   {
    "duration": 1851,
    "start_time": "2022-03-21T05:00:00.024Z"
   },
   {
    "duration": 46,
    "start_time": "2022-03-21T05:00:06.469Z"
   },
   {
    "duration": 50,
    "start_time": "2022-03-21T05:00:54.576Z"
   },
   {
    "duration": 4336,
    "start_time": "2022-03-21T05:02:00.022Z"
   },
   {
    "duration": 5820,
    "start_time": "2022-03-21T05:02:11.329Z"
   },
   {
    "duration": 5215,
    "start_time": "2022-03-21T05:02:20.551Z"
   },
   {
    "duration": 166,
    "start_time": "2022-03-21T05:03:58.623Z"
   },
   {
    "duration": 127,
    "start_time": "2022-03-21T05:05:39.082Z"
   },
   {
    "duration": 85,
    "start_time": "2022-03-21T05:05:45.959Z"
   },
   {
    "duration": 4545,
    "start_time": "2022-03-21T05:05:51.392Z"
   },
   {
    "duration": 4089,
    "start_time": "2022-03-21T05:05:58.865Z"
   },
   {
    "duration": 708,
    "start_time": "2022-03-21T05:06:08.289Z"
   },
   {
    "duration": 23,
    "start_time": "2022-03-21T05:06:12.236Z"
   },
   {
    "duration": 48,
    "start_time": "2022-03-21T05:06:14.314Z"
   },
   {
    "duration": 9,
    "start_time": "2022-03-21T05:07:07.923Z"
   },
   {
    "duration": 9,
    "start_time": "2022-03-21T05:07:25.040Z"
   },
   {
    "duration": 7,
    "start_time": "2022-03-21T05:07:44.993Z"
   },
   {
    "duration": 105,
    "start_time": "2022-03-21T05:07:47.414Z"
   },
   {
    "duration": 6,
    "start_time": "2022-03-21T05:08:52.978Z"
   },
   {
    "duration": 15,
    "start_time": "2022-03-21T05:08:55.024Z"
   },
   {
    "duration": 6,
    "start_time": "2022-03-21T05:09:02.210Z"
   },
   {
    "duration": 257,
    "start_time": "2022-03-21T05:09:04.985Z"
   },
   {
    "duration": 6,
    "start_time": "2022-03-21T05:10:12.809Z"
   },
   {
    "duration": 1519,
    "start_time": "2022-03-21T05:10:16.305Z"
   },
   {
    "duration": 6,
    "start_time": "2022-03-21T05:10:26.544Z"
   },
   {
    "duration": 5582,
    "start_time": "2022-03-21T05:10:28.566Z"
   },
   {
    "duration": 4,
    "start_time": "2022-03-21T05:10:51.457Z"
   },
   {
    "duration": 746,
    "start_time": "2022-03-21T05:10:51.463Z"
   },
   {
    "duration": 4,
    "start_time": "2022-03-21T05:10:52.211Z"
   },
   {
    "duration": 15,
    "start_time": "2022-03-21T05:10:52.217Z"
   },
   {
    "duration": 104,
    "start_time": "2022-03-21T05:10:52.234Z"
   },
   {
    "duration": 5404,
    "start_time": "2022-03-21T05:10:52.339Z"
   },
   {
    "duration": 160,
    "start_time": "2022-03-21T05:10:57.745Z"
   },
   {
    "duration": 4355,
    "start_time": "2022-03-21T05:11:22.085Z"
   },
   {
    "duration": 5950,
    "start_time": "2022-03-21T05:11:26.442Z"
   },
   {
    "duration": 4,
    "start_time": "2022-03-21T05:11:32.394Z"
   },
   {
    "duration": 6,
    "start_time": "2022-03-21T05:11:32.399Z"
   },
   {
    "duration": 103,
    "start_time": "2022-03-21T05:11:32.406Z"
   },
   {
    "duration": 2951,
    "start_time": "2022-03-21T05:11:32.511Z"
   },
   {
    "duration": 99,
    "start_time": "2022-03-21T05:11:35.463Z"
   },
   {
    "duration": 2921,
    "start_time": "2022-03-21T05:11:35.563Z"
   },
   {
    "duration": 901,
    "start_time": "2022-03-21T05:11:38.485Z"
   },
   {
    "duration": 9,
    "start_time": "2022-03-21T05:11:39.389Z"
   },
   {
    "duration": 50,
    "start_time": "2022-03-21T05:12:00.186Z"
   },
   {
    "duration": 939,
    "start_time": "2022-03-21T05:12:04.175Z"
   },
   {
    "duration": 52,
    "start_time": "2022-03-21T05:12:07.102Z"
   },
   {
    "duration": 3514,
    "start_time": "2022-03-21T05:13:03.391Z"
   },
   {
    "duration": 71,
    "start_time": "2022-03-21T05:20:46.974Z"
   },
   {
    "duration": 0,
    "start_time": "2022-03-21T05:20:47.047Z"
   },
   {
    "duration": 0,
    "start_time": "2022-03-21T05:20:47.048Z"
   },
   {
    "duration": 0,
    "start_time": "2022-03-21T05:20:47.049Z"
   },
   {
    "duration": 0,
    "start_time": "2022-03-21T05:20:47.051Z"
   },
   {
    "duration": 0,
    "start_time": "2022-03-21T05:20:47.052Z"
   },
   {
    "duration": 0,
    "start_time": "2022-03-21T05:20:47.053Z"
   },
   {
    "duration": 4,
    "start_time": "2022-03-21T05:20:58.096Z"
   },
   {
    "duration": 7442,
    "start_time": "2022-03-21T05:20:58.102Z"
   },
   {
    "duration": 4,
    "start_time": "2022-03-21T05:21:05.545Z"
   },
   {
    "duration": 10,
    "start_time": "2022-03-21T05:21:05.551Z"
   },
   {
    "duration": 103,
    "start_time": "2022-03-21T05:21:05.562Z"
   },
   {
    "duration": 2937,
    "start_time": "2022-03-21T05:21:05.666Z"
   },
   {
    "duration": 91,
    "start_time": "2022-03-21T05:21:08.605Z"
   },
   {
    "duration": 9,
    "start_time": "2022-03-21T05:21:08.697Z"
   },
   {
    "duration": 25,
    "start_time": "2022-03-21T05:21:08.709Z"
   },
   {
    "duration": 2965,
    "start_time": "2022-03-21T05:21:29.674Z"
   },
   {
    "duration": 886,
    "start_time": "2022-03-21T05:21:41.577Z"
   },
   {
    "duration": 8,
    "start_time": "2022-03-21T05:21:46.151Z"
   },
   {
    "duration": 47,
    "start_time": "2022-03-21T05:28:57.986Z"
   },
   {
    "duration": 4419,
    "start_time": "2022-03-21T05:30:11.258Z"
   },
   {
    "duration": 5856,
    "start_time": "2022-03-21T05:30:19.729Z"
   },
   {
    "duration": 2930,
    "start_time": "2022-03-21T05:30:31.540Z"
   },
   {
    "duration": 75,
    "start_time": "2022-03-21T05:30:47.242Z"
   },
   {
    "duration": 3,
    "start_time": "2022-03-21T05:30:49.657Z"
   },
   {
    "duration": 2925,
    "start_time": "2022-03-21T05:30:51.631Z"
   },
   {
    "duration": 892,
    "start_time": "2022-03-21T05:30:58.600Z"
   },
   {
    "duration": 5,
    "start_time": "2022-03-21T05:31:36.132Z"
   },
   {
    "duration": 110,
    "start_time": "2022-03-21T05:31:38.259Z"
   },
   {
    "duration": 5,
    "start_time": "2022-03-21T05:32:18.305Z"
   },
   {
    "duration": 2269,
    "start_time": "2022-03-21T05:32:20.465Z"
   },
   {
    "duration": 4,
    "start_time": "2022-03-21T05:32:33.757Z"
   },
   {
    "duration": 2402,
    "start_time": "2022-03-21T05:32:35.936Z"
   },
   {
    "duration": 4,
    "start_time": "2022-03-21T05:39:44.876Z"
   },
   {
    "duration": 4946,
    "start_time": "2022-03-21T05:39:47.211Z"
   },
   {
    "duration": 3133,
    "start_time": "2022-03-21T05:39:56.125Z"
   },
   {
    "duration": 608,
    "start_time": "2022-03-21T05:40:03.406Z"
   },
   {
    "duration": 264,
    "start_time": "2022-03-21T05:40:30.083Z"
   },
   {
    "duration": 4,
    "start_time": "2022-03-21T05:40:45.204Z"
   },
   {
    "duration": 105,
    "start_time": "2022-03-21T05:41:29.854Z"
   },
   {
    "duration": 83,
    "start_time": "2022-03-21T05:41:41.489Z"
   },
   {
    "duration": 4,
    "start_time": "2022-03-21T05:41:45.399Z"
   },
   {
    "duration": 3,
    "start_time": "2022-03-21T05:41:50.617Z"
   },
   {
    "duration": 4262,
    "start_time": "2022-03-21T05:42:23.898Z"
   },
   {
    "duration": 3,
    "start_time": "2022-03-21T05:42:49.501Z"
   },
   {
    "duration": 7239,
    "start_time": "2022-03-21T05:42:51.363Z"
   },
   {
    "duration": 2918,
    "start_time": "2022-03-21T05:43:05.675Z"
   },
   {
    "duration": 265791,
    "start_time": "2022-03-21T05:44:33.683Z"
   },
   {
    "duration": 3,
    "start_time": "2022-03-21T05:49:17.972Z"
   },
   {
    "duration": 750,
    "start_time": "2022-03-21T05:49:21.084Z"
   },
   {
    "duration": 717,
    "start_time": "2022-03-21T05:49:24.668Z"
   },
   {
    "duration": 89075,
    "start_time": "2022-03-21T05:49:28.995Z"
   },
   {
    "duration": 3,
    "start_time": "2022-03-21T05:51:16.669Z"
   },
   {
    "duration": 740,
    "start_time": "2022-03-21T05:51:19.054Z"
   },
   {
    "duration": 719,
    "start_time": "2022-03-21T05:51:25.533Z"
   },
   {
    "duration": 215181,
    "start_time": "2022-03-21T05:51:44.997Z"
   },
   {
    "duration": 34650,
    "start_time": "2022-03-21T05:55:29.765Z"
   },
   {
    "duration": 4,
    "start_time": "2022-03-21T05:56:33.183Z"
   },
   {
    "duration": 727,
    "start_time": "2022-03-21T05:56:35.686Z"
   },
   {
    "duration": 707,
    "start_time": "2022-03-21T05:56:40.481Z"
   },
   {
    "duration": 7,
    "start_time": "2022-03-21T05:56:44.239Z"
   },
   {
    "duration": 3,
    "start_time": "2022-03-21T05:56:51.214Z"
   },
   {
    "duration": 33,
    "start_time": "2022-03-21T05:56:53.182Z"
   },
   {
    "duration": 6,
    "start_time": "2022-03-21T05:56:58.655Z"
   },
   {
    "duration": 732,
    "start_time": "2022-03-21T05:57:17.622Z"
   },
   {
    "duration": 6189,
    "start_time": "2022-03-21T05:57:21.974Z"
   },
   {
    "duration": 3040,
    "start_time": "2022-03-21T05:57:29.904Z"
   },
   {
    "duration": 76,
    "start_time": "2022-03-21T05:57:35.639Z"
   },
   {
    "duration": 3,
    "start_time": "2022-03-21T05:57:38.126Z"
   },
   {
    "duration": 2771,
    "start_time": "2022-03-21T05:57:40.123Z"
   },
   {
    "duration": 893,
    "start_time": "2022-03-21T05:57:57.574Z"
   },
   {
    "duration": 4,
    "start_time": "2022-03-21T05:58:01.607Z"
   },
   {
    "duration": 4751,
    "start_time": "2022-03-21T05:58:34.033Z"
   },
   {
    "duration": 5451,
    "start_time": "2022-03-21T05:58:38.786Z"
   },
   {
    "duration": 4,
    "start_time": "2022-03-21T05:58:44.239Z"
   },
   {
    "duration": 9,
    "start_time": "2022-03-21T05:58:44.245Z"
   },
   {
    "duration": 104,
    "start_time": "2022-03-21T05:58:44.255Z"
   },
   {
    "duration": 2874,
    "start_time": "2022-03-21T05:58:44.360Z"
   },
   {
    "duration": 4,
    "start_time": "2022-03-21T05:58:47.236Z"
   },
   {
    "duration": 92,
    "start_time": "2022-03-21T05:58:47.242Z"
   },
   {
    "duration": 3,
    "start_time": "2022-03-21T05:58:47.335Z"
   },
   {
    "duration": 2772,
    "start_time": "2022-03-21T05:58:47.340Z"
   },
   {
    "duration": 881,
    "start_time": "2022-03-21T05:58:50.113Z"
   },
   {
    "duration": 5,
    "start_time": "2022-03-21T05:58:50.996Z"
   },
   {
    "duration": 2293,
    "start_time": "2022-03-21T05:58:55.144Z"
   },
   {
    "duration": 4,
    "start_time": "2022-03-21T05:59:26.014Z"
   },
   {
    "duration": 5556,
    "start_time": "2022-03-21T05:59:26.020Z"
   },
   {
    "duration": 4,
    "start_time": "2022-03-21T05:59:31.578Z"
   },
   {
    "duration": 7,
    "start_time": "2022-03-21T05:59:31.584Z"
   },
   {
    "duration": 90,
    "start_time": "2022-03-21T05:59:31.593Z"
   },
   {
    "duration": 3140,
    "start_time": "2022-03-21T05:59:31.685Z"
   },
   {
    "duration": 7,
    "start_time": "2022-03-21T05:59:34.827Z"
   },
   {
    "duration": 86,
    "start_time": "2022-03-21T05:59:34.836Z"
   },
   {
    "duration": 3,
    "start_time": "2022-03-21T05:59:34.933Z"
   },
   {
    "duration": 5458,
    "start_time": "2022-03-21T06:00:00.101Z"
   },
   {
    "duration": 8550,
    "start_time": "2022-03-21T06:00:05.561Z"
   },
   {
    "duration": 4,
    "start_time": "2022-03-21T06:00:14.113Z"
   },
   {
    "duration": 11,
    "start_time": "2022-03-21T06:00:14.119Z"
   },
   {
    "duration": 113,
    "start_time": "2022-03-21T06:00:14.131Z"
   },
   {
    "duration": 2973,
    "start_time": "2022-03-21T06:00:14.245Z"
   },
   {
    "duration": 14,
    "start_time": "2022-03-21T06:00:17.220Z"
   },
   {
    "duration": 83,
    "start_time": "2022-03-21T06:00:17.235Z"
   },
   {
    "duration": 18,
    "start_time": "2022-03-21T06:00:17.319Z"
   },
   {
    "duration": 2936,
    "start_time": "2022-03-21T06:00:17.340Z"
   },
   {
    "duration": 895,
    "start_time": "2022-03-21T06:00:20.278Z"
   },
   {
    "duration": 4,
    "start_time": "2022-03-21T06:00:21.175Z"
   },
   {
    "duration": 2553,
    "start_time": "2022-03-21T06:00:21.180Z"
   },
   {
    "duration": 3,
    "start_time": "2022-03-21T06:23:14.312Z"
   },
   {
    "duration": 4281,
    "start_time": "2022-03-21T06:23:17.650Z"
   },
   {
    "duration": 583913,
    "start_time": "2022-03-21T06:24:21.938Z"
   },
   {
    "duration": 85,
    "start_time": "2022-03-21T06:47:35.646Z"
   },
   {
    "duration": 4,
    "start_time": "2022-03-21T06:47:37.887Z"
   },
   {
    "duration": 4949,
    "start_time": "2022-03-21T06:48:13.254Z"
   },
   {
    "duration": 4,
    "start_time": "2022-03-21T06:48:28.802Z"
   },
   {
    "duration": 7788,
    "start_time": "2022-03-21T06:48:28.808Z"
   },
   {
    "duration": 4,
    "start_time": "2022-03-21T06:48:36.598Z"
   },
   {
    "duration": 18,
    "start_time": "2022-03-21T06:48:36.603Z"
   },
   {
    "duration": 99,
    "start_time": "2022-03-21T06:48:36.623Z"
   },
   {
    "duration": 2873,
    "start_time": "2022-03-21T06:48:36.732Z"
   },
   {
    "duration": 2,
    "start_time": "2022-03-21T06:48:39.607Z"
   },
   {
    "duration": 81,
    "start_time": "2022-03-21T06:48:39.611Z"
   },
   {
    "duration": 4,
    "start_time": "2022-03-21T06:48:39.693Z"
   },
   {
    "duration": 2754,
    "start_time": "2022-03-21T06:48:39.699Z"
   },
   {
    "duration": 887,
    "start_time": "2022-03-21T06:48:42.455Z"
   },
   {
    "duration": 4,
    "start_time": "2022-03-21T06:48:43.344Z"
   },
   {
    "duration": 2289,
    "start_time": "2022-03-21T06:48:43.349Z"
   },
   {
    "duration": 4,
    "start_time": "2022-03-21T06:51:13.207Z"
   },
   {
    "duration": 3434,
    "start_time": "2022-03-21T06:51:13.213Z"
   },
   {
    "duration": 4,
    "start_time": "2022-03-21T06:51:16.649Z"
   },
   {
    "duration": 8,
    "start_time": "2022-03-21T06:51:16.655Z"
   },
   {
    "duration": 93,
    "start_time": "2022-03-21T06:51:16.665Z"
   },
   {
    "duration": 3514,
    "start_time": "2022-03-21T06:51:16.760Z"
   },
   {
    "duration": 3,
    "start_time": "2022-03-21T06:51:20.276Z"
   },
   {
    "duration": 115,
    "start_time": "2022-03-21T06:51:20.281Z"
   },
   {
    "duration": 6,
    "start_time": "2022-03-21T06:51:20.398Z"
   },
   {
    "duration": 4842,
    "start_time": "2022-03-21T06:52:01.575Z"
   },
   {
    "duration": 6708,
    "start_time": "2022-03-21T06:52:06.420Z"
   },
   {
    "duration": 4,
    "start_time": "2022-03-21T06:52:13.130Z"
   },
   {
    "duration": 11,
    "start_time": "2022-03-21T06:52:13.136Z"
   },
   {
    "duration": 104,
    "start_time": "2022-03-21T06:52:13.150Z"
   },
   {
    "duration": 3078,
    "start_time": "2022-03-21T06:52:13.256Z"
   },
   {
    "duration": 3,
    "start_time": "2022-03-21T06:52:16.337Z"
   },
   {
    "duration": 92,
    "start_time": "2022-03-21T06:52:16.341Z"
   },
   {
    "duration": 4,
    "start_time": "2022-03-21T06:52:16.434Z"
   },
   {
    "duration": 2911,
    "start_time": "2022-03-21T06:52:16.440Z"
   },
   {
    "duration": 940,
    "start_time": "2022-03-21T06:52:19.353Z"
   },
   {
    "duration": 5,
    "start_time": "2022-03-21T06:52:20.295Z"
   },
   {
    "duration": 2487,
    "start_time": "2022-03-21T06:52:22.250Z"
   },
   {
    "duration": 3,
    "start_time": "2022-03-21T06:53:32.470Z"
   },
   {
    "duration": 6712,
    "start_time": "2022-03-21T06:53:32.482Z"
   },
   {
    "duration": 4,
    "start_time": "2022-03-21T06:53:39.196Z"
   },
   {
    "duration": 6,
    "start_time": "2022-03-21T06:53:39.202Z"
   },
   {
    "duration": 94,
    "start_time": "2022-03-21T06:53:39.210Z"
   },
   {
    "duration": 26076,
    "start_time": "2022-03-21T06:53:39.306Z"
   },
   {
    "duration": 2,
    "start_time": "2022-03-21T06:54:05.384Z"
   },
   {
    "duration": 5003,
    "start_time": "2022-03-21T06:54:51.944Z"
   },
   {
    "duration": 5455,
    "start_time": "2022-03-21T06:54:56.950Z"
   },
   {
    "duration": 4,
    "start_time": "2022-03-21T06:55:02.407Z"
   },
   {
    "duration": 9,
    "start_time": "2022-03-21T06:55:02.412Z"
   },
   {
    "duration": 108,
    "start_time": "2022-03-21T06:55:02.423Z"
   },
   {
    "duration": 5751,
    "start_time": "2022-03-21T06:55:02.533Z"
   },
   {
    "duration": 2,
    "start_time": "2022-03-21T06:55:08.286Z"
   },
   {
    "duration": 155,
    "start_time": "2022-03-21T06:55:08.289Z"
   },
   {
    "duration": 5,
    "start_time": "2022-03-21T06:55:08.446Z"
   },
   {
    "duration": 5550,
    "start_time": "2022-03-22T05:24:14.577Z"
   },
   {
    "duration": 1573,
    "start_time": "2022-03-22T05:24:22.891Z"
   },
   {
    "duration": 461,
    "start_time": "2022-03-22T05:24:27.729Z"
   },
   {
    "duration": 750,
    "start_time": "2022-03-22T05:24:30.697Z"
   },
   {
    "duration": 6,
    "start_time": "2022-03-22T05:25:21.641Z"
   },
   {
    "duration": 10371,
    "start_time": "2022-03-22T05:25:25.241Z"
   },
   {
    "duration": 2816,
    "start_time": "2022-03-22T05:25:56.890Z"
   },
   {
    "duration": 15,
    "start_time": "2022-03-22T05:27:21.610Z"
   },
   {
    "duration": 44,
    "start_time": "2022-03-22T05:28:09.073Z"
   },
   {
    "duration": 12,
    "start_time": "2022-03-22T05:28:45.190Z"
   },
   {
    "duration": 39,
    "start_time": "2022-03-22T05:30:21.400Z"
   },
   {
    "duration": 16,
    "start_time": "2022-03-22T05:30:25.471Z"
   },
   {
    "duration": 5028,
    "start_time": "2022-03-22T05:31:21.405Z"
   },
   {
    "duration": 1607,
    "start_time": "2022-03-22T05:31:28.782Z"
   },
   {
    "duration": 6,
    "start_time": "2022-03-22T05:31:32.924Z"
   },
   {
    "duration": 7,
    "start_time": "2022-03-22T05:31:33.806Z"
   },
   {
    "duration": 138,
    "start_time": "2022-03-22T05:31:34.636Z"
   },
   {
    "duration": 528,
    "start_time": "2022-03-22T05:31:38.597Z"
   },
   {
    "duration": 10523,
    "start_time": "2022-03-22T05:31:40.923Z"
   },
   {
    "duration": 55,
    "start_time": "2022-03-22T05:31:54.553Z"
   },
   {
    "duration": 2131,
    "start_time": "2022-03-22T05:31:56.136Z"
   },
   {
    "duration": 5,
    "start_time": "2022-03-22T05:32:01.644Z"
   },
   {
    "duration": 10945,
    "start_time": "2022-03-22T05:32:03.923Z"
   },
   {
    "duration": 6,
    "start_time": "2022-03-22T05:39:46.615Z"
   },
   {
    "duration": 970,
    "start_time": "2022-03-22T05:39:46.624Z"
   },
   {
    "duration": 5,
    "start_time": "2022-03-22T05:39:47.597Z"
   },
   {
    "duration": 9,
    "start_time": "2022-03-22T05:39:47.605Z"
   },
   {
    "duration": 128,
    "start_time": "2022-03-22T05:39:47.618Z"
   },
   {
    "duration": 27,
    "start_time": "2022-03-22T05:39:47.748Z"
   },
   {
    "duration": 311,
    "start_time": "2022-03-22T05:39:47.777Z"
   },
   {
    "duration": 23,
    "start_time": "2022-03-22T05:39:48.090Z"
   },
   {
    "duration": 248,
    "start_time": "2022-03-22T05:39:48.115Z"
   },
   {
    "duration": 10,
    "start_time": "2022-03-22T05:39:48.365Z"
   },
   {
    "duration": 3098,
    "start_time": "2022-03-22T05:39:48.377Z"
   },
   {
    "duration": 9,
    "start_time": "2022-03-22T05:43:23.407Z"
   },
   {
    "duration": 322,
    "start_time": "2022-03-22T05:45:37.884Z"
   },
   {
    "duration": 8,
    "start_time": "2022-03-22T05:45:39.933Z"
   },
   {
    "duration": 20,
    "start_time": "2022-03-22T05:45:41.114Z"
   },
   {
    "duration": 6,
    "start_time": "2022-03-22T05:46:02.943Z"
   },
   {
    "duration": 7869,
    "start_time": "2022-03-22T05:46:11.276Z"
   },
   {
    "duration": 917,
    "start_time": "2022-03-22T05:46:53.934Z"
   },
   {
    "duration": 8,
    "start_time": "2022-03-22T05:46:56.604Z"
   },
   {
    "duration": 5044,
    "start_time": "2022-03-22T05:46:57.686Z"
   },
   {
    "duration": 834,
    "start_time": "2022-03-22T05:48:28.177Z"
   },
   {
    "duration": 51,
    "start_time": "2022-03-22T05:48:39.917Z"
   },
   {
    "duration": 6,
    "start_time": "2022-03-22T05:48:58.247Z"
   },
   {
    "duration": 1095,
    "start_time": "2022-03-22T05:49:00.406Z"
   },
   {
    "duration": 7,
    "start_time": "2022-03-22T05:49:05.616Z"
   },
   {
    "duration": 299,
    "start_time": "2022-03-22T05:49:06.977Z"
   },
   {
    "duration": 9,
    "start_time": "2022-03-22T05:49:11.525Z"
   },
   {
    "duration": 73,
    "start_time": "2022-03-22T05:49:12.457Z"
   },
   {
    "duration": 5,
    "start_time": "2022-03-22T05:49:14.224Z"
   },
   {
    "duration": 4984,
    "start_time": "2022-03-22T05:49:43.927Z"
   },
   {
    "duration": 1628,
    "start_time": "2022-03-22T05:49:49.678Z"
   },
   {
    "duration": 466,
    "start_time": "2022-03-22T05:49:54.608Z"
   },
   {
    "duration": 2279,
    "start_time": "2022-03-22T05:49:56.501Z"
   },
   {
    "duration": 8,
    "start_time": "2022-03-22T05:50:03.539Z"
   },
   {
    "duration": 71,
    "start_time": "2022-03-22T05:50:05.210Z"
   },
   {
    "duration": 5,
    "start_time": "2022-03-22T05:50:06.697Z"
   },
   {
    "duration": 3128,
    "start_time": "2022-03-22T05:50:08.700Z"
   },
   {
    "duration": 925,
    "start_time": "2022-03-22T05:50:18.938Z"
   },
   {
    "duration": 53,
    "start_time": "2022-03-22T05:50:21.841Z"
   },
   {
    "duration": 8,
    "start_time": "2022-03-22T05:52:52.229Z"
   },
   {
    "duration": 2163,
    "start_time": "2022-03-22T05:52:53.297Z"
   },
   {
    "duration": 92,
    "start_time": "2022-03-22T05:53:12.367Z"
   },
   {
    "duration": 5,
    "start_time": "2022-03-22T05:53:14.896Z"
   },
   {
    "duration": 771,
    "start_time": "2022-03-22T05:53:16.059Z"
   },
   {
    "duration": 5,
    "start_time": "2022-03-22T05:57:42.463Z"
   },
   {
    "duration": 2480,
    "start_time": "2022-03-22T05:57:43.477Z"
   },
   {
    "duration": 711,
    "start_time": "2022-03-22T05:57:54.957Z"
   },
   {
    "duration": 50,
    "start_time": "2022-03-22T05:57:57.358Z"
   },
   {
    "duration": 8,
    "start_time": "2022-03-22T05:57:59.824Z"
   },
   {
    "duration": 2953,
    "start_time": "2022-03-22T05:58:02.817Z"
   },
   {
    "duration": 826,
    "start_time": "2022-03-22T05:58:30.567Z"
   },
   {
    "duration": 51,
    "start_time": "2022-03-22T05:58:33.047Z"
   },
   {
    "duration": 8,
    "start_time": "2022-03-22T05:58:38.370Z"
   },
   {
    "duration": 4069,
    "start_time": "2022-03-22T05:58:39.607Z"
   },
   {
    "duration": 636,
    "start_time": "2022-03-22T05:58:50.987Z"
   },
   {
    "duration": 53,
    "start_time": "2022-03-22T05:58:53.607Z"
   },
   {
    "duration": 183,
    "start_time": "2022-03-22T05:58:59.609Z"
   },
   {
    "duration": 56,
    "start_time": "2022-03-22T05:59:01.439Z"
   },
   {
    "duration": 8,
    "start_time": "2022-03-22T05:59:08.691Z"
   },
   {
    "duration": 97,
    "start_time": "2022-03-22T05:59:09.560Z"
   },
   {
    "duration": 6,
    "start_time": "2022-03-22T05:59:10.479Z"
   },
   {
    "duration": 2463,
    "start_time": "2022-03-22T05:59:11.672Z"
   },
   {
    "duration": 248,
    "start_time": "2022-03-22T05:59:18.611Z"
   },
   {
    "duration": 53,
    "start_time": "2022-03-22T05:59:21.242Z"
   },
   {
    "duration": 9,
    "start_time": "2022-03-22T05:59:25.141Z"
   },
   {
    "duration": 575,
    "start_time": "2022-03-22T05:59:27.250Z"
   },
   {
    "duration": 743,
    "start_time": "2022-03-22T06:25:28.779Z"
   },
   {
    "duration": 61,
    "start_time": "2022-03-22T06:25:31.651Z"
   },
   {
    "duration": 8,
    "start_time": "2022-03-22T06:25:40.071Z"
   },
   {
    "duration": 3021,
    "start_time": "2022-03-22T06:25:55.388Z"
   },
   {
    "duration": 5,
    "start_time": "2022-03-22T06:27:29.541Z"
   },
   {
    "duration": 784,
    "start_time": "2022-03-22T06:27:30.811Z"
   },
   {
    "duration": 6,
    "start_time": "2022-03-22T06:28:00.930Z"
   },
   {
    "duration": 6980,
    "start_time": "2022-03-22T06:28:35.488Z"
   },
   {
    "duration": 1693,
    "start_time": "2022-03-22T06:28:42.471Z"
   },
   {
    "duration": 10,
    "start_time": "2022-03-22T06:28:44.166Z"
   },
   {
    "duration": 10,
    "start_time": "2022-03-22T06:28:44.178Z"
   },
   {
    "duration": 141,
    "start_time": "2022-03-22T06:28:44.190Z"
   },
   {
    "duration": 556,
    "start_time": "2022-03-22T06:28:44.333Z"
   },
   {
    "duration": 2301,
    "start_time": "2022-03-22T06:28:44.891Z"
   },
   {
    "duration": 8,
    "start_time": "2022-03-22T06:28:47.194Z"
   },
   {
    "duration": 116,
    "start_time": "2022-03-22T06:28:47.205Z"
   },
   {
    "duration": 5,
    "start_time": "2022-03-22T06:28:47.324Z"
   },
   {
    "duration": 2469,
    "start_time": "2022-03-22T06:28:47.331Z"
   },
   {
    "duration": 262,
    "start_time": "2022-03-22T06:28:49.802Z"
   },
   {
    "duration": 58,
    "start_time": "2022-03-22T06:28:50.066Z"
   },
   {
    "duration": 9,
    "start_time": "2022-03-22T06:28:50.129Z"
   },
   {
    "duration": 909,
    "start_time": "2022-03-22T06:28:50.141Z"
   },
   {
    "duration": 0,
    "start_time": "2022-03-22T06:28:51.052Z"
   },
   {
    "duration": 0,
    "start_time": "2022-03-22T06:28:51.054Z"
   },
   {
    "duration": 0,
    "start_time": "2022-03-22T06:28:51.056Z"
   },
   {
    "duration": 0,
    "start_time": "2022-03-22T06:28:51.057Z"
   },
   {
    "duration": 0,
    "start_time": "2022-03-22T06:28:51.059Z"
   },
   {
    "duration": 23,
    "start_time": "2022-03-22T06:30:01.281Z"
   },
   {
    "duration": 21,
    "start_time": "2022-03-22T06:30:14.600Z"
   },
   {
    "duration": 50,
    "start_time": "2022-03-22T06:30:21.220Z"
   },
   {
    "duration": 9,
    "start_time": "2022-03-22T06:32:42.161Z"
   },
   {
    "duration": 1090,
    "start_time": "2022-03-22T06:32:42.173Z"
   },
   {
    "duration": 12,
    "start_time": "2022-03-22T06:32:43.266Z"
   },
   {
    "duration": 5644,
    "start_time": "2022-03-22T06:32:43.281Z"
   },
   {
    "duration": 162,
    "start_time": "2022-03-22T06:32:48.929Z"
   },
   {
    "duration": 7,
    "start_time": "2022-03-22T06:32:49.094Z"
   },
   {
    "duration": 682,
    "start_time": "2022-03-22T06:32:49.104Z"
   },
   {
    "duration": 9,
    "start_time": "2022-03-22T06:32:49.788Z"
   },
   {
    "duration": 209,
    "start_time": "2022-03-22T06:32:49.799Z"
   },
   {
    "duration": 6,
    "start_time": "2022-03-22T06:32:50.010Z"
   },
   {
    "duration": 5181,
    "start_time": "2022-03-22T06:33:07.020Z"
   },
   {
    "duration": 1999,
    "start_time": "2022-03-22T06:33:12.204Z"
   },
   {
    "duration": 8,
    "start_time": "2022-03-22T06:33:14.206Z"
   },
   {
    "duration": 13,
    "start_time": "2022-03-22T06:33:14.217Z"
   },
   {
    "duration": 179,
    "start_time": "2022-03-22T06:33:14.234Z"
   },
   {
    "duration": 457,
    "start_time": "2022-03-22T06:33:14.415Z"
   },
   {
    "duration": 2679,
    "start_time": "2022-03-22T06:33:14.874Z"
   },
   {
    "duration": 21,
    "start_time": "2022-03-22T06:33:17.555Z"
   },
   {
    "duration": 9,
    "start_time": "2022-03-22T06:33:30.877Z"
   },
   {
    "duration": 185,
    "start_time": "2022-03-22T06:33:31.664Z"
   },
   {
    "duration": 6,
    "start_time": "2022-03-22T06:33:32.817Z"
   },
   {
    "duration": 5543,
    "start_time": "2022-03-22T06:34:19.870Z"
   },
   {
    "duration": 1748,
    "start_time": "2022-03-22T06:34:25.417Z"
   },
   {
    "duration": 6,
    "start_time": "2022-03-22T06:34:27.168Z"
   },
   {
    "duration": 8,
    "start_time": "2022-03-22T06:34:27.177Z"
   },
   {
    "duration": 150,
    "start_time": "2022-03-22T06:34:27.188Z"
   },
   {
    "duration": 549,
    "start_time": "2022-03-22T06:34:27.340Z"
   },
   {
    "duration": 3233,
    "start_time": "2022-03-22T06:34:27.891Z"
   },
   {
    "duration": 8,
    "start_time": "2022-03-22T06:34:31.126Z"
   },
   {
    "duration": 115,
    "start_time": "2022-03-22T06:34:31.136Z"
   },
   {
    "duration": 11,
    "start_time": "2022-03-22T06:34:31.253Z"
   },
   {
    "duration": 2435,
    "start_time": "2022-03-22T06:34:31.273Z"
   },
   {
    "duration": 6,
    "start_time": "2022-03-22T07:57:43.317Z"
   },
   {
    "duration": 973,
    "start_time": "2022-03-22T07:57:45.867Z"
   },
   {
    "duration": 5,
    "start_time": "2022-03-22T07:57:47.398Z"
   },
   {
    "duration": 6,
    "start_time": "2022-03-22T07:57:48.036Z"
   },
   {
    "duration": 125,
    "start_time": "2022-03-22T07:57:48.769Z"
   },
   {
    "duration": 223,
    "start_time": "2022-03-22T07:57:51.507Z"
   },
   {
    "duration": 562,
    "start_time": "2022-03-22T07:57:52.127Z"
   },
   {
    "duration": 9,
    "start_time": "2022-03-22T07:57:58.245Z"
   },
   {
    "duration": 193,
    "start_time": "2022-03-22T07:57:59.037Z"
   },
   {
    "duration": 6,
    "start_time": "2022-03-22T07:57:59.756Z"
   },
   {
    "duration": 4915,
    "start_time": "2022-03-22T07:58:17.228Z"
   },
   {
    "duration": 1660,
    "start_time": "2022-03-22T07:58:22.146Z"
   },
   {
    "duration": 6,
    "start_time": "2022-03-22T07:58:23.808Z"
   },
   {
    "duration": 7,
    "start_time": "2022-03-22T07:58:23.817Z"
   },
   {
    "duration": 183,
    "start_time": "2022-03-22T07:58:23.827Z"
   },
   {
    "duration": 539,
    "start_time": "2022-03-22T07:58:24.012Z"
   },
   {
    "duration": 2671,
    "start_time": "2022-03-22T07:58:24.554Z"
   },
   {
    "duration": 8,
    "start_time": "2022-03-22T07:58:27.228Z"
   },
   {
    "duration": 202,
    "start_time": "2022-03-22T07:58:27.238Z"
   },
   {
    "duration": 9,
    "start_time": "2022-03-22T07:58:27.442Z"
   },
   {
    "duration": 5774,
    "start_time": "2022-03-22T10:33:12.950Z"
   },
   {
    "duration": 2088,
    "start_time": "2022-03-22T10:33:18.727Z"
   },
   {
    "duration": 6,
    "start_time": "2022-03-22T10:33:20.817Z"
   },
   {
    "duration": 7,
    "start_time": "2022-03-22T10:33:20.826Z"
   },
   {
    "duration": 185,
    "start_time": "2022-03-22T10:33:20.836Z"
   },
   {
    "duration": 533,
    "start_time": "2022-03-22T10:33:21.024Z"
   },
   {
    "duration": 11541,
    "start_time": "2022-03-22T10:33:21.559Z"
   },
   {
    "duration": 83,
    "start_time": "2022-03-22T10:33:33.102Z"
   },
   {
    "duration": 2939,
    "start_time": "2022-03-22T10:33:33.188Z"
   },
   {
    "duration": 7,
    "start_time": "2022-03-22T10:33:36.132Z"
   },
   {
    "duration": 12694,
    "start_time": "2022-03-22T10:33:36.141Z"
   },
   {
    "duration": 0,
    "start_time": "2022-03-22T10:33:48.839Z"
   },
   {
    "duration": 0,
    "start_time": "2022-03-22T10:33:48.841Z"
   },
   {
    "duration": 0,
    "start_time": "2022-03-22T10:33:48.843Z"
   },
   {
    "duration": 0,
    "start_time": "2022-03-22T10:33:48.845Z"
   },
   {
    "duration": 0,
    "start_time": "2022-03-22T10:33:48.847Z"
   },
   {
    "duration": 0,
    "start_time": "2022-03-22T10:33:48.848Z"
   },
   {
    "duration": 0,
    "start_time": "2022-03-22T10:33:48.850Z"
   },
   {
    "duration": 0,
    "start_time": "2022-03-22T10:33:48.878Z"
   },
   {
    "duration": 0,
    "start_time": "2022-03-22T10:33:48.880Z"
   },
   {
    "duration": 5,
    "start_time": "2022-03-22T10:34:01.122Z"
   },
   {
    "duration": 15790,
    "start_time": "2022-03-22T10:34:03.089Z"
   },
   {
    "duration": 7,
    "start_time": "2022-03-22T10:43:07.408Z"
   },
   {
    "duration": 1510,
    "start_time": "2022-03-22T10:43:07.418Z"
   },
   {
    "duration": 7,
    "start_time": "2022-03-22T10:43:08.938Z"
   },
   {
    "duration": 14,
    "start_time": "2022-03-22T10:43:08.949Z"
   },
   {
    "duration": 138,
    "start_time": "2022-03-22T10:43:08.967Z"
   },
   {
    "duration": 9,
    "start_time": "2022-03-22T10:43:09.108Z"
   },
   {
    "duration": 115,
    "start_time": "2022-03-22T10:43:09.120Z"
   },
   {
    "duration": 40,
    "start_time": "2022-03-22T10:43:09.237Z"
   },
   {
    "duration": 233,
    "start_time": "2022-03-22T10:43:09.280Z"
   },
   {
    "duration": 7,
    "start_time": "2022-03-22T10:43:09.515Z"
   },
   {
    "duration": 315,
    "start_time": "2022-03-22T10:43:09.525Z"
   },
   {
    "duration": 103,
    "start_time": "2022-03-22T10:43:09.844Z"
   },
   {
    "duration": 8,
    "start_time": "2022-03-22T10:43:09.951Z"
   },
   {
    "duration": 31532,
    "start_time": "2022-03-22T10:43:09.963Z"
   },
   {
    "duration": 32639,
    "start_time": "2022-03-22T10:43:41.576Z"
   },
   {
    "duration": 0,
    "start_time": "2022-03-22T10:47:32.387Z"
   },
   {
    "duration": 0,
    "start_time": "2022-03-22T10:47:32.390Z"
   },
   {
    "duration": 0,
    "start_time": "2022-03-22T10:47:32.392Z"
   },
   {
    "duration": 0,
    "start_time": "2022-03-22T10:47:32.394Z"
   },
   {
    "duration": 0,
    "start_time": "2022-03-22T10:47:32.396Z"
   },
   {
    "duration": 0,
    "start_time": "2022-03-22T10:47:32.399Z"
   },
   {
    "duration": 1,
    "start_time": "2022-03-22T10:47:32.400Z"
   },
   {
    "duration": 0,
    "start_time": "2022-03-22T10:47:32.403Z"
   },
   {
    "duration": 0,
    "start_time": "2022-03-22T10:47:32.404Z"
   },
   {
    "duration": 0,
    "start_time": "2022-03-22T10:47:32.408Z"
   },
   {
    "duration": 0,
    "start_time": "2022-03-22T10:47:32.410Z"
   },
   {
    "duration": 0,
    "start_time": "2022-03-22T10:47:32.412Z"
   },
   {
    "duration": 0,
    "start_time": "2022-03-22T10:47:32.414Z"
   },
   {
    "duration": 0,
    "start_time": "2022-03-22T10:47:32.417Z"
   },
   {
    "duration": 0,
    "start_time": "2022-03-22T10:47:32.419Z"
   },
   {
    "duration": 0,
    "start_time": "2022-03-22T10:47:32.421Z"
   },
   {
    "duration": 0,
    "start_time": "2022-03-22T10:47:32.424Z"
   },
   {
    "duration": 0,
    "start_time": "2022-03-22T10:47:32.475Z"
   },
   {
    "duration": 0,
    "start_time": "2022-03-22T10:47:32.477Z"
   },
   {
    "duration": 5755,
    "start_time": "2022-03-22T10:48:07.412Z"
   },
   {
    "duration": 1605,
    "start_time": "2022-03-22T10:48:13.173Z"
   },
   {
    "duration": 9,
    "start_time": "2022-03-22T10:48:14.781Z"
   },
   {
    "duration": 13,
    "start_time": "2022-03-22T10:48:14.793Z"
   },
   {
    "duration": 144,
    "start_time": "2022-03-22T10:48:14.809Z"
   },
   {
    "duration": 547,
    "start_time": "2022-03-22T10:48:14.956Z"
   },
   {
    "duration": 2286,
    "start_time": "2022-03-22T10:48:15.505Z"
   },
   {
    "duration": 8,
    "start_time": "2022-03-22T10:48:28.793Z"
   },
   {
    "duration": 1219,
    "start_time": "2022-03-22T10:48:28.805Z"
   },
   {
    "duration": 6,
    "start_time": "2022-03-22T10:48:30.027Z"
   },
   {
    "duration": 15,
    "start_time": "2022-03-22T10:48:30.036Z"
   },
   {
    "duration": 165,
    "start_time": "2022-03-22T10:48:30.053Z"
   },
   {
    "duration": 8,
    "start_time": "2022-03-22T10:48:30.220Z"
   },
   {
    "duration": 369,
    "start_time": "2022-03-22T10:48:30.231Z"
   },
   {
    "duration": 8,
    "start_time": "2022-03-22T10:48:30.603Z"
   },
   {
    "duration": 140,
    "start_time": "2022-03-22T10:48:30.614Z"
   },
   {
    "duration": 19,
    "start_time": "2022-03-22T10:48:30.758Z"
   },
   {
    "duration": 4129,
    "start_time": "2022-03-22T10:48:30.780Z"
   },
   {
    "duration": 208,
    "start_time": "2022-03-22T10:48:34.912Z"
   },
   {
    "duration": 8,
    "start_time": "2022-03-22T10:48:48.358Z"
   },
   {
    "duration": 1499,
    "start_time": "2022-03-22T10:48:48.370Z"
   },
   {
    "duration": 8,
    "start_time": "2022-03-22T10:48:49.874Z"
   },
   {
    "duration": 8,
    "start_time": "2022-03-22T10:48:49.886Z"
   },
   {
    "duration": 189,
    "start_time": "2022-03-22T10:48:49.897Z"
   },
   {
    "duration": 9,
    "start_time": "2022-03-22T10:48:50.089Z"
   },
   {
    "duration": 515,
    "start_time": "2022-03-22T10:48:50.100Z"
   },
   {
    "duration": 11,
    "start_time": "2022-03-22T10:48:50.617Z"
   },
   {
    "duration": 153,
    "start_time": "2022-03-22T10:48:50.633Z"
   },
   {
    "duration": 8,
    "start_time": "2022-03-22T10:48:50.790Z"
   },
   {
    "duration": 3274,
    "start_time": "2022-03-22T10:48:50.801Z"
   },
   {
    "duration": 209,
    "start_time": "2022-03-22T10:48:54.078Z"
   },
   {
    "duration": 12,
    "start_time": "2022-03-22T10:48:54.290Z"
   },
   {
    "duration": 219089,
    "start_time": "2022-03-22T10:48:54.304Z"
   },
   {
    "duration": 1113,
    "start_time": "2022-03-22T10:52:33.396Z"
   },
   {
    "duration": 10018,
    "start_time": "2022-03-22T10:52:56.816Z"
   },
   {
    "duration": 3364,
    "start_time": "2022-03-23T07:36:44.462Z"
   },
   {
    "duration": 5867,
    "start_time": "2022-03-23T07:36:50.035Z"
   },
   {
    "duration": 4,
    "start_time": "2022-03-23T07:36:57.189Z"
   },
   {
    "duration": 4,
    "start_time": "2022-03-23T07:36:59.291Z"
   },
   {
    "duration": 104,
    "start_time": "2022-03-23T07:37:02.191Z"
   },
   {
    "duration": 782686,
    "start_time": "2022-03-23T07:37:10.964Z"
   },
   {
    "duration": 0,
    "start_time": "2022-03-23T07:50:13.652Z"
   },
   {
    "duration": 493,
    "start_time": "2022-03-23T07:50:15.933Z"
   },
   {
    "duration": 12348,
    "start_time": "2022-03-23T07:50:20.155Z"
   },
   {
    "duration": 7,
    "start_time": "2022-03-23T07:50:48.787Z"
   },
   {
    "duration": 56,
    "start_time": "2022-03-23T07:51:56.105Z"
   },
   {
    "duration": 2286,
    "start_time": "2022-03-23T07:51:56.908Z"
   },
   {
    "duration": 13,
    "start_time": "2022-03-23T07:51:59.196Z"
   },
   {
    "duration": 7263,
    "start_time": "2022-03-23T07:52:14.474Z"
   },
   {
    "duration": 166,
    "start_time": "2022-03-23T07:52:35.172Z"
   },
   {
    "duration": 8,
    "start_time": "2022-03-23T07:52:42.963Z"
   },
   {
    "duration": 238,
    "start_time": "2022-03-23T07:52:43.683Z"
   },
   {
    "duration": 3,
    "start_time": "2022-03-23T07:52:44.410Z"
   },
   {
    "duration": 2199,
    "start_time": "2022-03-23T07:52:47.811Z"
   },
   {
    "duration": 169,
    "start_time": "2022-03-23T07:52:57.417Z"
   },
   {
    "duration": 6,
    "start_time": "2022-03-23T07:53:01.698Z"
   },
   {
    "duration": 113656,
    "start_time": "2022-03-23T07:53:06.578Z"
   },
   {
    "duration": 7,
    "start_time": "2022-03-23T08:02:03.363Z"
   },
   {
    "duration": 15,
    "start_time": "2022-03-23T08:02:06.437Z"
   },
   {
    "duration": 7,
    "start_time": "2022-03-23T08:02:54.854Z"
   },
   {
    "duration": 16,
    "start_time": "2022-03-23T08:02:57.374Z"
   },
   {
    "duration": 7,
    "start_time": "2022-03-23T08:03:11.778Z"
   },
   {
    "duration": 17,
    "start_time": "2022-03-23T08:03:14.696Z"
   },
   {
    "duration": 7,
    "start_time": "2022-03-23T08:03:31.166Z"
   },
   {
    "duration": 3201,
    "start_time": "2022-03-23T08:03:34.310Z"
   },
   {
    "duration": 7,
    "start_time": "2022-03-23T08:05:49.391Z"
   },
   {
    "duration": 3238,
    "start_time": "2022-03-23T08:05:52.271Z"
   },
   {
    "duration": 7,
    "start_time": "2022-03-23T08:06:42.817Z"
   },
   {
    "duration": 7,
    "start_time": "2022-03-23T08:06:45.464Z"
   },
   {
    "duration": 3283,
    "start_time": "2022-03-23T08:06:47.825Z"
   },
   {
    "duration": 4,
    "start_time": "2022-03-23T08:08:15.810Z"
   },
   {
    "duration": 5328,
    "start_time": "2022-03-23T08:08:15.817Z"
   },
   {
    "duration": 5,
    "start_time": "2022-03-23T08:08:21.147Z"
   },
   {
    "duration": 6,
    "start_time": "2022-03-23T08:08:21.154Z"
   },
   {
    "duration": 102,
    "start_time": "2022-03-23T08:08:21.162Z"
   },
   {
    "duration": 2,
    "start_time": "2022-03-23T08:08:21.266Z"
   },
   {
    "duration": 197,
    "start_time": "2022-03-23T08:08:21.270Z"
   },
   {
    "duration": 6,
    "start_time": "2022-03-23T08:08:21.469Z"
   },
   {
    "duration": 102,
    "start_time": "2022-03-23T08:08:21.477Z"
   },
   {
    "duration": 10,
    "start_time": "2022-03-23T08:08:21.582Z"
   },
   {
    "duration": 55,
    "start_time": "2022-03-23T08:08:21.594Z"
   },
   {
    "duration": 175,
    "start_time": "2022-03-23T08:08:21.651Z"
   },
   {
    "duration": 10,
    "start_time": "2022-03-23T08:08:21.828Z"
   },
   {
    "duration": 3198,
    "start_time": "2022-03-23T08:10:26.408Z"
   },
   {
    "duration": 13,
    "start_time": "2022-03-23T08:12:33.784Z"
   },
   {
    "duration": 104,
    "start_time": "2022-03-23T08:12:42.745Z"
   },
   {
    "duration": 11,
    "start_time": "2022-03-23T08:12:47.450Z"
   },
   {
    "duration": 7,
    "start_time": "2022-03-23T08:12:56.593Z"
   },
   {
    "duration": 5,
    "start_time": "2022-03-23T08:23:53.985Z"
   },
   {
    "duration": 25,
    "start_time": "2022-03-23T08:23:59.133Z"
   },
   {
    "duration": 25,
    "start_time": "2022-03-23T08:24:04.865Z"
   },
   {
    "duration": 19,
    "start_time": "2022-03-23T08:24:18.194Z"
   },
   {
    "duration": 39475,
    "start_time": "2022-03-23T08:24:34.565Z"
   },
   {
    "duration": 39496,
    "start_time": "2022-03-23T08:25:22.345Z"
   },
   {
    "duration": 764,
    "start_time": "2022-03-23T08:26:13.402Z"
   },
   {
    "duration": 216,
    "start_time": "2022-03-23T08:26:23.237Z"
   },
   {
    "duration": 34,
    "start_time": "2022-03-23T08:26:25.565Z"
   },
   {
    "duration": 18,
    "start_time": "2022-03-23T08:26:37.702Z"
   },
   {
    "duration": 44139,
    "start_time": "2022-03-23T08:26:56.093Z"
   },
   {
    "duration": 135,
    "start_time": "2022-03-23T08:51:54.052Z"
   },
   {
    "duration": 7,
    "start_time": "2022-03-23T08:52:01.404Z"
   },
   {
    "duration": 4,
    "start_time": "2022-03-23T08:52:07.181Z"
   },
   {
    "duration": 743,
    "start_time": "2022-03-23T08:52:07.187Z"
   },
   {
    "duration": 5,
    "start_time": "2022-03-23T08:52:07.933Z"
   },
   {
    "duration": 7,
    "start_time": "2022-03-23T08:52:07.941Z"
   },
   {
    "duration": 103,
    "start_time": "2022-03-23T08:52:07.950Z"
   },
   {
    "duration": 2,
    "start_time": "2022-03-23T08:52:08.055Z"
   },
   {
    "duration": 4,
    "start_time": "2022-03-23T08:52:23.635Z"
   },
   {
    "duration": 752,
    "start_time": "2022-03-23T08:52:23.641Z"
   },
   {
    "duration": 4,
    "start_time": "2022-03-23T08:52:24.395Z"
   },
   {
    "duration": 10,
    "start_time": "2022-03-23T08:52:24.401Z"
   },
   {
    "duration": 94,
    "start_time": "2022-03-23T08:52:24.412Z"
   },
   {
    "duration": 2,
    "start_time": "2022-03-23T08:52:24.508Z"
   },
   {
    "duration": 3623,
    "start_time": "2022-03-23T08:52:24.512Z"
   },
   {
    "duration": 10,
    "start_time": "2022-03-23T08:52:28.137Z"
   },
   {
    "duration": 104,
    "start_time": "2022-03-23T08:52:28.150Z"
   },
   {
    "duration": 8,
    "start_time": "2022-03-23T08:52:28.258Z"
   },
   {
    "duration": 54,
    "start_time": "2022-03-23T08:52:28.268Z"
   },
   {
    "duration": 179,
    "start_time": "2022-03-23T08:52:28.324Z"
   },
   {
    "duration": 42129,
    "start_time": "2022-03-23T08:52:28.505Z"
   },
   {
    "duration": 44907,
    "start_time": "2022-03-23T08:53:10.636Z"
   },
   {
    "duration": 0,
    "start_time": "2022-03-23T08:53:55.546Z"
   },
   {
    "duration": 0,
    "start_time": "2022-03-23T08:53:55.547Z"
   },
   {
    "duration": 0,
    "start_time": "2022-03-23T08:53:55.548Z"
   },
   {
    "duration": 0,
    "start_time": "2022-03-23T08:53:55.549Z"
   },
   {
    "duration": 0,
    "start_time": "2022-03-23T08:53:55.550Z"
   },
   {
    "duration": 16,
    "start_time": "2022-03-23T08:55:59.293Z"
   },
   {
    "duration": 13,
    "start_time": "2022-03-23T09:03:12.815Z"
   },
   {
    "duration": 13,
    "start_time": "2022-03-23T09:03:33.512Z"
   },
   {
    "duration": 4,
    "start_time": "2022-03-23T09:03:38.529Z"
   },
   {
    "duration": 790,
    "start_time": "2022-03-23T09:03:43.617Z"
   },
   {
    "duration": 5,
    "start_time": "2022-03-23T09:03:45.864Z"
   },
   {
    "duration": 16,
    "start_time": "2022-03-23T09:03:49.752Z"
   },
   {
    "duration": 3448,
    "start_time": "2022-03-23T09:03:57.945Z"
   },
   {
    "duration": 9,
    "start_time": "2022-03-23T09:04:27.699Z"
   },
   {
    "duration": 18,
    "start_time": "2022-03-23T09:04:58.872Z"
   },
   {
    "duration": 1017,
    "start_time": "2022-03-23T09:13:09.277Z"
   },
   {
    "duration": 336,
    "start_time": "2022-03-23T09:13:39.165Z"
   },
   {
    "duration": 4573,
    "start_time": "2022-03-23T09:13:54.397Z"
   },
   {
    "duration": 8,
    "start_time": "2022-03-23T09:14:01.596Z"
   },
   {
    "duration": 9,
    "start_time": "2022-03-23T09:14:20.859Z"
   },
   {
    "duration": 81,
    "start_time": "2022-03-23T09:14:21.708Z"
   },
   {
    "duration": 3,
    "start_time": "2022-03-23T09:14:22.675Z"
   },
   {
    "duration": 47,
    "start_time": "2022-03-23T09:14:25.285Z"
   },
   {
    "duration": 168,
    "start_time": "2022-03-23T09:14:29.198Z"
   },
   {
    "duration": 39899,
    "start_time": "2022-03-23T09:14:31.643Z"
   },
   {
    "duration": 715,
    "start_time": "2022-03-23T09:15:25.204Z"
   },
   {
    "duration": 34,
    "start_time": "2022-03-23T09:15:37.540Z"
   },
   {
    "duration": 17,
    "start_time": "2022-03-23T09:15:56.077Z"
   },
   {
    "duration": 173,
    "start_time": "2022-03-23T09:16:01.980Z"
   },
   {
    "duration": 14,
    "start_time": "2022-03-23T09:16:47.781Z"
   },
   {
    "duration": 8,
    "start_time": "2022-03-23T09:16:50.940Z"
   },
   {
    "duration": 15,
    "start_time": "2022-03-23T09:17:41.543Z"
   },
   {
    "duration": 10,
    "start_time": "2022-03-23T09:17:46.172Z"
   },
   {
    "duration": 194,
    "start_time": "2022-03-23T09:18:42.087Z"
   },
   {
    "duration": 235,
    "start_time": "2022-03-23T09:18:59.975Z"
   },
   {
    "duration": 11,
    "start_time": "2022-03-23T09:19:45.742Z"
   },
   {
    "duration": 10,
    "start_time": "2022-03-23T09:20:02.374Z"
   },
   {
    "duration": 10,
    "start_time": "2022-03-23T09:20:45.271Z"
   },
   {
    "duration": 5329,
    "start_time": "2022-03-23T09:20:57.143Z"
   },
   {
    "duration": 8,
    "start_time": "2022-03-23T09:21:04.316Z"
   },
   {
    "duration": 8,
    "start_time": "2022-03-23T09:21:08.262Z"
   },
   {
    "duration": 150,
    "start_time": "2022-03-23T09:21:09.840Z"
   },
   {
    "duration": 3,
    "start_time": "2022-03-23T09:21:37.089Z"
   },
   {
    "duration": 35,
    "start_time": "2022-03-23T09:21:40.206Z"
   },
   {
    "duration": 169,
    "start_time": "2022-03-23T09:21:45.726Z"
   },
   {
    "duration": 81947,
    "start_time": "2022-03-23T09:21:49.185Z"
   },
   {
    "duration": 5072,
    "start_time": "2022-03-23T09:28:26.185Z"
   },
   {
    "duration": 8,
    "start_time": "2022-03-23T09:28:31.259Z"
   },
   {
    "duration": 8,
    "start_time": "2022-03-23T09:28:37.097Z"
   },
   {
    "duration": 167,
    "start_time": "2022-03-23T09:28:38.552Z"
   },
   {
    "duration": 3,
    "start_time": "2022-03-23T09:28:40.297Z"
   },
   {
    "duration": 3145,
    "start_time": "2022-03-23T09:29:09.125Z"
   },
   {
    "duration": 8540,
    "start_time": "2022-03-23T09:29:12.272Z"
   },
   {
    "duration": 4,
    "start_time": "2022-03-23T09:29:20.815Z"
   },
   {
    "duration": 10,
    "start_time": "2022-03-23T09:29:20.821Z"
   },
   {
    "duration": 110,
    "start_time": "2022-03-23T09:29:20.833Z"
   },
   {
    "duration": 3,
    "start_time": "2022-03-23T09:29:20.944Z"
   },
   {
    "duration": 6326,
    "start_time": "2022-03-23T09:29:20.949Z"
   },
   {
    "duration": 7,
    "start_time": "2022-03-23T09:29:27.277Z"
   },
   {
    "duration": 9,
    "start_time": "2022-03-23T09:29:27.286Z"
   },
   {
    "duration": 167,
    "start_time": "2022-03-23T09:29:27.297Z"
   },
   {
    "duration": 8,
    "start_time": "2022-03-23T09:29:27.466Z"
   },
   {
    "duration": 3206,
    "start_time": "2022-03-23T09:29:54.147Z"
   },
   {
    "duration": 7685,
    "start_time": "2022-03-23T09:29:57.355Z"
   },
   {
    "duration": 5,
    "start_time": "2022-03-23T09:30:05.042Z"
   },
   {
    "duration": 7,
    "start_time": "2022-03-23T09:30:05.049Z"
   },
   {
    "duration": 108,
    "start_time": "2022-03-23T09:30:05.057Z"
   },
   {
    "duration": 2,
    "start_time": "2022-03-23T09:30:05.167Z"
   },
   {
    "duration": 4517,
    "start_time": "2022-03-23T09:30:05.171Z"
   },
   {
    "duration": 7,
    "start_time": "2022-03-23T09:30:09.690Z"
   },
   {
    "duration": 7,
    "start_time": "2022-03-23T09:30:09.699Z"
   },
   {
    "duration": 98,
    "start_time": "2022-03-23T09:30:09.708Z"
   },
   {
    "duration": 3,
    "start_time": "2022-03-23T09:30:09.808Z"
   },
   {
    "duration": 2126,
    "start_time": "2022-03-23T09:30:09.812Z"
   },
   {
    "duration": 160,
    "start_time": "2022-03-23T09:30:11.940Z"
   },
   {
    "duration": 76640,
    "start_time": "2022-03-23T09:30:12.101Z"
   },
   {
    "duration": 3,
    "start_time": "2022-03-23T09:31:33.526Z"
   },
   {
    "duration": 764,
    "start_time": "2022-03-23T09:31:33.531Z"
   },
   {
    "duration": 4,
    "start_time": "2022-03-23T09:31:34.297Z"
   },
   {
    "duration": 23,
    "start_time": "2022-03-23T09:31:34.303Z"
   },
   {
    "duration": 93,
    "start_time": "2022-03-23T09:31:34.327Z"
   },
   {
    "duration": 3,
    "start_time": "2022-03-23T09:31:34.421Z"
   },
   {
    "duration": 2531,
    "start_time": "2022-03-23T09:31:34.432Z"
   },
   {
    "duration": 8,
    "start_time": "2022-03-23T09:31:36.965Z"
   },
   {
    "duration": 25,
    "start_time": "2022-03-23T09:31:36.975Z"
   },
   {
    "duration": 93,
    "start_time": "2022-03-23T09:31:37.001Z"
   },
   {
    "duration": 4,
    "start_time": "2022-03-23T09:31:37.095Z"
   },
   {
    "duration": 1680,
    "start_time": "2022-03-23T09:31:37.101Z"
   },
   {
    "duration": 205,
    "start_time": "2022-03-23T09:31:38.782Z"
   },
   {
    "duration": 25681,
    "start_time": "2022-03-23T09:31:38.989Z"
   },
   {
    "duration": 4,
    "start_time": "2022-03-23T09:33:33.755Z"
   },
   {
    "duration": 757,
    "start_time": "2022-03-23T09:33:33.761Z"
   },
   {
    "duration": 4,
    "start_time": "2022-03-23T09:33:34.520Z"
   },
   {
    "duration": 5,
    "start_time": "2022-03-23T09:33:34.532Z"
   },
   {
    "duration": 108,
    "start_time": "2022-03-23T09:33:34.540Z"
   },
   {
    "duration": 3,
    "start_time": "2022-03-23T09:33:34.649Z"
   },
   {
    "duration": 2543,
    "start_time": "2022-03-23T09:33:34.654Z"
   },
   {
    "duration": 16,
    "start_time": "2022-03-23T09:33:37.199Z"
   },
   {
    "duration": 18,
    "start_time": "2022-03-23T09:33:37.217Z"
   },
   {
    "duration": 342,
    "start_time": "2022-03-23T09:33:37.237Z"
   },
   {
    "duration": 0,
    "start_time": "2022-03-23T09:33:37.581Z"
   },
   {
    "duration": 420,
    "start_time": "2022-03-23T09:34:00.879Z"
   },
   {
    "duration": 319,
    "start_time": "2022-03-23T09:34:28.877Z"
   },
   {
    "duration": 373,
    "start_time": "2022-03-23T09:34:35.382Z"
   },
   {
    "duration": 3,
    "start_time": "2022-03-23T09:35:43.470Z"
   },
   {
    "duration": 72,
    "start_time": "2022-03-23T09:35:45.262Z"
   },
   {
    "duration": 3,
    "start_time": "2022-03-23T09:35:46.726Z"
   },
   {
    "duration": 1614,
    "start_time": "2022-03-23T09:36:19.846Z"
   },
   {
    "duration": 199,
    "start_time": "2022-03-23T09:36:23.085Z"
   },
   {
    "duration": 3150,
    "start_time": "2022-03-23T09:36:47.771Z"
   },
   {
    "duration": 8246,
    "start_time": "2022-03-23T09:36:50.923Z"
   },
   {
    "duration": 4,
    "start_time": "2022-03-23T09:36:59.171Z"
   },
   {
    "duration": 8,
    "start_time": "2022-03-23T09:36:59.177Z"
   },
   {
    "duration": 107,
    "start_time": "2022-03-23T09:36:59.187Z"
   },
   {
    "duration": 3,
    "start_time": "2022-03-23T09:36:59.295Z"
   },
   {
    "duration": 4579,
    "start_time": "2022-03-23T09:36:59.300Z"
   },
   {
    "duration": 11,
    "start_time": "2022-03-23T09:37:03.881Z"
   },
   {
    "duration": 8,
    "start_time": "2022-03-23T09:37:03.895Z"
   },
   {
    "duration": 93,
    "start_time": "2022-03-23T09:37:03.906Z"
   },
   {
    "duration": 10,
    "start_time": "2022-03-23T09:37:04.001Z"
   },
   {
    "duration": 1626,
    "start_time": "2022-03-23T09:37:04.012Z"
   },
   {
    "duration": 201,
    "start_time": "2022-03-23T09:37:05.639Z"
   },
   {
    "duration": 23075,
    "start_time": "2022-03-23T09:37:05.842Z"
   },
   {
    "duration": 2035,
    "start_time": "2022-03-23T09:38:18.403Z"
   },
   {
    "duration": 147,
    "start_time": "2022-03-23T09:38:22.158Z"
   },
   {
    "duration": 75203,
    "start_time": "2022-03-23T09:38:24.637Z"
   },
   {
    "duration": 151717,
    "start_time": "2022-03-23T09:42:39.005Z"
   },
   {
    "duration": 2,
    "start_time": "2022-03-23T09:45:15.579Z"
   },
   {
    "duration": 2440122,
    "start_time": "2022-03-23T09:45:24.282Z"
   },
   {
    "duration": 6007,
    "start_time": "2022-03-23T10:26:04.406Z"
   },
   {
    "duration": 118670,
    "start_time": "2022-03-23T10:26:21.582Z"
   },
   {
    "duration": 0,
    "start_time": "2022-03-23T10:28:20.254Z"
   },
   {
    "duration": 105,
    "start_time": "2022-03-23T10:28:47.295Z"
   },
   {
    "duration": 104,
    "start_time": "2022-03-23T10:28:51.177Z"
   },
   {
    "duration": 14,
    "start_time": "2022-03-23T10:31:56.272Z"
   },
   {
    "duration": 1742,
    "start_time": "2022-03-23T10:32:05.097Z"
   },
   {
    "duration": 776,
    "start_time": "2022-03-23T10:32:06.842Z"
   },
   {
    "duration": 4,
    "start_time": "2022-03-23T10:32:07.620Z"
   },
   {
    "duration": 12,
    "start_time": "2022-03-23T10:32:07.626Z"
   },
   {
    "duration": 112,
    "start_time": "2022-03-23T10:32:07.640Z"
   },
   {
    "duration": 3,
    "start_time": "2022-03-23T10:32:07.754Z"
   },
   {
    "duration": 4186,
    "start_time": "2022-03-23T10:32:07.759Z"
   },
   {
    "duration": 7,
    "start_time": "2022-03-23T10:32:11.946Z"
   },
   {
    "duration": 7,
    "start_time": "2022-03-23T10:32:11.955Z"
   },
   {
    "duration": 97,
    "start_time": "2022-03-23T10:32:11.964Z"
   },
   {
    "duration": 4,
    "start_time": "2022-03-23T10:32:12.063Z"
   },
   {
    "duration": 4,
    "start_time": "2022-03-23T10:32:12.069Z"
   },
   {
    "duration": 358,
    "start_time": "2022-03-23T10:32:12.075Z"
   },
   {
    "duration": 0,
    "start_time": "2022-03-23T10:32:12.435Z"
   },
   {
    "duration": 0,
    "start_time": "2022-03-23T10:32:12.435Z"
   },
   {
    "duration": 0,
    "start_time": "2022-03-23T10:32:12.437Z"
   },
   {
    "duration": 0,
    "start_time": "2022-03-23T10:32:12.437Z"
   },
   {
    "duration": 0,
    "start_time": "2022-03-23T10:32:12.438Z"
   },
   {
    "duration": 0,
    "start_time": "2022-03-23T10:32:12.439Z"
   },
   {
    "duration": 0,
    "start_time": "2022-03-23T10:32:12.440Z"
   },
   {
    "duration": 316,
    "start_time": "2022-03-23T10:32:46.575Z"
   },
   {
    "duration": 15428,
    "start_time": "2022-03-23T10:32:50.913Z"
   },
   {
    "duration": 4,
    "start_time": "2022-03-23T10:33:44.526Z"
   },
   {
    "duration": 787,
    "start_time": "2022-03-23T10:33:44.531Z"
   },
   {
    "duration": 4,
    "start_time": "2022-03-23T10:33:45.319Z"
   },
   {
    "duration": 5,
    "start_time": "2022-03-23T10:33:45.332Z"
   },
   {
    "duration": 111,
    "start_time": "2022-03-23T10:33:45.338Z"
   },
   {
    "duration": 3,
    "start_time": "2022-03-23T10:33:45.451Z"
   },
   {
    "duration": 3156,
    "start_time": "2022-03-23T10:33:45.456Z"
   },
   {
    "duration": 7,
    "start_time": "2022-03-23T10:33:48.614Z"
   },
   {
    "duration": 13,
    "start_time": "2022-03-23T10:33:48.623Z"
   },
   {
    "duration": 121,
    "start_time": "2022-03-23T10:33:48.639Z"
   },
   {
    "duration": 397,
    "start_time": "2022-03-23T10:33:48.762Z"
   },
   {
    "duration": 20574,
    "start_time": "2022-03-23T10:33:49.161Z"
   },
   {
    "duration": 18895,
    "start_time": "2022-03-23T10:34:09.739Z"
   },
   {
    "duration": 0,
    "start_time": "2022-03-23T10:34:28.636Z"
   },
   {
    "duration": 0,
    "start_time": "2022-03-23T10:34:28.638Z"
   },
   {
    "duration": 0,
    "start_time": "2022-03-23T10:34:28.639Z"
   },
   {
    "duration": 0,
    "start_time": "2022-03-23T10:34:28.640Z"
   },
   {
    "duration": 0,
    "start_time": "2022-03-23T10:34:28.641Z"
   },
   {
    "duration": 101,
    "start_time": "2022-03-23T10:37:30.657Z"
   },
   {
    "duration": 5,
    "start_time": "2022-03-23T10:37:33.728Z"
   },
   {
    "duration": 7783,
    "start_time": "2022-03-23T10:37:35.753Z"
   },
   {
    "duration": 5,
    "start_time": "2022-03-23T10:37:56.830Z"
   },
   {
    "duration": 957,
    "start_time": "2022-03-23T10:37:56.837Z"
   },
   {
    "duration": 4,
    "start_time": "2022-03-23T10:37:57.796Z"
   },
   {
    "duration": 11,
    "start_time": "2022-03-23T10:37:57.802Z"
   },
   {
    "duration": 96,
    "start_time": "2022-03-23T10:37:57.815Z"
   },
   {
    "duration": 2,
    "start_time": "2022-03-23T10:37:57.913Z"
   },
   {
    "duration": 3080,
    "start_time": "2022-03-23T10:37:57.932Z"
   },
   {
    "duration": 9,
    "start_time": "2022-03-23T10:38:01.013Z"
   },
   {
    "duration": 7,
    "start_time": "2022-03-23T10:38:01.032Z"
   },
   {
    "duration": 116,
    "start_time": "2022-03-23T10:38:01.042Z"
   },
   {
    "duration": 380,
    "start_time": "2022-03-23T10:38:01.160Z"
   },
   {
    "duration": 4,
    "start_time": "2022-03-23T10:38:01.542Z"
   },
   {
    "duration": 35794,
    "start_time": "2022-03-23T10:38:01.547Z"
   },
   {
    "duration": 15103,
    "start_time": "2022-03-23T10:38:37.434Z"
   },
   {
    "duration": 775,
    "start_time": "2022-03-23T10:38:52.542Z"
   },
   {
    "duration": 0,
    "start_time": "2022-03-23T10:38:53.319Z"
   },
   {
    "duration": 0,
    "start_time": "2022-03-23T10:38:53.321Z"
   },
   {
    "duration": 0,
    "start_time": "2022-03-23T10:38:53.322Z"
   },
   {
    "duration": 0,
    "start_time": "2022-03-23T10:38:53.323Z"
   },
   {
    "duration": 3,
    "start_time": "2022-03-23T10:42:55.770Z"
   },
   {
    "duration": 37646,
    "start_time": "2022-03-23T10:42:56.898Z"
   },
   {
    "duration": 125624,
    "start_time": "2022-03-23T10:45:42.142Z"
   },
   {
    "duration": 5,
    "start_time": "2022-03-23T10:48:08.084Z"
   },
   {
    "duration": 759,
    "start_time": "2022-03-23T10:48:08.091Z"
   },
   {
    "duration": 4,
    "start_time": "2022-03-23T10:48:08.853Z"
   },
   {
    "duration": 5,
    "start_time": "2022-03-23T10:48:08.860Z"
   },
   {
    "duration": 103,
    "start_time": "2022-03-23T10:48:08.867Z"
   },
   {
    "duration": 81238,
    "start_time": "2022-03-23T10:48:08.972Z"
   },
   {
    "duration": 8,
    "start_time": "2022-03-23T10:49:30.211Z"
   },
   {
    "duration": 71,
    "start_time": "2022-03-23T10:49:30.220Z"
   },
   {
    "duration": 3,
    "start_time": "2022-03-23T10:50:01.771Z"
   },
   {
    "duration": 731,
    "start_time": "2022-03-23T10:50:01.776Z"
   },
   {
    "duration": 4,
    "start_time": "2022-03-23T10:50:02.509Z"
   },
   {
    "duration": 5,
    "start_time": "2022-03-23T10:50:02.515Z"
   },
   {
    "duration": 114,
    "start_time": "2022-03-23T10:50:02.532Z"
   },
   {
    "duration": 80562,
    "start_time": "2022-03-23T10:50:02.648Z"
   },
   {
    "duration": 21,
    "start_time": "2022-03-23T10:51:23.212Z"
   },
   {
    "duration": 76,
    "start_time": "2022-03-23T10:51:23.235Z"
   },
   {
    "duration": 3688,
    "start_time": "2022-03-23T10:52:13.415Z"
   },
   {
    "duration": 7961,
    "start_time": "2022-03-23T10:52:17.106Z"
   },
   {
    "duration": 5,
    "start_time": "2022-03-23T10:52:25.068Z"
   },
   {
    "duration": 10,
    "start_time": "2022-03-23T10:52:25.075Z"
   },
   {
    "duration": 152,
    "start_time": "2022-03-23T10:52:25.088Z"
   },
   {
    "duration": 85302,
    "start_time": "2022-03-23T10:52:25.242Z"
   },
   {
    "duration": 8,
    "start_time": "2022-03-23T10:53:50.546Z"
   },
   {
    "duration": 63,
    "start_time": "2022-03-23T10:53:50.555Z"
   },
   {
    "duration": 2076,
    "start_time": "2022-03-23T10:53:50.619Z"
   },
   {
    "duration": 9481,
    "start_time": "2022-03-23T10:53:52.696Z"
   },
   {
    "duration": 3,
    "start_time": "2022-03-23T10:54:02.179Z"
   },
   {
    "duration": 795883,
    "start_time": "2022-03-23T10:54:02.183Z"
   },
   {
    "duration": 425765,
    "start_time": "2022-03-23T11:07:18.068Z"
   },
   {
    "duration": 2975,
    "start_time": "2022-03-24T11:32:43.860Z"
   },
   {
    "duration": 775,
    "start_time": "2022-03-24T11:32:46.838Z"
   },
   {
    "duration": 4,
    "start_time": "2022-03-24T11:32:47.614Z"
   },
   {
    "duration": 23,
    "start_time": "2022-03-24T11:32:47.620Z"
   },
   {
    "duration": 134,
    "start_time": "2022-03-24T11:32:47.645Z"
   },
   {
    "duration": 97884,
    "start_time": "2022-03-24T11:32:47.781Z"
   },
   {
    "duration": 9,
    "start_time": "2022-03-24T11:34:25.667Z"
   },
   {
    "duration": 87,
    "start_time": "2022-03-24T11:34:25.677Z"
   },
   {
    "duration": 2396,
    "start_time": "2022-03-24T11:34:25.767Z"
   },
   {
    "duration": 14098,
    "start_time": "2022-03-24T11:34:28.166Z"
   },
   {
    "duration": 101,
    "start_time": "2022-03-24T11:34:42.266Z"
   },
   {
    "duration": 5,
    "start_time": "2022-03-24T11:34:54.096Z"
   },
   {
    "duration": 376977,
    "start_time": "2022-03-24T11:34:56.282Z"
   },
   {
    "duration": 11168,
    "start_time": "2022-03-24T11:41:19.604Z"
   },
   {
    "duration": 10122,
    "start_time": "2022-03-24T11:42:09.750Z"
   },
   {
    "duration": 10512,
    "start_time": "2022-03-24T11:42:39.308Z"
   },
   {
    "duration": 3123,
    "start_time": "2022-03-24T11:43:21.109Z"
   },
   {
    "duration": 4,
    "start_time": "2022-03-24T11:44:07.160Z"
   },
   {
    "duration": 742,
    "start_time": "2022-03-24T11:44:07.166Z"
   },
   {
    "duration": 4,
    "start_time": "2022-03-24T11:44:07.910Z"
   },
   {
    "duration": 39,
    "start_time": "2022-03-24T11:44:07.916Z"
   },
   {
    "duration": 115,
    "start_time": "2022-03-24T11:44:07.957Z"
   },
   {
    "duration": 109363,
    "start_time": "2022-03-24T11:44:08.073Z"
   },
   {
    "duration": 11,
    "start_time": "2022-03-24T11:45:57.438Z"
   },
   {
    "duration": 140,
    "start_time": "2022-03-24T11:45:57.451Z"
   },
   {
    "duration": 2933,
    "start_time": "2022-03-24T11:46:23.233Z"
   },
   {
    "duration": 993,
    "start_time": "2022-03-24T11:46:26.168Z"
   },
   {
    "duration": 5,
    "start_time": "2022-03-24T11:46:27.163Z"
   },
   {
    "duration": 13,
    "start_time": "2022-03-24T11:46:27.171Z"
   },
   {
    "duration": 120,
    "start_time": "2022-03-24T11:46:27.185Z"
   },
   {
    "duration": 102673,
    "start_time": "2022-03-24T11:46:27.307Z"
   },
   {
    "duration": 9,
    "start_time": "2022-03-24T11:48:09.981Z"
   },
   {
    "duration": 71,
    "start_time": "2022-03-24T11:48:09.992Z"
   },
   {
    "duration": 2229,
    "start_time": "2022-03-24T11:48:10.065Z"
   },
   {
    "duration": 11852,
    "start_time": "2022-03-24T11:48:12.297Z"
   },
   {
    "duration": 5,
    "start_time": "2022-03-24T11:48:24.151Z"
   },
   {
    "duration": 370197,
    "start_time": "2022-03-24T11:48:24.158Z"
   },
   {
    "duration": 11569,
    "start_time": "2022-03-24T11:54:34.357Z"
   },
   {
    "duration": 3009,
    "start_time": "2022-03-24T11:54:45.935Z"
   }
  ],
  "kernelspec": {
   "display_name": "Python 3",
   "language": "python",
   "name": "python3"
  },
  "language_info": {
   "codemirror_mode": {
    "name": "ipython",
    "version": 3
   },
   "file_extension": ".py",
   "mimetype": "text/x-python",
   "name": "python",
   "nbconvert_exporter": "python",
   "pygments_lexer": "ipython3",
   "version": "3.8.8"
  },
  "toc": {
   "base_numbering": 1,
   "nav_menu": {},
   "number_sections": true,
   "sideBar": true,
   "skip_h1_title": true,
   "title_cell": "Содержание",
   "title_sidebar": "Contents",
   "toc_cell": true,
   "toc_position": {
    "height": "calc(100% - 180px)",
    "left": "10px",
    "top": "150px",
    "width": "302.391px"
   },
   "toc_section_display": true,
   "toc_window_display": false
  }
 },
 "nbformat": 4,
 "nbformat_minor": 2
}
